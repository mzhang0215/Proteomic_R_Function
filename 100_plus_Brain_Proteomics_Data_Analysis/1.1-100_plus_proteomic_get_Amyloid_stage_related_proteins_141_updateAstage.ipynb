{
 "cells": [
  {
   "cell_type": "code",
   "execution_count": 1,
   "metadata": {},
   "outputs": [
    {
     "name": "stderr",
     "output_type": "stream",
     "text": [
      "Loading required package: mgcv\n",
      "Loading required package: nlme\n",
      "This is mgcv 1.8-31. For overview type 'help(\"mgcv-package\")'.\n",
      "Loading required package: genefilter\n",
      "Loading required package: BiocParallel\n",
      "Loading required package: grid\n",
      "Loading required package: futile.logger\n",
      "\n",
      "Attaching package: ‘futile.logger’\n",
      "\n",
      "The following object is masked from ‘package:mgcv’:\n",
      "\n",
      "    scat\n",
      "\n",
      "\n",
      "Attaching package: ‘VennDiagram’\n",
      "\n",
      "The following object is masked from ‘package:ape’:\n",
      "\n",
      "    rotate\n",
      "\n",
      "\n",
      "Attaching package: ‘MASS’\n",
      "\n",
      "The following object is masked from ‘package:genefilter’:\n",
      "\n",
      "    area\n",
      "\n",
      "Loading required package: SparseM\n",
      "\n",
      "Attaching package: ‘SparseM’\n",
      "\n",
      "The following object is masked from ‘package:base’:\n",
      "\n",
      "    backsolve\n",
      "\n",
      "\n",
      "Attaching package: ‘gplots’\n",
      "\n",
      "The following object is masked from ‘package:stats’:\n",
      "\n",
      "    lowess\n",
      "\n",
      "\n",
      "---------------------\n",
      "Welcome to dendextend version 1.13.4\n",
      "Type citation('dendextend') for how to cite the package.\n",
      "\n",
      "Type browseVignettes(package = 'dendextend') for the package vignette.\n",
      "The github page is: https://github.com/talgalili/dendextend/\n",
      "\n",
      "Suggestions and bug-reports can be submitted at: https://github.com/talgalili/dendextend/issues\n",
      "Or contact: <tal.galili@gmail.com>\n",
      "\n",
      "\tTo suppress this message use:  suppressPackageStartupMessages(library(dendextend))\n",
      "---------------------\n",
      "\n",
      "\n",
      "Attaching package: ‘dendextend’\n",
      "\n",
      "The following object is masked from ‘package:VennDiagram’:\n",
      "\n",
      "    rotate\n",
      "\n",
      "The following objects are masked from ‘package:ape’:\n",
      "\n",
      "    ladderize, rotate\n",
      "\n",
      "The following object is masked from ‘package:data.table’:\n",
      "\n",
      "    set\n",
      "\n",
      "The following object is masked from ‘package:stats’:\n",
      "\n",
      "    cutree\n",
      "\n",
      "Loading required package: BiocGenerics\n",
      "Loading required package: parallel\n",
      "\n",
      "Attaching package: ‘BiocGenerics’\n",
      "\n",
      "The following objects are masked from ‘package:parallel’:\n",
      "\n",
      "    clusterApply, clusterApplyLB, clusterCall, clusterEvalQ,\n",
      "    clusterExport, clusterMap, parApply, parCapply, parLapply,\n",
      "    parLapplyLB, parRapply, parSapply, parSapplyLB\n",
      "\n",
      "The following object is masked from ‘package:limma’:\n",
      "\n",
      "    plotMA\n",
      "\n",
      "The following objects are masked from ‘package:stats’:\n",
      "\n",
      "    IQR, mad, sd, var, xtabs\n",
      "\n",
      "The following objects are masked from ‘package:base’:\n",
      "\n",
      "    Filter, Find, Map, Position, Reduce, anyDuplicated, append,\n",
      "    as.data.frame, basename, cbind, colnames, dirname, do.call,\n",
      "    duplicated, eval, evalq, get, grep, grepl, intersect, is.unsorted,\n",
      "    lapply, mapply, match, mget, order, paste, pmax, pmax.int, pmin,\n",
      "    pmin.int, rank, rbind, rownames, sapply, setdiff, sort, table,\n",
      "    tapply, union, unique, unsplit, which, which.max, which.min\n",
      "\n",
      "Loading required package: graph\n",
      "\n",
      "Attaching package: ‘graph’\n",
      "\n",
      "The following object is masked from ‘package:amap’:\n",
      "\n",
      "    Dist\n",
      "\n",
      "The following objects are masked from ‘package:ape’:\n",
      "\n",
      "    complement, edges\n",
      "\n",
      "The following object is masked from ‘package:stringr’:\n",
      "\n",
      "    boundary\n",
      "\n",
      "Loading required package: Biobase\n",
      "Welcome to Bioconductor\n",
      "\n",
      "    Vignettes contain introductory material; view with\n",
      "    'browseVignettes()'. To cite Bioconductor, see\n",
      "    'citation(\"Biobase\")', and for packages 'citation(\"pkgname\")'.\n",
      "\n",
      "Loading required package: GO.db\n",
      "Loading required package: AnnotationDbi\n",
      "Loading required package: stats4\n",
      "Loading required package: IRanges\n",
      "Loading required package: S4Vectors\n",
      "\n",
      "Attaching package: ‘S4Vectors’\n",
      "\n",
      "The following object is masked from ‘package:gplots’:\n",
      "\n",
      "    space\n",
      "\n",
      "The following objects are masked from ‘package:data.table’:\n",
      "\n",
      "    first, second\n",
      "\n",
      "The following object is masked from ‘package:base’:\n",
      "\n",
      "    expand.grid\n",
      "\n",
      "\n",
      "Attaching package: ‘IRanges’\n",
      "\n",
      "The following object is masked from ‘package:nlme’:\n",
      "\n",
      "    collapse\n",
      "\n",
      "The following object is masked from ‘package:data.table’:\n",
      "\n",
      "    shift\n",
      "\n",
      "\n",
      "Attaching package: ‘AnnotationDbi’\n",
      "\n",
      "The following object is masked from ‘package:MASS’:\n",
      "\n",
      "    select\n",
      "\n",
      "\n",
      "\n",
      "groupGOTerms: \tGOBPTerm, GOMFTerm, GOCCTerm environments built.\n",
      "\n",
      "Attaching package: ‘topGO’\n",
      "\n",
      "The following object is masked from ‘package:IRanges’:\n",
      "\n",
      "    members\n",
      "\n",
      "The following object is masked from ‘package:grid’:\n",
      "\n",
      "    depth\n",
      "\n",
      "Welcome! Want to learn more? See two factoextra-related books at https://goo.gl/ve3WBa\n",
      "\n",
      "Attaching package: ‘dplyr’\n",
      "\n",
      "The following object is masked from ‘package:AnnotationDbi’:\n",
      "\n",
      "    select\n",
      "\n",
      "The following objects are masked from ‘package:IRanges’:\n",
      "\n",
      "    collapse, desc, intersect, setdiff, slice, union\n",
      "\n",
      "The following objects are masked from ‘package:S4Vectors’:\n",
      "\n",
      "    first, intersect, rename, setdiff, setequal, union\n",
      "\n",
      "The following object is masked from ‘package:Biobase’:\n",
      "\n",
      "    combine\n",
      "\n",
      "The following object is masked from ‘package:graph’:\n",
      "\n",
      "    union\n",
      "\n",
      "The following objects are masked from ‘package:BiocGenerics’:\n",
      "\n",
      "    combine, intersect, setdiff, union\n",
      "\n",
      "The following object is masked from ‘package:MASS’:\n",
      "\n",
      "    select\n",
      "\n",
      "The following object is masked from ‘package:nlme’:\n",
      "\n",
      "    collapse\n",
      "\n",
      "The following objects are masked from ‘package:data.table’:\n",
      "\n",
      "    between, first, last\n",
      "\n",
      "The following objects are masked from ‘package:stats’:\n",
      "\n",
      "    filter, lag\n",
      "\n",
      "The following objects are masked from ‘package:base’:\n",
      "\n",
      "    intersect, setdiff, setequal, union\n",
      "\n",
      "------------------------------------------------------------------------------\n",
      "You have loaded plyr after dplyr - this is likely to cause problems.\n",
      "If you need functions from both plyr and dplyr, please load plyr first, then dplyr:\n",
      "library(plyr); library(dplyr)\n",
      "------------------------------------------------------------------------------\n",
      "\n",
      "Attaching package: ‘plyr’\n",
      "\n",
      "The following objects are masked from ‘package:dplyr’:\n",
      "\n",
      "    arrange, count, desc, failwith, id, mutate, rename, summarise,\n",
      "    summarize\n",
      "\n",
      "The following object is masked from ‘package:IRanges’:\n",
      "\n",
      "    desc\n",
      "\n",
      "The following object is masked from ‘package:S4Vectors’:\n",
      "\n",
      "    rename\n",
      "\n",
      "The following object is masked from ‘package:graph’:\n",
      "\n",
      "    join\n",
      "\n",
      "\n",
      "Attaching package: ‘patchwork’\n",
      "\n",
      "The following object is masked from ‘package:cowplot’:\n",
      "\n",
      "    align_plots\n",
      "\n",
      "The following object is masked from ‘package:MASS’:\n",
      "\n",
      "    area\n",
      "\n",
      "The following object is masked from ‘package:genefilter’:\n",
      "\n",
      "    area\n",
      "\n"
     ]
    }
   ],
   "source": [
    "library(data.table)\n",
    "library(stringr)\n",
    "library(pheatmap)\n",
    "library(ape)\n",
    "library(ggplot2)\n",
    "library(Rtsne)\n",
    "library(sva)\n",
    "library(VennDiagram)\n",
    "library(readxl)\n",
    "library(energy)\n",
    "library(MASS)\n",
    "library(quantreg)\n",
    "library(limma)\n",
    "library(Glimma)\n",
    "library(edgeR)\n",
    "library(RColorBrewer)\n",
    "library(minerva)\n",
    "library(dbscan)\n",
    "library(amap)\n",
    "library(NbClust)\n",
    "library(apeglm)\n",
    "library(gplots)\n",
    "library(colorspace)\n",
    "library(dendextend)\n",
    "library(data.table)\n",
    "library(topGO)\n",
    "library(treemap)\n",
    "library(factoextra)\n",
    "library(ggrepel)\n",
    "library(dplyr)\n",
    "library(plyr)\n",
    "library(cowplot)\n",
    "library(patchwork)\n",
    "library(xlsx)"
   ]
  },
  {
   "cell_type": "code",
   "execution_count": 2,
   "metadata": {},
   "outputs": [],
   "source": [
    "options(java.parameters = \"- Xmx1024m\")"
   ]
  },
  {
   "cell_type": "code",
   "execution_count": null,
   "metadata": {},
   "outputs": [],
   "source": []
  },
  {
   "cell_type": "code",
   "execution_count": 3,
   "metadata": {},
   "outputs": [],
   "source": [
    "color_AD <- \"#FF3300\"\n",
    "color_ND <- \"blue\"\n",
    "color_CHC_H <- color_ND\n",
    "color_CHC_M <- \"#FFCC00\"\n",
    "color_CHC_L <- \"#FF3300\"\n",
    "font_size <- 10\n",
    "font_size_add <- 2\n",
    "\n",
    "circle_size_1 <- 2\n",
    "circle_size_2 <- 3"
   ]
  },
  {
   "cell_type": "code",
   "execution_count": 4,
   "metadata": {},
   "outputs": [],
   "source": [
    "setwd(\"~/ownCloud/Meng/\")"
   ]
  },
  {
   "cell_type": "code",
   "execution_count": null,
   "metadata": {},
   "outputs": [],
   "source": []
  },
  {
   "cell_type": "code",
   "execution_count": 5,
   "metadata": {},
   "outputs": [],
   "source": [
    "load(\"100_plus_project/Metadata/metadata_imp_20230223.Rdata\")\n",
    "metadata <- metadata_imp"
   ]
  },
  {
   "cell_type": "code",
   "execution_count": null,
   "metadata": {},
   "outputs": [],
   "source": []
  },
  {
   "cell_type": "code",
   "execution_count": 6,
   "metadata": {},
   "outputs": [
    {
     "data": {
      "text/html": [
       "<style>\n",
       ".list-inline {list-style: none; margin:0; padding: 0}\n",
       ".list-inline>li {display: inline-block}\n",
       ".list-inline>li:not(:last-child)::after {content: \"\\00b7\"; padding: 0 .5ex}\n",
       "</style>\n",
       "<ol class=list-inline><li>3448</li><li>191</li></ol>\n"
      ],
      "text/latex": [
       "\\begin{enumerate*}\n",
       "\\item 3448\n",
       "\\item 191\n",
       "\\end{enumerate*}\n"
      ],
      "text/markdown": [
       "1. 3448\n",
       "2. 191\n",
       "\n",
       "\n"
      ],
      "text/plain": [
       "[1] 3448  191"
      ]
     },
     "metadata": {},
     "output_type": "display_data"
    }
   ],
   "source": [
    "High_quality_protein_intensity_matrix <- read.table('R_workstation/100_plus_proteomic_DATA/High_quality_protein_intensity_matrix.tsv', header =TRUE,\n",
    "                                                    stringsAsFactors=F, sep = \"\\t\")\n",
    "dim(High_quality_protein_intensity_matrix)"
   ]
  },
  {
   "cell_type": "code",
   "execution_count": 7,
   "metadata": {},
   "outputs": [
    {
     "data": {
      "text/plain": [
       "     nbb              autopsy              sex                 age       \n",
       " Length:190         Length:190         Length:190         Min.   : 50.0  \n",
       " Class :character   Class :character   Class :character   1st Qu.: 78.0  \n",
       " Mode  :character   Mode  :character   Mode  :character   Median : 89.0  \n",
       "                                                          Mean   : 86.8  \n",
       "                                                          3rd Qu.:100.0  \n",
       "                                                          Max.   :111.0  \n",
       "    weight             GROUP               pmd                braak      \n",
       " Length:190         Length:190         Length:190         Min.   :0.000  \n",
       " Class :character   Class :character   Class :character   1st Qu.:2.000  \n",
       " Mode  :character   Mode  :character   Mode  :character   Median :4.000  \n",
       "                                                          Mean   :3.611  \n",
       "                                                          3rd Qu.:5.000  \n",
       "                                                          Max.   :6.000  \n",
       "    amyloid          apoe            filenames             fBraak     \n",
       " Min.   :0.000   Length:190         Length:190         Min.   :1.000  \n",
       " 1st Qu.:1.000   Class :character   Class :character   1st Qu.:2.000  \n",
       " Median :3.000   Mode  :character   Mode  :character   Median :4.000  \n",
       " Mean   :2.126                                         Mean   :3.642  \n",
       " 3rd Qu.:3.000                                         3rd Qu.:5.000  \n",
       " Max.   :3.000                                         Max.   :6.000  \n",
       "     cBraak       O_amyloid            apoe_OR        pmd_numeric    \n",
       " Min.   :1.000   Length:190         Min.   : 0.600   Min.   : 2.000  \n",
       " 1st Qu.:1.000   Class :character   1st Qu.: 1.000   1st Qu.: 4.667  \n",
       " Median :2.000   Mode  :character   Median : 1.000   Median : 5.667  \n",
       " Mean   :2.105                      Mean   : 1.721   Mean   : 5.870  \n",
       " 3rd Qu.:3.000                      3rd Qu.: 3.200   3rd Qu.: 6.812  \n",
       " Max.   :3.000                      Max.   :14.900   Max.   :12.250  "
      ]
     },
     "metadata": {},
     "output_type": "display_data"
    }
   ],
   "source": [
    "summary(metadata)"
   ]
  },
  {
   "cell_type": "code",
   "execution_count": 48,
   "metadata": {},
   "outputs": [
    {
     "data": {
      "text/plain": [
       "   \n",
       "    AD CHC ND\n",
       "  1  0   1 28\n",
       "  2  0   6 17\n",
       "  3  0  24  8\n",
       "  4 20  14  0\n",
       "  5 43   4  0\n",
       "  6 25   0  0"
      ]
     },
     "metadata": {},
     "output_type": "display_data"
    }
   ],
   "source": [
    "table(metadata$fBraak, metadata$GROUP)"
   ]
  },
  {
   "cell_type": "code",
   "execution_count": 9,
   "metadata": {},
   "outputs": [
    {
     "data": {
      "text/html": [
       "<table>\n",
       "<caption>A data.frame: 190 × 16</caption>\n",
       "<thead>\n",
       "\t<tr><th></th><th scope=col>nbb</th><th scope=col>autopsy</th><th scope=col>sex</th><th scope=col>age</th><th scope=col>weight</th><th scope=col>GROUP</th><th scope=col>pmd</th><th scope=col>braak</th><th scope=col>amyloid</th><th scope=col>apoe</th><th scope=col>filenames</th><th scope=col>fBraak</th><th scope=col>cBraak</th><th scope=col>O_amyloid</th><th scope=col>apoe_OR</th><th scope=col>pmd_numeric</th></tr>\n",
       "\t<tr><th></th><th scope=col>&lt;chr&gt;</th><th scope=col>&lt;chr&gt;</th><th scope=col>&lt;chr&gt;</th><th scope=col>&lt;dbl&gt;</th><th scope=col>&lt;chr&gt;</th><th scope=col>&lt;chr&gt;</th><th scope=col>&lt;chr&gt;</th><th scope=col>&lt;dbl&gt;</th><th scope=col>&lt;dbl&gt;</th><th scope=col>&lt;chr&gt;</th><th scope=col>&lt;chr&gt;</th><th scope=col>&lt;dbl&gt;</th><th scope=col>&lt;dbl&gt;</th><th scope=col>&lt;chr&gt;</th><th scope=col>&lt;dbl&gt;</th><th scope=col>&lt;dbl&gt;</th></tr>\n",
       "</thead>\n",
       "<tbody>\n",
       "\t<tr><th scope=row>121</th><td>2016-020  </td><td>S16/020   </td><td>F</td><td>102</td><td>955 </td><td>CHC</td><td>06:10</td><td>2</td><td>1</td><td>23</td><td>20190325_121_S16_020_CHC_011  </td><td>2</td><td>1</td><td>A</td><td>0.6</td><td> 6.166667</td></tr>\n",
       "\t<tr><th scope=row>125</th><td>2016-044  </td><td>S16/044   </td><td>F</td><td>102</td><td>1015</td><td>CHC</td><td>05:17</td><td>3</td><td>3</td><td>33</td><td>20190325_125_S16_044_CHC_007  </td><td>3</td><td>2</td><td>C</td><td>1.0</td><td> 5.283333</td></tr>\n",
       "\t<tr><th scope=row>127</th><td>2016-094  </td><td>S16/094   </td><td>F</td><td>104</td><td>1045</td><td>CHC</td><td>07:55</td><td>3</td><td>1</td><td>33</td><td>20190325_127_S16_094_CHC_004  </td><td>3</td><td>2</td><td>A</td><td>1.0</td><td> 7.916667</td></tr>\n",
       "\t<tr><th scope=row>16</th><td>2004-011  </td><td>04/037    </td><td>F</td><td> 84</td><td>1017</td><td>AD </td><td>05:55</td><td>5</td><td>3</td><td>33</td><td>20190325_16_04_037_AD_008     </td><td>5</td><td>3</td><td>C</td><td>1.0</td><td> 5.916667</td></tr>\n",
       "\t<tr><th scope=row>182</th><td>2010-101  </td><td>S10/292   </td><td>M</td><td> 64</td><td>1233</td><td>AD </td><td>04:35</td><td>6</td><td>3</td><td>32</td><td>20190325_183_S10_292_AD_010   </td><td>6</td><td>3</td><td>C</td><td>0.6</td><td> 4.583333</td></tr>\n",
       "\t<tr><th scope=row>193</th><td>2002-024  </td><td>S02/055   </td><td>F</td><td> 75</td><td>1153</td><td>ND </td><td>05:30</td><td>1</td><td>3</td><td>42</td><td>20190325_194_S02_055_ND_005   </td><td>1</td><td>1</td><td>C</td><td>2.6</td><td> 5.500000</td></tr>\n",
       "\t<tr><th scope=row>31</th><td>2001-081  </td><td>01/184    </td><td>F</td><td> 93</td><td>1010</td><td>AD </td><td>05:05</td><td>5</td><td>3</td><td>33</td><td>20190325_31_01_184_AD_006     </td><td>5</td><td>3</td><td>C</td><td>1.0</td><td> 5.083333</td></tr>\n",
       "\t<tr><th scope=row>57</th><td>1997-091  </td><td>S97/235   </td><td>F</td><td> 85</td><td>1000</td><td>AD </td><td>02:00</td><td>5</td><td>3</td><td>43</td><td>20190325_57_S97_235_AD_003    </td><td>5</td><td>3</td><td>C</td><td>3.2</td><td> 2.000000</td></tr>\n",
       "\t<tr><th scope=row>77</th><td>2011-072  </td><td>S11/072   </td><td>F</td><td> 76</td><td>1072</td><td>ND </td><td>07:15</td><td>2</td><td>0</td><td>33</td><td>20190325_77_S11_072_ND_012    </td><td>2</td><td>1</td><td>O</td><td>1.0</td><td> 7.250000</td></tr>\n",
       "\t<tr><th scope=row>79</th><td>2007-082  </td><td>S07/308   </td><td>M</td><td> 81</td><td>1194</td><td>ND </td><td>07:55</td><td>2</td><td>0</td><td>33</td><td>20190325_79_S07_308_ND_009    </td><td>2</td><td>1</td><td>O</td><td>1.0</td><td> 7.916667</td></tr>\n",
       "\t<tr><th scope=row>95</th><td>2005-060  </td><td>S05/217   </td><td>M</td><td> 91</td><td>1188</td><td>ND </td><td>08:00</td><td>1</td><td>2</td><td>33</td><td>20190325_95_S05_217_ND_002    </td><td>1</td><td>1</td><td>B</td><td>1.0</td><td> 8.000000</td></tr>\n",
       "\t<tr><th scope=row>123</th><td>2016-032  </td><td>S16/032   </td><td>M</td><td>101</td><td>1060</td><td>CHC</td><td>05:30</td><td>3</td><td>1</td><td>34</td><td>20190326_123_S16_032_CHC_020  </td><td>3</td><td>2</td><td>A</td><td>3.2</td><td> 5.500000</td></tr>\n",
       "\t<tr><th scope=row>136</th><td>2017-014  </td><td>S17/014   </td><td>F</td><td>108</td><td>940 </td><td>CHC</td><td>06:10</td><td>2</td><td>1</td><td>33</td><td>20190326_136_2017_014_CHC_014 </td><td>2</td><td>1</td><td>A</td><td>1.0</td><td> 6.166667</td></tr>\n",
       "\t<tr><th scope=row>151</th><td>2017-129  </td><td>S17/129   </td><td>F</td><td>107</td><td>1130</td><td>CHC</td><td>05:40</td><td>3</td><td>1</td><td>33</td><td>20190326_151_2017_129_CHC_017 </td><td>3</td><td>2</td><td>A</td><td>1.0</td><td> 5.666667</td></tr>\n",
       "\t<tr><th scope=row>177</th><td>2004-030  </td><td>S04/088   </td><td>F</td><td> 89</td><td>962 </td><td>AD </td><td>04:40</td><td>5</td><td>3</td><td>43</td><td>20190326_176_S04_088_AD_021   </td><td>5</td><td>3</td><td>C</td><td>3.2</td><td> 4.666667</td></tr>\n",
       "\t<tr><th scope=row>194</th><td>2003-013  </td><td>S03/035   </td><td>F</td><td> 82</td><td>1175</td><td>ND </td><td>11:30</td><td>1</td><td>0</td><td>33</td><td>20190326_195_S03_035_ND_024   </td><td>1</td><td>1</td><td>O</td><td>1.0</td><td>11.500000</td></tr>\n",
       "\t<tr><th scope=row>200</th><td>2008-106  </td><td>S08/325   </td><td>F</td><td> 87</td><td>1010</td><td>ND </td><td>05:00</td><td>2</td><td>0</td><td>33</td><td>20190326_201_S08_325_ND_019   </td><td>2</td><td>1</td><td>O</td><td>1.0</td><td> 5.000000</td></tr>\n",
       "\t<tr><th scope=row>202</th><td>2009-022  </td><td>S09/067   </td><td>F</td><td> 77</td><td>1111</td><td>ND </td><td>02:55</td><td>1</td><td>2</td><td>33</td><td>20190326_203_S09_067_ND_016   </td><td>1</td><td>1</td><td>B</td><td>1.0</td><td> 2.916667</td></tr>\n",
       "\t<tr><th scope=row>219</th><td>SVU 10-277</td><td>SVU 10/277</td><td>M</td><td> 50</td><td>NA  </td><td>ND </td><td>NA   </td><td>1</td><td>1</td><td>33</td><td>20190326_220_SVU10_277_ND_022 </td><td>1</td><td>1</td><td>A</td><td>1.0</td><td> 5.666667</td></tr>\n",
       "\t<tr><th scope=row>4</th><td>2005-029  </td><td>S05/106   </td><td>M</td><td> 67</td><td>1252</td><td>AD </td><td>04:10</td><td>5</td><td>3</td><td>33</td><td>20190326_4_S05_106_AD_015     </td><td>5</td><td>3</td><td>C</td><td>1.0</td><td> 4.166667</td></tr>\n",
       "\t<tr><th scope=row>74</th><td>2001-019  </td><td>01/059    </td><td>F</td><td> 92</td><td>1066</td><td>AD </td><td>04:55</td><td>5</td><td>3</td><td>43</td><td>20190326_74_01_059_AD_013     </td><td>5</td><td>3</td><td>C</td><td>3.2</td><td> 4.916667</td></tr>\n",
       "\t<tr><th scope=row>100</th><td>2014-051  </td><td>S14/051   </td><td>M</td><td> 92</td><td>1210</td><td>ND </td><td>07:45</td><td>3</td><td>2</td><td>33</td><td>20190328_100_S14_051_ND_032   </td><td>3</td><td>2</td><td>B</td><td>1.0</td><td> 7.750000</td></tr>\n",
       "\t<tr><th scope=row>108</th><td>859       </td><td>NABCA15-08</td><td>M</td><td> 72</td><td>1355</td><td>ND </td><td>11:45</td><td>0</td><td>1</td><td>33</td><td>20190328_108_NABCA15_08_ND_028</td><td>1</td><td>1</td><td>A</td><td>1.0</td><td>11.750000</td></tr>\n",
       "\t<tr><th scope=row>120</th><td>2016-008  </td><td>S16/008   </td><td>M</td><td>102</td><td>1075</td><td>CHC</td><td>07:45</td><td>4</td><td>3</td><td>33</td><td>20190328_120_S16_008_CHC_030  </td><td>4</td><td>2</td><td>C</td><td>1.0</td><td> 7.750000</td></tr>\n",
       "\t<tr><th scope=row>126</th><td>2016-058  </td><td>S16/058   </td><td>F</td><td>103</td><td>1010</td><td>CHC</td><td>05:55</td><td>1</td><td>0</td><td>23</td><td>20190328_126_S16_058_CHC_036  </td><td>1</td><td>1</td><td>O</td><td>0.6</td><td> 5.916667</td></tr>\n",
       "\t<tr><th scope=row>12</th><td>2000-099  </td><td>S00/206   </td><td>F</td><td> 78</td><td>920 </td><td>AD </td><td>03:35</td><td>6</td><td>3</td><td>33</td><td>20190328_12_S00_206_AD_031    </td><td>6</td><td>3</td><td>C</td><td>1.0</td><td> 3.583333</td></tr>\n",
       "\t<tr><th scope=row>130</th><td>2016-109  </td><td>S16/109   </td><td>M</td><td>102</td><td>1205</td><td>CHC</td><td>04:05</td><td>3</td><td>2</td><td>33</td><td>20190328_130_S16_109_CHC_034  </td><td>3</td><td>2</td><td>B</td><td>1.0</td><td> 4.083333</td></tr>\n",
       "\t<tr><th scope=row>143</th><td>2017-053  </td><td>S17/053   </td><td>F</td><td>102</td><td>1090</td><td>CHC</td><td>10:45</td><td>3</td><td>1</td><td>33</td><td>20190328_143_2017_053_CHC_026 </td><td>3</td><td>2</td><td>A</td><td>1.0</td><td>10.750000</td></tr>\n",
       "\t<tr><th scope=row>171</th><td>2002-072  </td><td>S02/214   </td><td>F</td><td> 62</td><td>912 </td><td>AD </td><td>04:45</td><td>6</td><td>3</td><td>43</td><td>20190328_172_S02_214_AD_027   </td><td>6</td><td>3</td><td>C</td><td>3.2</td><td> 4.750000</td></tr>\n",
       "\t<tr><th scope=row>175</th><td>2003-057  </td><td>S03/150   </td><td>F</td><td> 68</td><td>985 </td><td>AD </td><td>03:50</td><td>6</td><td>3</td><td>32</td><td>20190328_176_S03_150_AD_033   </td><td>6</td><td>3</td><td>C</td><td>0.6</td><td> 3.833333</td></tr>\n",
       "\t<tr><th scope=row>⋮</th><td>⋮</td><td>⋮</td><td>⋮</td><td>⋮</td><td>⋮</td><td>⋮</td><td>⋮</td><td>⋮</td><td>⋮</td><td>⋮</td><td>⋮</td><td>⋮</td><td>⋮</td><td>⋮</td><td>⋮</td><td>⋮</td></tr>\n",
       "\t<tr><th scope=row>207</th><td>2011-044</td><td>S11/044   </td><td>M</td><td> 51</td><td>1450</td><td>ND </td><td>07:45</td><td>0</td><td>0</td><td>43</td><td>20190502_208_S11_044_ND_179     </td><td>1</td><td>1</td><td>O</td><td>3.2</td><td> 7.750000</td></tr>\n",
       "\t<tr><th scope=row>24</th><td>1999-064</td><td>S99/134   </td><td>M</td><td> 89</td><td>1135</td><td>AD </td><td>04:05</td><td>5</td><td>3</td><td>33</td><td>20190502_24_S99_134_AD_202      </td><td>5</td><td>3</td><td>C</td><td>1.0</td><td> 4.083333</td></tr>\n",
       "\t<tr><th scope=row>34</th><td>2002-104</td><td>02/314    </td><td>F</td><td> 94</td><td>1290</td><td>AD </td><td>05:00</td><td>4</td><td>3</td><td>33</td><td>20190502_34_02_314_AD_178       </td><td>4</td><td>2</td><td>C</td><td>1.0</td><td> 5.000000</td></tr>\n",
       "\t<tr><th scope=row>47</th><td>2003-016</td><td>S03/038   </td><td>F</td><td> 72</td><td>1145</td><td>AD </td><td>04:55</td><td>6</td><td>3</td><td>43</td><td>20190502_47_S03_038_AD_182      </td><td>6</td><td>3</td><td>C</td><td>3.2</td><td> 4.916667</td></tr>\n",
       "\t<tr><th scope=row>52</th><td>2007-059</td><td>S07/225   </td><td>F</td><td> 81</td><td>888 </td><td>AD </td><td>05:15</td><td>6</td><td>3</td><td>43</td><td>20190502_52_S07_225_AD_198      </td><td>6</td><td>3</td><td>C</td><td>3.2</td><td> 5.250000</td></tr>\n",
       "\t<tr><th scope=row>53</th><td>2007-009</td><td>07/036    </td><td>F</td><td> 82</td><td>1135</td><td>AD </td><td>05:55</td><td>4</td><td>3</td><td>43</td><td>20190502_53_07_036_AD_180       </td><td>4</td><td>2</td><td>C</td><td>3.2</td><td> 5.916667</td></tr>\n",
       "\t<tr><th scope=row>54</th><td>2002-047</td><td>S02/121   </td><td>F</td><td> 83</td><td>919 </td><td>AD </td><td>07:17</td><td>5</td><td>3</td><td>43</td><td>20190502_54_S02_121_AD_196      </td><td>5</td><td>3</td><td>C</td><td>3.2</td><td> 7.283333</td></tr>\n",
       "\t<tr><th scope=row>58</th><td>2002-056</td><td>02/160    </td><td>F</td><td> 85</td><td>1183</td><td>AD </td><td>03:45</td><td>5</td><td>3</td><td>43</td><td>20190502_58_02_160_AD_184       </td><td>5</td><td>3</td><td>C</td><td>3.2</td><td> 3.750000</td></tr>\n",
       "\t<tr><th scope=row>61</th><td>2004-043</td><td>S04/134   </td><td>F</td><td> 88</td><td>1015</td><td>AD </td><td>05:10</td><td>5</td><td>3</td><td>43</td><td>20190502_61_S04_134_AD_205      </td><td>5</td><td>3</td><td>C</td><td>3.2</td><td> 5.166667</td></tr>\n",
       "\t<tr><th scope=row>69</th><td>2004-025</td><td>04/076    </td><td>F</td><td> 90</td><td>904 </td><td>AD </td><td>05:30</td><td>4</td><td>3</td><td>43</td><td>20190502_69_04_076_AD_189       </td><td>4</td><td>2</td><td>C</td><td>3.2</td><td> 5.500000</td></tr>\n",
       "\t<tr><th scope=row>71</th><td>2005-012</td><td>05/044    </td><td>F</td><td> 91</td><td>940 </td><td>AD </td><td>05:45</td><td>6</td><td>3</td><td>43</td><td>20190502_71_05_044_AD_191       </td><td>6</td><td>3</td><td>C</td><td>3.2</td><td> 5.750000</td></tr>\n",
       "\t<tr><th scope=row>93</th><td>2001-006</td><td>S01/024   </td><td>F</td><td> 91</td><td>1043</td><td>ND </td><td>05:45</td><td>1</td><td>2</td><td>22</td><td>20190502_93_S01_024_ND_195      </td><td>1</td><td>1</td><td>B</td><td>0.6</td><td> 5.750000</td></tr>\n",
       "\t<tr><th scope=row>97</th><td>2012-090</td><td>S12/090   </td><td>F</td><td> 91</td><td>1052</td><td>ND </td><td>04:10</td><td>3</td><td>1</td><td>43</td><td>20190502_97_S12_090_ND_185      </td><td>3</td><td>2</td><td>A</td><td>3.2</td><td> 4.166667</td></tr>\n",
       "\t<tr><th scope=row>110</th><td>889     </td><td>NABCA16-02</td><td>F</td><td> 79</td><td>1285</td><td>ND </td><td>05:25</td><td>2</td><td>1</td><td>33</td><td>20190507_110_NABCA16_02_ND_210  </td><td>2</td><td>1</td><td>A</td><td>1.0</td><td> 5.416667</td></tr>\n",
       "\t<tr><th scope=row>112</th><td>2014-037</td><td>S14/037   </td><td>F</td><td>101</td><td>1115</td><td>CHC</td><td>07:27</td><td>4</td><td>3</td><td>34</td><td>20190507_112_S14_037_CHC_215    </td><td>4</td><td>2</td><td>C</td><td>3.2</td><td> 7.450000</td></tr>\n",
       "\t<tr><th scope=row>13</th><td>1999-105</td><td>S99/223   </td><td>M</td><td> 79</td><td>1120</td><td>AD </td><td>03:45</td><td>5</td><td>3</td><td>33</td><td>20190507_13_S99_223_AD_207      </td><td>5</td><td>3</td><td>C</td><td>1.0</td><td> 3.750000</td></tr>\n",
       "\t<tr><th scope=row>142</th><td>2017-046</td><td>S17/046   </td><td>F</td><td>102</td><td>1040</td><td>CHC</td><td>05:50</td><td>3</td><td>2</td><td>33</td><td>20190507_142_2017_046_CHC_220   </td><td>3</td><td>2</td><td>B</td><td>1.0</td><td> 5.833333</td></tr>\n",
       "\t<tr><th scope=row>148</th><td>2017-104</td><td>S17/104   </td><td>F</td><td>104</td><td>1150</td><td>CHC</td><td>07:05</td><td>3</td><td>2</td><td>24</td><td>20190507_148_2017_104_CHC_208   </td><td>3</td><td>2</td><td>B</td><td>2.6</td><td> 7.083333</td></tr>\n",
       "\t<tr><th scope=row>164</th><td>2018-065</td><td>S18/065   </td><td>F</td><td>104</td><td>1208</td><td>CHC</td><td>04:00</td><td>5</td><td>3</td><td>23</td><td>20190507_164_2018_065_CHC_212   </td><td>5</td><td>3</td><td>C</td><td>0.6</td><td> 4.000000</td></tr>\n",
       "\t<tr><th scope=row>199</th><td>2008-097</td><td>S08/298   </td><td>M</td><td> 58</td><td>1366</td><td>ND </td><td>05:15</td><td>1</td><td>0</td><td>33</td><td>20190507_200_S08_298_ND_218     </td><td>1</td><td>1</td><td>O</td><td>1.0</td><td> 5.250000</td></tr>\n",
       "\t<tr><th scope=row>21</th><td>2001-008</td><td>01/032    </td><td>F</td><td> 88</td><td>890 </td><td>AD </td><td>12:15</td><td>4</td><td>3</td><td>33</td><td>20190507_21_01_032_AD_221       </td><td>4</td><td>2</td><td>C</td><td>1.0</td><td>12.250000</td></tr>\n",
       "\t<tr><th scope=row>27</th><td>2000-097</td><td>00/204    </td><td>F</td><td> 91</td><td>958 </td><td>AD </td><td>05:00</td><td>5</td><td>3</td><td>33</td><td>20190507_27_00_204_AD_211       </td><td>5</td><td>3</td><td>C</td><td>1.0</td><td> 5.000000</td></tr>\n",
       "\t<tr><th scope=row>29</th><td>1999-112</td><td>S99/240   </td><td>F</td><td> 92</td><td>1031</td><td>AD </td><td>03:45</td><td>5</td><td>3</td><td>32</td><td>20190507_29_S99_240_AD_219      </td><td>5</td><td>3</td><td>C</td><td>0.6</td><td> 3.750000</td></tr>\n",
       "\t<tr><th scope=row>30</th><td>2005-011</td><td>S05/040   </td><td>F</td><td> 93</td><td>970 </td><td>AD </td><td>02:30</td><td>4</td><td>3</td><td>32</td><td>20190507_30_S05_040_AD_209      </td><td>4</td><td>2</td><td>C</td><td>0.6</td><td> 2.500000</td></tr>\n",
       "\t<tr><th scope=row>63</th><td>2004-006</td><td>04/027    </td><td>F</td><td> 89</td><td>1010</td><td>AD </td><td>07:00</td><td>5</td><td>3</td><td>43</td><td>20190507_63_04_027_AD_217       </td><td>5</td><td>3</td><td>C</td><td>3.2</td><td> 7.000000</td></tr>\n",
       "\t<tr><th scope=row>72</th><td>1999-102</td><td>S99/219   </td><td>F</td><td> 92</td><td>917 </td><td>AD </td><td>04:40</td><td>5</td><td>3</td><td>43</td><td>20190507_72_S99_219_AD_213      </td><td>5</td><td>3</td><td>C</td><td>3.2</td><td> 4.666667</td></tr>\n",
       "\t<tr><th scope=row>106</th><td>777     </td><td>NABCA14-08</td><td>F</td><td> 72</td><td>1205</td><td>ND </td><td>07:20</td><td>0</td><td>1</td><td>33</td><td>20190606_106_NABCA14_08_ND_RERUN</td><td>1</td><td>1</td><td>A</td><td>1.0</td><td> 7.333333</td></tr>\n",
       "\t<tr><th scope=row>140</th><td>2017-027</td><td>S17/027   </td><td>M</td><td>105</td><td>1070</td><td>CHC</td><td>06:05</td><td>5</td><td>3</td><td>33</td><td>20190606_140_2017_027_CHC_RERUN </td><td>5</td><td>3</td><td>C</td><td>1.0</td><td> 6.083333</td></tr>\n",
       "\t<tr><th scope=row>20</th><td>2000-076</td><td>S00/166   </td><td>F</td><td> 88</td><td>967 </td><td>AD </td><td>03:30</td><td>4</td><td>3</td><td>33</td><td>20190606_20_S00_166_AD_RERUN    </td><td>4</td><td>2</td><td>C</td><td>1.0</td><td> 3.500000</td></tr>\n",
       "\t<tr><th scope=row>9</th><td>1993-014</td><td>S93/025   </td><td>F</td><td> 70</td><td>861 </td><td>AD </td><td>02:25</td><td>5</td><td>3</td><td>33</td><td>20190606_9_S93_025_AD_RERUN     </td><td>5</td><td>3</td><td>C</td><td>1.0</td><td> 2.416667</td></tr>\n",
       "</tbody>\n",
       "</table>\n"
      ],
      "text/latex": [
       "A data.frame: 190 × 16\n",
       "\\begin{tabular}{r|llllllllllllllll}\n",
       "  & nbb & autopsy & sex & age & weight & GROUP & pmd & braak & amyloid & apoe & filenames & fBraak & cBraak & O\\_amyloid & apoe\\_OR & pmd\\_numeric\\\\\n",
       "  & <chr> & <chr> & <chr> & <dbl> & <chr> & <chr> & <chr> & <dbl> & <dbl> & <chr> & <chr> & <dbl> & <dbl> & <chr> & <dbl> & <dbl>\\\\\n",
       "\\hline\n",
       "\t121 & 2016-020   & S16/020    & F & 102 & 955  & CHC & 06:10 & 2 & 1 & 23 & 20190325\\_121\\_S16\\_020\\_CHC\\_011   & 2 & 1 & A & 0.6 &  6.166667\\\\\n",
       "\t125 & 2016-044   & S16/044    & F & 102 & 1015 & CHC & 05:17 & 3 & 3 & 33 & 20190325\\_125\\_S16\\_044\\_CHC\\_007   & 3 & 2 & C & 1.0 &  5.283333\\\\\n",
       "\t127 & 2016-094   & S16/094    & F & 104 & 1045 & CHC & 07:55 & 3 & 1 & 33 & 20190325\\_127\\_S16\\_094\\_CHC\\_004   & 3 & 2 & A & 1.0 &  7.916667\\\\\n",
       "\t16 & 2004-011   & 04/037     & F &  84 & 1017 & AD  & 05:55 & 5 & 3 & 33 & 20190325\\_16\\_04\\_037\\_AD\\_008      & 5 & 3 & C & 1.0 &  5.916667\\\\\n",
       "\t182 & 2010-101   & S10/292    & M &  64 & 1233 & AD  & 04:35 & 6 & 3 & 32 & 20190325\\_183\\_S10\\_292\\_AD\\_010    & 6 & 3 & C & 0.6 &  4.583333\\\\\n",
       "\t193 & 2002-024   & S02/055    & F &  75 & 1153 & ND  & 05:30 & 1 & 3 & 42 & 20190325\\_194\\_S02\\_055\\_ND\\_005    & 1 & 1 & C & 2.6 &  5.500000\\\\\n",
       "\t31 & 2001-081   & 01/184     & F &  93 & 1010 & AD  & 05:05 & 5 & 3 & 33 & 20190325\\_31\\_01\\_184\\_AD\\_006      & 5 & 3 & C & 1.0 &  5.083333\\\\\n",
       "\t57 & 1997-091   & S97/235    & F &  85 & 1000 & AD  & 02:00 & 5 & 3 & 43 & 20190325\\_57\\_S97\\_235\\_AD\\_003     & 5 & 3 & C & 3.2 &  2.000000\\\\\n",
       "\t77 & 2011-072   & S11/072    & F &  76 & 1072 & ND  & 07:15 & 2 & 0 & 33 & 20190325\\_77\\_S11\\_072\\_ND\\_012     & 2 & 1 & O & 1.0 &  7.250000\\\\\n",
       "\t79 & 2007-082   & S07/308    & M &  81 & 1194 & ND  & 07:55 & 2 & 0 & 33 & 20190325\\_79\\_S07\\_308\\_ND\\_009     & 2 & 1 & O & 1.0 &  7.916667\\\\\n",
       "\t95 & 2005-060   & S05/217    & M &  91 & 1188 & ND  & 08:00 & 1 & 2 & 33 & 20190325\\_95\\_S05\\_217\\_ND\\_002     & 1 & 1 & B & 1.0 &  8.000000\\\\\n",
       "\t123 & 2016-032   & S16/032    & M & 101 & 1060 & CHC & 05:30 & 3 & 1 & 34 & 20190326\\_123\\_S16\\_032\\_CHC\\_020   & 3 & 2 & A & 3.2 &  5.500000\\\\\n",
       "\t136 & 2017-014   & S17/014    & F & 108 & 940  & CHC & 06:10 & 2 & 1 & 33 & 20190326\\_136\\_2017\\_014\\_CHC\\_014  & 2 & 1 & A & 1.0 &  6.166667\\\\\n",
       "\t151 & 2017-129   & S17/129    & F & 107 & 1130 & CHC & 05:40 & 3 & 1 & 33 & 20190326\\_151\\_2017\\_129\\_CHC\\_017  & 3 & 2 & A & 1.0 &  5.666667\\\\\n",
       "\t177 & 2004-030   & S04/088    & F &  89 & 962  & AD  & 04:40 & 5 & 3 & 43 & 20190326\\_176\\_S04\\_088\\_AD\\_021    & 5 & 3 & C & 3.2 &  4.666667\\\\\n",
       "\t194 & 2003-013   & S03/035    & F &  82 & 1175 & ND  & 11:30 & 1 & 0 & 33 & 20190326\\_195\\_S03\\_035\\_ND\\_024    & 1 & 1 & O & 1.0 & 11.500000\\\\\n",
       "\t200 & 2008-106   & S08/325    & F &  87 & 1010 & ND  & 05:00 & 2 & 0 & 33 & 20190326\\_201\\_S08\\_325\\_ND\\_019    & 2 & 1 & O & 1.0 &  5.000000\\\\\n",
       "\t202 & 2009-022   & S09/067    & F &  77 & 1111 & ND  & 02:55 & 1 & 2 & 33 & 20190326\\_203\\_S09\\_067\\_ND\\_016    & 1 & 1 & B & 1.0 &  2.916667\\\\\n",
       "\t219 & SVU 10-277 & SVU 10/277 & M &  50 & NA   & ND  & NA    & 1 & 1 & 33 & 20190326\\_220\\_SVU10\\_277\\_ND\\_022  & 1 & 1 & A & 1.0 &  5.666667\\\\\n",
       "\t4 & 2005-029   & S05/106    & M &  67 & 1252 & AD  & 04:10 & 5 & 3 & 33 & 20190326\\_4\\_S05\\_106\\_AD\\_015      & 5 & 3 & C & 1.0 &  4.166667\\\\\n",
       "\t74 & 2001-019   & 01/059     & F &  92 & 1066 & AD  & 04:55 & 5 & 3 & 43 & 20190326\\_74\\_01\\_059\\_AD\\_013      & 5 & 3 & C & 3.2 &  4.916667\\\\\n",
       "\t100 & 2014-051   & S14/051    & M &  92 & 1210 & ND  & 07:45 & 3 & 2 & 33 & 20190328\\_100\\_S14\\_051\\_ND\\_032    & 3 & 2 & B & 1.0 &  7.750000\\\\\n",
       "\t108 & 859        & NABCA15-08 & M &  72 & 1355 & ND  & 11:45 & 0 & 1 & 33 & 20190328\\_108\\_NABCA15\\_08\\_ND\\_028 & 1 & 1 & A & 1.0 & 11.750000\\\\\n",
       "\t120 & 2016-008   & S16/008    & M & 102 & 1075 & CHC & 07:45 & 4 & 3 & 33 & 20190328\\_120\\_S16\\_008\\_CHC\\_030   & 4 & 2 & C & 1.0 &  7.750000\\\\\n",
       "\t126 & 2016-058   & S16/058    & F & 103 & 1010 & CHC & 05:55 & 1 & 0 & 23 & 20190328\\_126\\_S16\\_058\\_CHC\\_036   & 1 & 1 & O & 0.6 &  5.916667\\\\\n",
       "\t12 & 2000-099   & S00/206    & F &  78 & 920  & AD  & 03:35 & 6 & 3 & 33 & 20190328\\_12\\_S00\\_206\\_AD\\_031     & 6 & 3 & C & 1.0 &  3.583333\\\\\n",
       "\t130 & 2016-109   & S16/109    & M & 102 & 1205 & CHC & 04:05 & 3 & 2 & 33 & 20190328\\_130\\_S16\\_109\\_CHC\\_034   & 3 & 2 & B & 1.0 &  4.083333\\\\\n",
       "\t143 & 2017-053   & S17/053    & F & 102 & 1090 & CHC & 10:45 & 3 & 1 & 33 & 20190328\\_143\\_2017\\_053\\_CHC\\_026  & 3 & 2 & A & 1.0 & 10.750000\\\\\n",
       "\t171 & 2002-072   & S02/214    & F &  62 & 912  & AD  & 04:45 & 6 & 3 & 43 & 20190328\\_172\\_S02\\_214\\_AD\\_027    & 6 & 3 & C & 3.2 &  4.750000\\\\\n",
       "\t175 & 2003-057   & S03/150    & F &  68 & 985  & AD  & 03:50 & 6 & 3 & 32 & 20190328\\_176\\_S03\\_150\\_AD\\_033    & 6 & 3 & C & 0.6 &  3.833333\\\\\n",
       "\t⋮ & ⋮ & ⋮ & ⋮ & ⋮ & ⋮ & ⋮ & ⋮ & ⋮ & ⋮ & ⋮ & ⋮ & ⋮ & ⋮ & ⋮ & ⋮ & ⋮\\\\\n",
       "\t207 & 2011-044 & S11/044    & M &  51 & 1450 & ND  & 07:45 & 0 & 0 & 43 & 20190502\\_208\\_S11\\_044\\_ND\\_179      & 1 & 1 & O & 3.2 &  7.750000\\\\\n",
       "\t24 & 1999-064 & S99/134    & M &  89 & 1135 & AD  & 04:05 & 5 & 3 & 33 & 20190502\\_24\\_S99\\_134\\_AD\\_202       & 5 & 3 & C & 1.0 &  4.083333\\\\\n",
       "\t34 & 2002-104 & 02/314     & F &  94 & 1290 & AD  & 05:00 & 4 & 3 & 33 & 20190502\\_34\\_02\\_314\\_AD\\_178        & 4 & 2 & C & 1.0 &  5.000000\\\\\n",
       "\t47 & 2003-016 & S03/038    & F &  72 & 1145 & AD  & 04:55 & 6 & 3 & 43 & 20190502\\_47\\_S03\\_038\\_AD\\_182       & 6 & 3 & C & 3.2 &  4.916667\\\\\n",
       "\t52 & 2007-059 & S07/225    & F &  81 & 888  & AD  & 05:15 & 6 & 3 & 43 & 20190502\\_52\\_S07\\_225\\_AD\\_198       & 6 & 3 & C & 3.2 &  5.250000\\\\\n",
       "\t53 & 2007-009 & 07/036     & F &  82 & 1135 & AD  & 05:55 & 4 & 3 & 43 & 20190502\\_53\\_07\\_036\\_AD\\_180        & 4 & 2 & C & 3.2 &  5.916667\\\\\n",
       "\t54 & 2002-047 & S02/121    & F &  83 & 919  & AD  & 07:17 & 5 & 3 & 43 & 20190502\\_54\\_S02\\_121\\_AD\\_196       & 5 & 3 & C & 3.2 &  7.283333\\\\\n",
       "\t58 & 2002-056 & 02/160     & F &  85 & 1183 & AD  & 03:45 & 5 & 3 & 43 & 20190502\\_58\\_02\\_160\\_AD\\_184        & 5 & 3 & C & 3.2 &  3.750000\\\\\n",
       "\t61 & 2004-043 & S04/134    & F &  88 & 1015 & AD  & 05:10 & 5 & 3 & 43 & 20190502\\_61\\_S04\\_134\\_AD\\_205       & 5 & 3 & C & 3.2 &  5.166667\\\\\n",
       "\t69 & 2004-025 & 04/076     & F &  90 & 904  & AD  & 05:30 & 4 & 3 & 43 & 20190502\\_69\\_04\\_076\\_AD\\_189        & 4 & 2 & C & 3.2 &  5.500000\\\\\n",
       "\t71 & 2005-012 & 05/044     & F &  91 & 940  & AD  & 05:45 & 6 & 3 & 43 & 20190502\\_71\\_05\\_044\\_AD\\_191        & 6 & 3 & C & 3.2 &  5.750000\\\\\n",
       "\t93 & 2001-006 & S01/024    & F &  91 & 1043 & ND  & 05:45 & 1 & 2 & 22 & 20190502\\_93\\_S01\\_024\\_ND\\_195       & 1 & 1 & B & 0.6 &  5.750000\\\\\n",
       "\t97 & 2012-090 & S12/090    & F &  91 & 1052 & ND  & 04:10 & 3 & 1 & 43 & 20190502\\_97\\_S12\\_090\\_ND\\_185       & 3 & 2 & A & 3.2 &  4.166667\\\\\n",
       "\t110 & 889      & NABCA16-02 & F &  79 & 1285 & ND  & 05:25 & 2 & 1 & 33 & 20190507\\_110\\_NABCA16\\_02\\_ND\\_210   & 2 & 1 & A & 1.0 &  5.416667\\\\\n",
       "\t112 & 2014-037 & S14/037    & F & 101 & 1115 & CHC & 07:27 & 4 & 3 & 34 & 20190507\\_112\\_S14\\_037\\_CHC\\_215     & 4 & 2 & C & 3.2 &  7.450000\\\\\n",
       "\t13 & 1999-105 & S99/223    & M &  79 & 1120 & AD  & 03:45 & 5 & 3 & 33 & 20190507\\_13\\_S99\\_223\\_AD\\_207       & 5 & 3 & C & 1.0 &  3.750000\\\\\n",
       "\t142 & 2017-046 & S17/046    & F & 102 & 1040 & CHC & 05:50 & 3 & 2 & 33 & 20190507\\_142\\_2017\\_046\\_CHC\\_220    & 3 & 2 & B & 1.0 &  5.833333\\\\\n",
       "\t148 & 2017-104 & S17/104    & F & 104 & 1150 & CHC & 07:05 & 3 & 2 & 24 & 20190507\\_148\\_2017\\_104\\_CHC\\_208    & 3 & 2 & B & 2.6 &  7.083333\\\\\n",
       "\t164 & 2018-065 & S18/065    & F & 104 & 1208 & CHC & 04:00 & 5 & 3 & 23 & 20190507\\_164\\_2018\\_065\\_CHC\\_212    & 5 & 3 & C & 0.6 &  4.000000\\\\\n",
       "\t199 & 2008-097 & S08/298    & M &  58 & 1366 & ND  & 05:15 & 1 & 0 & 33 & 20190507\\_200\\_S08\\_298\\_ND\\_218      & 1 & 1 & O & 1.0 &  5.250000\\\\\n",
       "\t21 & 2001-008 & 01/032     & F &  88 & 890  & AD  & 12:15 & 4 & 3 & 33 & 20190507\\_21\\_01\\_032\\_AD\\_221        & 4 & 2 & C & 1.0 & 12.250000\\\\\n",
       "\t27 & 2000-097 & 00/204     & F &  91 & 958  & AD  & 05:00 & 5 & 3 & 33 & 20190507\\_27\\_00\\_204\\_AD\\_211        & 5 & 3 & C & 1.0 &  5.000000\\\\\n",
       "\t29 & 1999-112 & S99/240    & F &  92 & 1031 & AD  & 03:45 & 5 & 3 & 32 & 20190507\\_29\\_S99\\_240\\_AD\\_219       & 5 & 3 & C & 0.6 &  3.750000\\\\\n",
       "\t30 & 2005-011 & S05/040    & F &  93 & 970  & AD  & 02:30 & 4 & 3 & 32 & 20190507\\_30\\_S05\\_040\\_AD\\_209       & 4 & 2 & C & 0.6 &  2.500000\\\\\n",
       "\t63 & 2004-006 & 04/027     & F &  89 & 1010 & AD  & 07:00 & 5 & 3 & 43 & 20190507\\_63\\_04\\_027\\_AD\\_217        & 5 & 3 & C & 3.2 &  7.000000\\\\\n",
       "\t72 & 1999-102 & S99/219    & F &  92 & 917  & AD  & 04:40 & 5 & 3 & 43 & 20190507\\_72\\_S99\\_219\\_AD\\_213       & 5 & 3 & C & 3.2 &  4.666667\\\\\n",
       "\t106 & 777      & NABCA14-08 & F &  72 & 1205 & ND  & 07:20 & 0 & 1 & 33 & 20190606\\_106\\_NABCA14\\_08\\_ND\\_RERUN & 1 & 1 & A & 1.0 &  7.333333\\\\\n",
       "\t140 & 2017-027 & S17/027    & M & 105 & 1070 & CHC & 06:05 & 5 & 3 & 33 & 20190606\\_140\\_2017\\_027\\_CHC\\_RERUN  & 5 & 3 & C & 1.0 &  6.083333\\\\\n",
       "\t20 & 2000-076 & S00/166    & F &  88 & 967  & AD  & 03:30 & 4 & 3 & 33 & 20190606\\_20\\_S00\\_166\\_AD\\_RERUN     & 4 & 2 & C & 1.0 &  3.500000\\\\\n",
       "\t9 & 1993-014 & S93/025    & F &  70 & 861  & AD  & 02:25 & 5 & 3 & 33 & 20190606\\_9\\_S93\\_025\\_AD\\_RERUN      & 5 & 3 & C & 1.0 &  2.416667\\\\\n",
       "\\end{tabular}\n"
      ],
      "text/markdown": [
       "\n",
       "A data.frame: 190 × 16\n",
       "\n",
       "| <!--/--> | nbb &lt;chr&gt; | autopsy &lt;chr&gt; | sex &lt;chr&gt; | age &lt;dbl&gt; | weight &lt;chr&gt; | GROUP &lt;chr&gt; | pmd &lt;chr&gt; | braak &lt;dbl&gt; | amyloid &lt;dbl&gt; | apoe &lt;chr&gt; | filenames &lt;chr&gt; | fBraak &lt;dbl&gt; | cBraak &lt;dbl&gt; | O_amyloid &lt;chr&gt; | apoe_OR &lt;dbl&gt; | pmd_numeric &lt;dbl&gt; |\n",
       "|---|---|---|---|---|---|---|---|---|---|---|---|---|---|---|---|---|\n",
       "| 121 | 2016-020   | S16/020    | F | 102 | 955  | CHC | 06:10 | 2 | 1 | 23 | 20190325_121_S16_020_CHC_011   | 2 | 1 | A | 0.6 |  6.166667 |\n",
       "| 125 | 2016-044   | S16/044    | F | 102 | 1015 | CHC | 05:17 | 3 | 3 | 33 | 20190325_125_S16_044_CHC_007   | 3 | 2 | C | 1.0 |  5.283333 |\n",
       "| 127 | 2016-094   | S16/094    | F | 104 | 1045 | CHC | 07:55 | 3 | 1 | 33 | 20190325_127_S16_094_CHC_004   | 3 | 2 | A | 1.0 |  7.916667 |\n",
       "| 16 | 2004-011   | 04/037     | F |  84 | 1017 | AD  | 05:55 | 5 | 3 | 33 | 20190325_16_04_037_AD_008      | 5 | 3 | C | 1.0 |  5.916667 |\n",
       "| 182 | 2010-101   | S10/292    | M |  64 | 1233 | AD  | 04:35 | 6 | 3 | 32 | 20190325_183_S10_292_AD_010    | 6 | 3 | C | 0.6 |  4.583333 |\n",
       "| 193 | 2002-024   | S02/055    | F |  75 | 1153 | ND  | 05:30 | 1 | 3 | 42 | 20190325_194_S02_055_ND_005    | 1 | 1 | C | 2.6 |  5.500000 |\n",
       "| 31 | 2001-081   | 01/184     | F |  93 | 1010 | AD  | 05:05 | 5 | 3 | 33 | 20190325_31_01_184_AD_006      | 5 | 3 | C | 1.0 |  5.083333 |\n",
       "| 57 | 1997-091   | S97/235    | F |  85 | 1000 | AD  | 02:00 | 5 | 3 | 43 | 20190325_57_S97_235_AD_003     | 5 | 3 | C | 3.2 |  2.000000 |\n",
       "| 77 | 2011-072   | S11/072    | F |  76 | 1072 | ND  | 07:15 | 2 | 0 | 33 | 20190325_77_S11_072_ND_012     | 2 | 1 | O | 1.0 |  7.250000 |\n",
       "| 79 | 2007-082   | S07/308    | M |  81 | 1194 | ND  | 07:55 | 2 | 0 | 33 | 20190325_79_S07_308_ND_009     | 2 | 1 | O | 1.0 |  7.916667 |\n",
       "| 95 | 2005-060   | S05/217    | M |  91 | 1188 | ND  | 08:00 | 1 | 2 | 33 | 20190325_95_S05_217_ND_002     | 1 | 1 | B | 1.0 |  8.000000 |\n",
       "| 123 | 2016-032   | S16/032    | M | 101 | 1060 | CHC | 05:30 | 3 | 1 | 34 | 20190326_123_S16_032_CHC_020   | 3 | 2 | A | 3.2 |  5.500000 |\n",
       "| 136 | 2017-014   | S17/014    | F | 108 | 940  | CHC | 06:10 | 2 | 1 | 33 | 20190326_136_2017_014_CHC_014  | 2 | 1 | A | 1.0 |  6.166667 |\n",
       "| 151 | 2017-129   | S17/129    | F | 107 | 1130 | CHC | 05:40 | 3 | 1 | 33 | 20190326_151_2017_129_CHC_017  | 3 | 2 | A | 1.0 |  5.666667 |\n",
       "| 177 | 2004-030   | S04/088    | F |  89 | 962  | AD  | 04:40 | 5 | 3 | 43 | 20190326_176_S04_088_AD_021    | 5 | 3 | C | 3.2 |  4.666667 |\n",
       "| 194 | 2003-013   | S03/035    | F |  82 | 1175 | ND  | 11:30 | 1 | 0 | 33 | 20190326_195_S03_035_ND_024    | 1 | 1 | O | 1.0 | 11.500000 |\n",
       "| 200 | 2008-106   | S08/325    | F |  87 | 1010 | ND  | 05:00 | 2 | 0 | 33 | 20190326_201_S08_325_ND_019    | 2 | 1 | O | 1.0 |  5.000000 |\n",
       "| 202 | 2009-022   | S09/067    | F |  77 | 1111 | ND  | 02:55 | 1 | 2 | 33 | 20190326_203_S09_067_ND_016    | 1 | 1 | B | 1.0 |  2.916667 |\n",
       "| 219 | SVU 10-277 | SVU 10/277 | M |  50 | NA   | ND  | NA    | 1 | 1 | 33 | 20190326_220_SVU10_277_ND_022  | 1 | 1 | A | 1.0 |  5.666667 |\n",
       "| 4 | 2005-029   | S05/106    | M |  67 | 1252 | AD  | 04:10 | 5 | 3 | 33 | 20190326_4_S05_106_AD_015      | 5 | 3 | C | 1.0 |  4.166667 |\n",
       "| 74 | 2001-019   | 01/059     | F |  92 | 1066 | AD  | 04:55 | 5 | 3 | 43 | 20190326_74_01_059_AD_013      | 5 | 3 | C | 3.2 |  4.916667 |\n",
       "| 100 | 2014-051   | S14/051    | M |  92 | 1210 | ND  | 07:45 | 3 | 2 | 33 | 20190328_100_S14_051_ND_032    | 3 | 2 | B | 1.0 |  7.750000 |\n",
       "| 108 | 859        | NABCA15-08 | M |  72 | 1355 | ND  | 11:45 | 0 | 1 | 33 | 20190328_108_NABCA15_08_ND_028 | 1 | 1 | A | 1.0 | 11.750000 |\n",
       "| 120 | 2016-008   | S16/008    | M | 102 | 1075 | CHC | 07:45 | 4 | 3 | 33 | 20190328_120_S16_008_CHC_030   | 4 | 2 | C | 1.0 |  7.750000 |\n",
       "| 126 | 2016-058   | S16/058    | F | 103 | 1010 | CHC | 05:55 | 1 | 0 | 23 | 20190328_126_S16_058_CHC_036   | 1 | 1 | O | 0.6 |  5.916667 |\n",
       "| 12 | 2000-099   | S00/206    | F |  78 | 920  | AD  | 03:35 | 6 | 3 | 33 | 20190328_12_S00_206_AD_031     | 6 | 3 | C | 1.0 |  3.583333 |\n",
       "| 130 | 2016-109   | S16/109    | M | 102 | 1205 | CHC | 04:05 | 3 | 2 | 33 | 20190328_130_S16_109_CHC_034   | 3 | 2 | B | 1.0 |  4.083333 |\n",
       "| 143 | 2017-053   | S17/053    | F | 102 | 1090 | CHC | 10:45 | 3 | 1 | 33 | 20190328_143_2017_053_CHC_026  | 3 | 2 | A | 1.0 | 10.750000 |\n",
       "| 171 | 2002-072   | S02/214    | F |  62 | 912  | AD  | 04:45 | 6 | 3 | 43 | 20190328_172_S02_214_AD_027    | 6 | 3 | C | 3.2 |  4.750000 |\n",
       "| 175 | 2003-057   | S03/150    | F |  68 | 985  | AD  | 03:50 | 6 | 3 | 32 | 20190328_176_S03_150_AD_033    | 6 | 3 | C | 0.6 |  3.833333 |\n",
       "| ⋮ | ⋮ | ⋮ | ⋮ | ⋮ | ⋮ | ⋮ | ⋮ | ⋮ | ⋮ | ⋮ | ⋮ | ⋮ | ⋮ | ⋮ | ⋮ | ⋮ |\n",
       "| 207 | 2011-044 | S11/044    | M |  51 | 1450 | ND  | 07:45 | 0 | 0 | 43 | 20190502_208_S11_044_ND_179      | 1 | 1 | O | 3.2 |  7.750000 |\n",
       "| 24 | 1999-064 | S99/134    | M |  89 | 1135 | AD  | 04:05 | 5 | 3 | 33 | 20190502_24_S99_134_AD_202       | 5 | 3 | C | 1.0 |  4.083333 |\n",
       "| 34 | 2002-104 | 02/314     | F |  94 | 1290 | AD  | 05:00 | 4 | 3 | 33 | 20190502_34_02_314_AD_178        | 4 | 2 | C | 1.0 |  5.000000 |\n",
       "| 47 | 2003-016 | S03/038    | F |  72 | 1145 | AD  | 04:55 | 6 | 3 | 43 | 20190502_47_S03_038_AD_182       | 6 | 3 | C | 3.2 |  4.916667 |\n",
       "| 52 | 2007-059 | S07/225    | F |  81 | 888  | AD  | 05:15 | 6 | 3 | 43 | 20190502_52_S07_225_AD_198       | 6 | 3 | C | 3.2 |  5.250000 |\n",
       "| 53 | 2007-009 | 07/036     | F |  82 | 1135 | AD  | 05:55 | 4 | 3 | 43 | 20190502_53_07_036_AD_180        | 4 | 2 | C | 3.2 |  5.916667 |\n",
       "| 54 | 2002-047 | S02/121    | F |  83 | 919  | AD  | 07:17 | 5 | 3 | 43 | 20190502_54_S02_121_AD_196       | 5 | 3 | C | 3.2 |  7.283333 |\n",
       "| 58 | 2002-056 | 02/160     | F |  85 | 1183 | AD  | 03:45 | 5 | 3 | 43 | 20190502_58_02_160_AD_184        | 5 | 3 | C | 3.2 |  3.750000 |\n",
       "| 61 | 2004-043 | S04/134    | F |  88 | 1015 | AD  | 05:10 | 5 | 3 | 43 | 20190502_61_S04_134_AD_205       | 5 | 3 | C | 3.2 |  5.166667 |\n",
       "| 69 | 2004-025 | 04/076     | F |  90 | 904  | AD  | 05:30 | 4 | 3 | 43 | 20190502_69_04_076_AD_189        | 4 | 2 | C | 3.2 |  5.500000 |\n",
       "| 71 | 2005-012 | 05/044     | F |  91 | 940  | AD  | 05:45 | 6 | 3 | 43 | 20190502_71_05_044_AD_191        | 6 | 3 | C | 3.2 |  5.750000 |\n",
       "| 93 | 2001-006 | S01/024    | F |  91 | 1043 | ND  | 05:45 | 1 | 2 | 22 | 20190502_93_S01_024_ND_195       | 1 | 1 | B | 0.6 |  5.750000 |\n",
       "| 97 | 2012-090 | S12/090    | F |  91 | 1052 | ND  | 04:10 | 3 | 1 | 43 | 20190502_97_S12_090_ND_185       | 3 | 2 | A | 3.2 |  4.166667 |\n",
       "| 110 | 889      | NABCA16-02 | F |  79 | 1285 | ND  | 05:25 | 2 | 1 | 33 | 20190507_110_NABCA16_02_ND_210   | 2 | 1 | A | 1.0 |  5.416667 |\n",
       "| 112 | 2014-037 | S14/037    | F | 101 | 1115 | CHC | 07:27 | 4 | 3 | 34 | 20190507_112_S14_037_CHC_215     | 4 | 2 | C | 3.2 |  7.450000 |\n",
       "| 13 | 1999-105 | S99/223    | M |  79 | 1120 | AD  | 03:45 | 5 | 3 | 33 | 20190507_13_S99_223_AD_207       | 5 | 3 | C | 1.0 |  3.750000 |\n",
       "| 142 | 2017-046 | S17/046    | F | 102 | 1040 | CHC | 05:50 | 3 | 2 | 33 | 20190507_142_2017_046_CHC_220    | 3 | 2 | B | 1.0 |  5.833333 |\n",
       "| 148 | 2017-104 | S17/104    | F | 104 | 1150 | CHC | 07:05 | 3 | 2 | 24 | 20190507_148_2017_104_CHC_208    | 3 | 2 | B | 2.6 |  7.083333 |\n",
       "| 164 | 2018-065 | S18/065    | F | 104 | 1208 | CHC | 04:00 | 5 | 3 | 23 | 20190507_164_2018_065_CHC_212    | 5 | 3 | C | 0.6 |  4.000000 |\n",
       "| 199 | 2008-097 | S08/298    | M |  58 | 1366 | ND  | 05:15 | 1 | 0 | 33 | 20190507_200_S08_298_ND_218      | 1 | 1 | O | 1.0 |  5.250000 |\n",
       "| 21 | 2001-008 | 01/032     | F |  88 | 890  | AD  | 12:15 | 4 | 3 | 33 | 20190507_21_01_032_AD_221        | 4 | 2 | C | 1.0 | 12.250000 |\n",
       "| 27 | 2000-097 | 00/204     | F |  91 | 958  | AD  | 05:00 | 5 | 3 | 33 | 20190507_27_00_204_AD_211        | 5 | 3 | C | 1.0 |  5.000000 |\n",
       "| 29 | 1999-112 | S99/240    | F |  92 | 1031 | AD  | 03:45 | 5 | 3 | 32 | 20190507_29_S99_240_AD_219       | 5 | 3 | C | 0.6 |  3.750000 |\n",
       "| 30 | 2005-011 | S05/040    | F |  93 | 970  | AD  | 02:30 | 4 | 3 | 32 | 20190507_30_S05_040_AD_209       | 4 | 2 | C | 0.6 |  2.500000 |\n",
       "| 63 | 2004-006 | 04/027     | F |  89 | 1010 | AD  | 07:00 | 5 | 3 | 43 | 20190507_63_04_027_AD_217        | 5 | 3 | C | 3.2 |  7.000000 |\n",
       "| 72 | 1999-102 | S99/219    | F |  92 | 917  | AD  | 04:40 | 5 | 3 | 43 | 20190507_72_S99_219_AD_213       | 5 | 3 | C | 3.2 |  4.666667 |\n",
       "| 106 | 777      | NABCA14-08 | F |  72 | 1205 | ND  | 07:20 | 0 | 1 | 33 | 20190606_106_NABCA14_08_ND_RERUN | 1 | 1 | A | 1.0 |  7.333333 |\n",
       "| 140 | 2017-027 | S17/027    | M | 105 | 1070 | CHC | 06:05 | 5 | 3 | 33 | 20190606_140_2017_027_CHC_RERUN  | 5 | 3 | C | 1.0 |  6.083333 |\n",
       "| 20 | 2000-076 | S00/166    | F |  88 | 967  | AD  | 03:30 | 4 | 3 | 33 | 20190606_20_S00_166_AD_RERUN     | 4 | 2 | C | 1.0 |  3.500000 |\n",
       "| 9 | 1993-014 | S93/025    | F |  70 | 861  | AD  | 02:25 | 5 | 3 | 33 | 20190606_9_S93_025_AD_RERUN      | 5 | 3 | C | 1.0 |  2.416667 |\n",
       "\n"
      ],
      "text/plain": [
       "    nbb        autopsy    sex age weight GROUP pmd   braak amyloid apoe\n",
       "121 2016-020   S16/020    F   102 955    CHC   06:10 2     1       23  \n",
       "125 2016-044   S16/044    F   102 1015   CHC   05:17 3     3       33  \n",
       "127 2016-094   S16/094    F   104 1045   CHC   07:55 3     1       33  \n",
       "16  2004-011   04/037     F    84 1017   AD    05:55 5     3       33  \n",
       "182 2010-101   S10/292    M    64 1233   AD    04:35 6     3       32  \n",
       "193 2002-024   S02/055    F    75 1153   ND    05:30 1     3       42  \n",
       "31  2001-081   01/184     F    93 1010   AD    05:05 5     3       33  \n",
       "57  1997-091   S97/235    F    85 1000   AD    02:00 5     3       43  \n",
       "77  2011-072   S11/072    F    76 1072   ND    07:15 2     0       33  \n",
       "79  2007-082   S07/308    M    81 1194   ND    07:55 2     0       33  \n",
       "95  2005-060   S05/217    M    91 1188   ND    08:00 1     2       33  \n",
       "123 2016-032   S16/032    M   101 1060   CHC   05:30 3     1       34  \n",
       "136 2017-014   S17/014    F   108 940    CHC   06:10 2     1       33  \n",
       "151 2017-129   S17/129    F   107 1130   CHC   05:40 3     1       33  \n",
       "177 2004-030   S04/088    F    89 962    AD    04:40 5     3       43  \n",
       "194 2003-013   S03/035    F    82 1175   ND    11:30 1     0       33  \n",
       "200 2008-106   S08/325    F    87 1010   ND    05:00 2     0       33  \n",
       "202 2009-022   S09/067    F    77 1111   ND    02:55 1     2       33  \n",
       "219 SVU 10-277 SVU 10/277 M    50 NA     ND    NA    1     1       33  \n",
       "4   2005-029   S05/106    M    67 1252   AD    04:10 5     3       33  \n",
       "74  2001-019   01/059     F    92 1066   AD    04:55 5     3       43  \n",
       "100 2014-051   S14/051    M    92 1210   ND    07:45 3     2       33  \n",
       "108 859        NABCA15-08 M    72 1355   ND    11:45 0     1       33  \n",
       "120 2016-008   S16/008    M   102 1075   CHC   07:45 4     3       33  \n",
       "126 2016-058   S16/058    F   103 1010   CHC   05:55 1     0       23  \n",
       "12  2000-099   S00/206    F    78 920    AD    03:35 6     3       33  \n",
       "130 2016-109   S16/109    M   102 1205   CHC   04:05 3     2       33  \n",
       "143 2017-053   S17/053    F   102 1090   CHC   10:45 3     1       33  \n",
       "171 2002-072   S02/214    F    62 912    AD    04:45 6     3       43  \n",
       "175 2003-057   S03/150    F    68 985    AD    03:50 6     3       32  \n",
       "⋮   ⋮          ⋮          ⋮   ⋮   ⋮      ⋮     ⋮     ⋮     ⋮       ⋮   \n",
       "207 2011-044   S11/044    M    51 1450   ND    07:45 0     0       43  \n",
       "24  1999-064   S99/134    M    89 1135   AD    04:05 5     3       33  \n",
       "34  2002-104   02/314     F    94 1290   AD    05:00 4     3       33  \n",
       "47  2003-016   S03/038    F    72 1145   AD    04:55 6     3       43  \n",
       "52  2007-059   S07/225    F    81 888    AD    05:15 6     3       43  \n",
       "53  2007-009   07/036     F    82 1135   AD    05:55 4     3       43  \n",
       "54  2002-047   S02/121    F    83 919    AD    07:17 5     3       43  \n",
       "58  2002-056   02/160     F    85 1183   AD    03:45 5     3       43  \n",
       "61  2004-043   S04/134    F    88 1015   AD    05:10 5     3       43  \n",
       "69  2004-025   04/076     F    90 904    AD    05:30 4     3       43  \n",
       "71  2005-012   05/044     F    91 940    AD    05:45 6     3       43  \n",
       "93  2001-006   S01/024    F    91 1043   ND    05:45 1     2       22  \n",
       "97  2012-090   S12/090    F    91 1052   ND    04:10 3     1       43  \n",
       "110 889        NABCA16-02 F    79 1285   ND    05:25 2     1       33  \n",
       "112 2014-037   S14/037    F   101 1115   CHC   07:27 4     3       34  \n",
       "13  1999-105   S99/223    M    79 1120   AD    03:45 5     3       33  \n",
       "142 2017-046   S17/046    F   102 1040   CHC   05:50 3     2       33  \n",
       "148 2017-104   S17/104    F   104 1150   CHC   07:05 3     2       24  \n",
       "164 2018-065   S18/065    F   104 1208   CHC   04:00 5     3       23  \n",
       "199 2008-097   S08/298    M    58 1366   ND    05:15 1     0       33  \n",
       "21  2001-008   01/032     F    88 890    AD    12:15 4     3       33  \n",
       "27  2000-097   00/204     F    91 958    AD    05:00 5     3       33  \n",
       "29  1999-112   S99/240    F    92 1031   AD    03:45 5     3       32  \n",
       "30  2005-011   S05/040    F    93 970    AD    02:30 4     3       32  \n",
       "63  2004-006   04/027     F    89 1010   AD    07:00 5     3       43  \n",
       "72  1999-102   S99/219    F    92 917    AD    04:40 5     3       43  \n",
       "106 777        NABCA14-08 F    72 1205   ND    07:20 0     1       33  \n",
       "140 2017-027   S17/027    M   105 1070   CHC   06:05 5     3       33  \n",
       "20  2000-076   S00/166    F    88 967    AD    03:30 4     3       33  \n",
       "9   1993-014   S93/025    F    70 861    AD    02:25 5     3       33  \n",
       "    filenames                        fBraak cBraak O_amyloid apoe_OR\n",
       "121 20190325_121_S16_020_CHC_011     2      1      A         0.6    \n",
       "125 20190325_125_S16_044_CHC_007     3      2      C         1.0    \n",
       "127 20190325_127_S16_094_CHC_004     3      2      A         1.0    \n",
       "16  20190325_16_04_037_AD_008        5      3      C         1.0    \n",
       "182 20190325_183_S10_292_AD_010      6      3      C         0.6    \n",
       "193 20190325_194_S02_055_ND_005      1      1      C         2.6    \n",
       "31  20190325_31_01_184_AD_006        5      3      C         1.0    \n",
       "57  20190325_57_S97_235_AD_003       5      3      C         3.2    \n",
       "77  20190325_77_S11_072_ND_012       2      1      O         1.0    \n",
       "79  20190325_79_S07_308_ND_009       2      1      O         1.0    \n",
       "95  20190325_95_S05_217_ND_002       1      1      B         1.0    \n",
       "123 20190326_123_S16_032_CHC_020     3      2      A         3.2    \n",
       "136 20190326_136_2017_014_CHC_014    2      1      A         1.0    \n",
       "151 20190326_151_2017_129_CHC_017    3      2      A         1.0    \n",
       "177 20190326_176_S04_088_AD_021      5      3      C         3.2    \n",
       "194 20190326_195_S03_035_ND_024      1      1      O         1.0    \n",
       "200 20190326_201_S08_325_ND_019      2      1      O         1.0    \n",
       "202 20190326_203_S09_067_ND_016      1      1      B         1.0    \n",
       "219 20190326_220_SVU10_277_ND_022    1      1      A         1.0    \n",
       "4   20190326_4_S05_106_AD_015        5      3      C         1.0    \n",
       "74  20190326_74_01_059_AD_013        5      3      C         3.2    \n",
       "100 20190328_100_S14_051_ND_032      3      2      B         1.0    \n",
       "108 20190328_108_NABCA15_08_ND_028   1      1      A         1.0    \n",
       "120 20190328_120_S16_008_CHC_030     4      2      C         1.0    \n",
       "126 20190328_126_S16_058_CHC_036     1      1      O         0.6    \n",
       "12  20190328_12_S00_206_AD_031       6      3      C         1.0    \n",
       "130 20190328_130_S16_109_CHC_034     3      2      B         1.0    \n",
       "143 20190328_143_2017_053_CHC_026    3      2      A         1.0    \n",
       "171 20190328_172_S02_214_AD_027      6      3      C         3.2    \n",
       "175 20190328_176_S03_150_AD_033      6      3      C         0.6    \n",
       "⋮   ⋮                                ⋮      ⋮      ⋮         ⋮      \n",
       "207 20190502_208_S11_044_ND_179      1      1      O         3.2    \n",
       "24  20190502_24_S99_134_AD_202       5      3      C         1.0    \n",
       "34  20190502_34_02_314_AD_178        4      2      C         1.0    \n",
       "47  20190502_47_S03_038_AD_182       6      3      C         3.2    \n",
       "52  20190502_52_S07_225_AD_198       6      3      C         3.2    \n",
       "53  20190502_53_07_036_AD_180        4      2      C         3.2    \n",
       "54  20190502_54_S02_121_AD_196       5      3      C         3.2    \n",
       "58  20190502_58_02_160_AD_184        5      3      C         3.2    \n",
       "61  20190502_61_S04_134_AD_205       5      3      C         3.2    \n",
       "69  20190502_69_04_076_AD_189        4      2      C         3.2    \n",
       "71  20190502_71_05_044_AD_191        6      3      C         3.2    \n",
       "93  20190502_93_S01_024_ND_195       1      1      B         0.6    \n",
       "97  20190502_97_S12_090_ND_185       3      2      A         3.2    \n",
       "110 20190507_110_NABCA16_02_ND_210   2      1      A         1.0    \n",
       "112 20190507_112_S14_037_CHC_215     4      2      C         3.2    \n",
       "13  20190507_13_S99_223_AD_207       5      3      C         1.0    \n",
       "142 20190507_142_2017_046_CHC_220    3      2      B         1.0    \n",
       "148 20190507_148_2017_104_CHC_208    3      2      B         2.6    \n",
       "164 20190507_164_2018_065_CHC_212    5      3      C         0.6    \n",
       "199 20190507_200_S08_298_ND_218      1      1      O         1.0    \n",
       "21  20190507_21_01_032_AD_221        4      2      C         1.0    \n",
       "27  20190507_27_00_204_AD_211        5      3      C         1.0    \n",
       "29  20190507_29_S99_240_AD_219       5      3      C         0.6    \n",
       "30  20190507_30_S05_040_AD_209       4      2      C         0.6    \n",
       "63  20190507_63_04_027_AD_217        5      3      C         3.2    \n",
       "72  20190507_72_S99_219_AD_213       5      3      C         3.2    \n",
       "106 20190606_106_NABCA14_08_ND_RERUN 1      1      A         1.0    \n",
       "140 20190606_140_2017_027_CHC_RERUN  5      3      C         1.0    \n",
       "20  20190606_20_S00_166_AD_RERUN     4      2      C         1.0    \n",
       "9   20190606_9_S93_025_AD_RERUN      5      3      C         1.0    \n",
       "    pmd_numeric\n",
       "121  6.166667  \n",
       "125  5.283333  \n",
       "127  7.916667  \n",
       "16   5.916667  \n",
       "182  4.583333  \n",
       "193  5.500000  \n",
       "31   5.083333  \n",
       "57   2.000000  \n",
       "77   7.250000  \n",
       "79   7.916667  \n",
       "95   8.000000  \n",
       "123  5.500000  \n",
       "136  6.166667  \n",
       "151  5.666667  \n",
       "177  4.666667  \n",
       "194 11.500000  \n",
       "200  5.000000  \n",
       "202  2.916667  \n",
       "219  5.666667  \n",
       "4    4.166667  \n",
       "74   4.916667  \n",
       "100  7.750000  \n",
       "108 11.750000  \n",
       "120  7.750000  \n",
       "126  5.916667  \n",
       "12   3.583333  \n",
       "130  4.083333  \n",
       "143 10.750000  \n",
       "171  4.750000  \n",
       "175  3.833333  \n",
       "⋮   ⋮          \n",
       "207  7.750000  \n",
       "24   4.083333  \n",
       "34   5.000000  \n",
       "47   4.916667  \n",
       "52   5.250000  \n",
       "53   5.916667  \n",
       "54   7.283333  \n",
       "58   3.750000  \n",
       "61   5.166667  \n",
       "69   5.500000  \n",
       "71   5.750000  \n",
       "93   5.750000  \n",
       "97   4.166667  \n",
       "110  5.416667  \n",
       "112  7.450000  \n",
       "13   3.750000  \n",
       "142  5.833333  \n",
       "148  7.083333  \n",
       "164  4.000000  \n",
       "199  5.250000  \n",
       "21  12.250000  \n",
       "27   5.000000  \n",
       "29   3.750000  \n",
       "30   2.500000  \n",
       "63   7.000000  \n",
       "72   4.666667  \n",
       "106  7.333333  \n",
       "140  6.083333  \n",
       "20   3.500000  \n",
       "9    2.416667  "
      ]
     },
     "metadata": {},
     "output_type": "display_data"
    }
   ],
   "source": [
    "metadata"
   ]
  },
  {
   "cell_type": "code",
   "execution_count": 10,
   "metadata": {},
   "outputs": [],
   "source": [
    "write.xlsx(metadata[c(\"nbb\", \"autopsy\", \"filenames\")], file = \"100_plus_project/Metadata/Sample_ID_profile_name_mapping.xlsx\", \n",
    "           sheetName = \"Sheet1\", col.names = TRUE, row.names = FALSE, append = FALSE)"
   ]
  },
  {
   "cell_type": "code",
   "execution_count": 11,
   "metadata": {},
   "outputs": [],
   "source": [
    "colnames(High_quality_protein_intensity_matrix) <- c(colnames(High_quality_protein_intensity_matrix)[1],\n",
    "                                                     sapply(colnames(High_quality_protein_intensity_matrix)[2:191], \n",
    "                                                            substring, 11))"
   ]
  },
  {
   "cell_type": "code",
   "execution_count": 12,
   "metadata": {},
   "outputs": [],
   "source": [
    "write.xlsx2(High_quality_protein_intensity_matrix, file = \"100_plus_project/Proteomics_data/Protein_abundance.xlsx\", \n",
    "           sheetName = \"Sheet1\", col.names = TRUE, row.names = FALSE, append = FALSE)"
   ]
  },
  {
   "cell_type": "code",
   "execution_count": 10,
   "metadata": {},
   "outputs": [
    {
     "data": {
      "text/html": [
       "<style>\n",
       ".list-inline {list-style: none; margin:0; padding: 0}\n",
       ".list-inline>li {display: inline-block}\n",
       ".list-inline>li:not(:last-child)::after {content: \"\\00b7\"; padding: 0 .5ex}\n",
       "</style>\n",
       "<ol class=list-inline><li>3448</li><li>191</li></ol>\n"
      ],
      "text/latex": [
       "\\begin{enumerate*}\n",
       "\\item 3448\n",
       "\\item 191\n",
       "\\end{enumerate*}\n"
      ],
      "text/markdown": [
       "1. 3448\n",
       "2. 191\n",
       "\n",
       "\n"
      ],
      "text/plain": [
       "[1] 3448  191"
      ]
     },
     "metadata": {},
     "output_type": "display_data"
    }
   ],
   "source": [
    "dim(High_quality_protein_intensity_matrix)"
   ]
  },
  {
   "cell_type": "code",
   "execution_count": 11,
   "metadata": {},
   "outputs": [
    {
     "data": {
      "text/html": [
       "<style>\n",
       ".list-inline {list-style: none; margin:0; padding: 0}\n",
       ".list-inline>li {display: inline-block}\n",
       ".list-inline>li:not(:last-child)::after {content: \"\\00b7\"; padding: 0 .5ex}\n",
       "</style>\n",
       "<ol class=list-inline><li>190</li><li>16</li></ol>\n"
      ],
      "text/latex": [
       "\\begin{enumerate*}\n",
       "\\item 190\n",
       "\\item 16\n",
       "\\end{enumerate*}\n"
      ],
      "text/markdown": [
       "1. 190\n",
       "2. 16\n",
       "\n",
       "\n"
      ],
      "text/plain": [
       "[1] 190  16"
      ]
     },
     "metadata": {},
     "output_type": "display_data"
    }
   ],
   "source": [
    "dim(metadata)"
   ]
  },
  {
   "cell_type": "code",
   "execution_count": null,
   "metadata": {},
   "outputs": [],
   "source": []
  },
  {
   "cell_type": "code",
   "execution_count": null,
   "metadata": {},
   "outputs": [],
   "source": []
  },
  {
   "cell_type": "code",
   "execution_count": 12,
   "metadata": {},
   "outputs": [
    {
     "name": "stderr",
     "output_type": "stream",
     "text": [
      "Warning message in cal_sample_batch_index(metadata$filenames):\n",
      "“NAs introduced by coercion”Found29batches\n",
      "Adjusting for0covariate(s) or covariate level(s)\n"
     ]
    },
    {
     "name": "stdout",
     "output_type": "stream",
     "text": [
      "Standardizing Data across genes\n"
     ]
    },
    {
     "name": "stderr",
     "output_type": "stream",
     "text": [
      "Fitting L/S model and finding priors\n",
      "Finding parametric adjustments\n",
      "Adjusting the Data\n",
      "\n"
     ]
    }
   ],
   "source": [
    "cal_sample_batch_index <- function(sample_names){\n",
    "    sample_index <- apply(as.data.frame(sample_names), 1, str_sub, -3)\n",
    "    for (i in 1:length(sample_index)){\n",
    "        sample_index[i] <- gsub(\"_\", \"0\", sample_index[i])\n",
    "    }\n",
    "    sample_index <- as.numeric(sample_index)\n",
    "    sample_index <- (sample_index - 1) %/% 8\n",
    "    extra_batch <- max(sample_index, na.rm=TRUE) + 1\n",
    "    sample_index[is.na(sample_index)] <- extra_batch\n",
    "    return(sample_index)\n",
    "}\n",
    "\n",
    "protein_intensity_combat <- ComBat(dat=log2(as.matrix(High_quality_protein_intensity_matrix[,-1])), \n",
    "                                     batch=cal_sample_batch_index(metadata$filenames), mod=NULL, par.prior=TRUE, prior.plots=FALSE)\n",
    "rownames(protein_intensity_combat) <- High_quality_protein_intensity_matrix$protein"
   ]
  },
  {
   "cell_type": "code",
   "execution_count": null,
   "metadata": {},
   "outputs": [],
   "source": []
  },
  {
   "cell_type": "code",
   "execution_count": null,
   "metadata": {},
   "outputs": [],
   "source": []
  },
  {
   "cell_type": "code",
   "execution_count": 13,
   "metadata": {},
   "outputs": [],
   "source": [
    "cell_type_matrix <- read.table(\"R_workstation/100_plus_proteomic_cell_type_enrichment/EWCE_celltype_v2.tsv\",\n",
    "                               header =TRUE,\n",
    "                               stringsAsFactors=F, sep = \"\\t\")"
   ]
  },
  {
   "cell_type": "code",
   "execution_count": 14,
   "metadata": {},
   "outputs": [
    {
     "data": {
      "text/html": [
       "<style>\n",
       ".list-inline {list-style: none; margin:0; padding: 0}\n",
       ".list-inline>li {display: inline-block}\n",
       ".list-inline>li:not(:last-child)::after {content: \"\\00b7\"; padding: 0 .5ex}\n",
       "</style>\n",
       "<ol class=list-inline><li>3448</li><li>4</li></ol>\n"
      ],
      "text/latex": [
       "\\begin{enumerate*}\n",
       "\\item 3448\n",
       "\\item 4\n",
       "\\end{enumerate*}\n"
      ],
      "text/markdown": [
       "1. 3448\n",
       "2. 4\n",
       "\n",
       "\n"
      ],
      "text/plain": [
       "[1] 3448    4"
      ]
     },
     "metadata": {},
     "output_type": "display_data"
    }
   ],
   "source": [
    "dim(cell_type_matrix)"
   ]
  },
  {
   "cell_type": "code",
   "execution_count": 15,
   "metadata": {},
   "outputs": [],
   "source": [
    "cell_type_matrix[grep(\";\", cell_type_matrix$protein), ]$celltype <- NA"
   ]
  },
  {
   "cell_type": "code",
   "execution_count": null,
   "metadata": {
    "scrolled": true
   },
   "outputs": [],
   "source": []
  },
  {
   "cell_type": "code",
   "execution_count": 16,
   "metadata": {},
   "outputs": [],
   "source": [
    "cal_ANOVA_test <- function(variable, group){\n",
    "    pdata <- data.frame(variable=as.numeric(drop(t(variable))), group=factor(group))\n",
    "    test_anova <- oneway.test(variable~group, data=pdata, var.equal=F)\n",
    "    return(test_anova$p.value)\n",
    "}\n",
    "\n",
    "lm_sig_test <- function(re_variable, exp_variable){\n",
    "    lm_data <- data.frame(re=as.numeric(re_variable), exp=as.numeric(exp_variable))\n",
    "    fit_lm <- lm(re~exp, data = lm_data)\n",
    "    #F <- summary(fit_lm)$fstatistic\n",
    "    #return(pf(F[1], F[2], F[3], lower.tail = FALSE))\n",
    "    return(summary(fit_lm)$coefficients[2,][c(1,4)])\n",
    "}\n",
    "\n",
    "cal_effect_size_mmd_median <- function(protein_intens, braak){\n",
    "    intens <- numeric(0)\n",
    "    for(i in sort(unique(braak))){\n",
    "        intens <- c(intens, median(protein_intens[which(braak == i)]))\n",
    "    }\n",
    "    \n",
    "    if(which.max(intens) > which.min(intens)) \n",
    "        return(log2(max(intens)/min(intens)))\n",
    "    else\n",
    "        return(log2(min(intens)/max(intens)))\n",
    "}\n",
    "\n",
    "cal_median_for_stage <- function(protein_intens, braak){\n",
    "    intens <- numeric(0)\n",
    "    #print(sort(unique(braak)))\n",
    "    for(i in sort(unique(braak))){\n",
    "        intens <- c(intens, median(protein_intens[which(braak == i)]))\n",
    "    }\n",
    "    return(intens)\n",
    "}\n",
    "\n",
    "cal_mean_for_stage <- function(protein_intens, braak){\n",
    "    intens <- numeric(0)\n",
    "    for(i in sort(unique(braak))){\n",
    "        intens <- c(intens, mean(protein_intens[which(braak == i)]))\n",
    "    }\n",
    "    return(intens)\n",
    "}\n",
    "\n",
    "cal_median_for_age <- function(protein_intens, age){\n",
    "    intens <- numeric(0)\n",
    "    for(i in sort(unique(age))){\n",
    "        intens <- c(intens, median(protein_intens[which(age == i)]))\n",
    "    }\n",
    "    return(intens)\n",
    "}\n",
    "\n",
    "get_sig_protein <- function(proteins){\n",
    "    single_proteins <- vector()\n",
    "    for(i in proteins){\n",
    "        single_proteins <- c(single_proteins, unlist(strsplit(i, split = \";\")))\n",
    "    }\n",
    "    \n",
    "    return(single_proteins)\n",
    "}\n",
    "\n",
    "get_single_protein <- function(proteins){\n",
    "    single_proteins <- proteins[-grep(\";\", proteins)]\n",
    "    return(single_proteins)\n",
    "}\n",
    "\n",
    "get_first_protein <- function(proteins){\n",
    "    single_proteins <- vector()\n",
    "    for(i in proteins){\n",
    "        #print(i)\n",
    "        #print(unlist(strsplit(i, split = \";\"))[1])\n",
    "        single_proteins <- c(single_proteins, unlist(strsplit(i, split = \";\"))[1])\n",
    "    }\n",
    "    return(single_proteins)\n",
    "}"
   ]
  },
  {
   "cell_type": "code",
   "execution_count": 17,
   "metadata": {},
   "outputs": [],
   "source": [
    "get_first_unique_protein <- function(proteins){\n",
    "    existed <- get_single_protein(proteins)\n",
    "    \n",
    "    single_proteins <- vector()\n",
    "    for(i in proteins){\n",
    "        sub_proteins <- unlist(strsplit(i, split = \";\"))\n",
    "        if(length(sub_proteins) == 1)\n",
    "            single_proteins <- c(single_proteins, sub_proteins)\n",
    "        else{\n",
    "            present <- TRUE\n",
    "            for(j in sub_proteins){\n",
    "                if(!(j %in% existed)){\n",
    "                    existed <- c(existed, j)\n",
    "                    single_proteins <- c(single_proteins, j)\n",
    "                    present <- FALSE\n",
    "                    break\n",
    "                }\n",
    "            }\n",
    "            if(present){\n",
    "                single_proteins <- c(single_proteins, i)\n",
    "            }\n",
    "        }\n",
    "    }\n",
    "    \n",
    "    real_single_proteins <- get_first_protein(single_proteins)\n",
    "    \n",
    "    return(real_single_proteins)\n",
    "    \n",
    "    \n",
    "}"
   ]
  },
  {
   "cell_type": "code",
   "execution_count": 18,
   "metadata": {},
   "outputs": [
    {
     "data": {
      "text/plain": [
       "\n",
       " AD CHC  ND \n",
       " 88  49  53 "
      ]
     },
     "metadata": {},
     "output_type": "display_data"
    }
   ],
   "source": [
    "table(metadata$GROUP)"
   ]
  },
  {
   "cell_type": "code",
   "execution_count": 19,
   "metadata": {},
   "outputs": [
    {
     "data": {
      "text/html": [
       "141"
      ],
      "text/latex": [
       "141"
      ],
      "text/markdown": [
       "141"
      ],
      "text/plain": [
       "[1] 141"
      ]
     },
     "metadata": {},
     "output_type": "display_data"
    }
   ],
   "source": [
    "Braak_test_index <- which((metadata$GROUP != \"CHC\"))\n",
    "length(Braak_test_index)\n",
    "\n",
    "protein_intensity_combat_nonlog <- 2^protein_intensity_combat"
   ]
  },
  {
   "cell_type": "code",
   "execution_count": null,
   "metadata": {},
   "outputs": [],
   "source": []
  },
  {
   "cell_type": "code",
   "execution_count": 20,
   "metadata": {},
   "outputs": [],
   "source": [
    "pathology_related_proteins_ANOVA <- as.data.frame(apply(protein_intensity_combat[, Braak_test_index], 1, \n",
    "                                                        cal_ANOVA_test, metadata[Braak_test_index, ]$amyloid))\n",
    "colnames(pathology_related_proteins_ANOVA) <- c(\"p_value\")\n",
    "pathology_related_proteins_ANOVA$adjusted_p_value <- p.adjust(pathology_related_proteins_ANOVA$p_value,\n",
    "                                                              method=\"BH\")\n",
    "\n",
    "pathology_related_proteins_ANOVA$effect_size <- apply(protein_intensity_combat_nonlog[, Braak_test_index], 1, \n",
    "                                                      cal_effect_size_mmd_median, metadata[Braak_test_index, ]$amyloid)\n",
    "pathology_related_proteins_ANOVA$Gene <- get_first_unique_protein(High_quality_protein_intensity_matrix$protein)\n",
    "\n",
    "\n",
    "pathology_related_proteins_lm <- as.data.frame(t(apply(protein_intensity_combat[, Braak_test_index], 1, \n",
    "                                                       lm_sig_test, metadata[Braak_test_index,]$amyloid)))\n",
    "colnames(pathology_related_proteins_lm) <- c(\"effect_size\", \"p_value\")\n",
    "pathology_related_proteins_lm$adjusted_p_value <- p.adjust(pathology_related_proteins_lm$p_value, \n",
    "                                                              method=\"BH\")\n",
    "\n",
    "#pathology_related_proteins_lm$effect_size <- apply(protein_intensity_combat_nonlog[, Braak_test_index], 1, \n",
    "#                                                      cal_effect_size_mmd_median, metadata[Braak_test_index, ]$fBraak)\n",
    "pathology_related_proteins_lm$Gene <- get_first_unique_protein(High_quality_protein_intensity_matrix$protein)"
   ]
  },
  {
   "cell_type": "code",
   "execution_count": null,
   "metadata": {},
   "outputs": [],
   "source": []
  },
  {
   "cell_type": "code",
   "execution_count": 21,
   "metadata": {},
   "outputs": [
    {
     "data": {
      "text/html": [
       "18"
      ],
      "text/latex": [
       "18"
      ],
      "text/markdown": [
       "18"
      ],
      "text/plain": [
       "[1] 18"
      ]
     },
     "metadata": {},
     "output_type": "display_data"
    },
    {
     "data": {
      "text/html": [
       "23"
      ],
      "text/latex": [
       "23"
      ],
      "text/markdown": [
       "23"
      ],
      "text/plain": [
       "[1] 23"
      ]
     },
     "metadata": {},
     "output_type": "display_data"
    },
    {
     "data": {
      "text/html": [
       "28"
      ],
      "text/latex": [
       "28"
      ],
      "text/markdown": [
       "28"
      ],
      "text/plain": [
       "[1] 28"
      ]
     },
     "metadata": {},
     "output_type": "display_data"
    },
    {
     "data": {
      "text/html": [
       "34"
      ],
      "text/latex": [
       "34"
      ],
      "text/markdown": [
       "34"
      ],
      "text/plain": [
       "[1] 34"
      ]
     },
     "metadata": {},
     "output_type": "display_data"
    },
    {
     "data": {
      "text/html": [
       "30"
      ],
      "text/latex": [
       "30"
      ],
      "text/markdown": [
       "30"
      ],
      "text/plain": [
       "[1] 30"
      ]
     },
     "metadata": {},
     "output_type": "display_data"
    },
    {
     "data": {
      "text/html": [
       "37"
      ],
      "text/latex": [
       "37"
      ],
      "text/markdown": [
       "37"
      ],
      "text/plain": [
       "[1] 37"
      ]
     },
     "metadata": {},
     "output_type": "display_data"
    },
    {
     "data": {
      "text/html": [
       "67"
      ],
      "text/latex": [
       "67"
      ],
      "text/markdown": [
       "67"
      ],
      "text/plain": [
       "[1] 67"
      ]
     },
     "metadata": {},
     "output_type": "display_data"
    }
   ],
   "source": [
    "top_percent_p <- 0.05\n",
    "top_percent_lfc <- 0.05\n",
    "\n",
    "down_index_ANOVA <- which(pathology_related_proteins_ANOVA$effect_size < 0)\n",
    "top_down_ANOVA_lfc <- down_index_ANOVA[order(pathology_related_proteins_ANOVA[down_index_ANOVA, ]$effect_size)[1:round(length(down_index_ANOVA) * top_percent_lfc)]]\n",
    "top_down_ANOVA_p <- down_index_ANOVA[order(pathology_related_proteins_ANOVA[down_index_ANOVA, ]$adjusted_p_value)[1:round(length(down_index_ANOVA) * top_percent_p)]]\n",
    "topT_down_ANOVA <- intersect(top_down_ANOVA_p, top_down_ANOVA_lfc)\n",
    "length(topT_down_ANOVA)\n",
    "\n",
    "up_index_ANOVA <- which(pathology_related_proteins_ANOVA$effect_size > 0)\n",
    "top_up_ANOVA_lfc <- up_index_ANOVA[order(pathology_related_proteins_ANOVA[up_index_ANOVA, ]$effect_size, decreasing = TRUE)[1:round(length(up_index_ANOVA) * top_percent_lfc)]]\n",
    "top_up_ANOVA_p <- up_index_ANOVA[order(pathology_related_proteins_ANOVA[up_index_ANOVA, ]$adjusted_p_value)[1:round(length(up_index_ANOVA) * top_percent_p)]]\n",
    "topT_up_ANOVA <- intersect(top_up_ANOVA_p, top_up_ANOVA_lfc)\n",
    "length(topT_up_ANOVA)\n",
    "\n",
    "down_index_lm <- which(pathology_related_proteins_lm$effect_size < 0)\n",
    "top_down_lm_lfc <- down_index_lm[order(pathology_related_proteins_lm[down_index_lm, ]$effect_size)[1:round(length(down_index_lm) * top_percent_lfc)]]\n",
    "top_down_lm_p <- down_index_lm[order(pathology_related_proteins_lm[down_index_lm, ]$adjusted_p_value)[1:round(length(down_index_lm) * top_percent_p)]]\n",
    "topT_down_lm <- intersect(top_down_lm_p, top_down_lm_lfc)\n",
    "length(topT_down_lm)\n",
    "\n",
    "up_index_lm <- which(pathology_related_proteins_lm$effect_size > 0)\n",
    "top_up_lm_lfc <- up_index_lm[order(pathology_related_proteins_lm[up_index_lm, ]$effect_size, decreasing = TRUE)[1:round(length(up_index_lm) * top_percent_lfc)]]\n",
    "top_up_lm_p <- up_index_lm[order(pathology_related_proteins_lm[up_index_lm, ]$adjusted_p_value)[1:round(length(up_index_lm) * top_percent_p)]]\n",
    "topT_up_lm <- intersect(top_up_lm_p, top_up_lm_lfc)\n",
    "length(topT_up_lm)\n",
    "\n",
    "topT_down_union <- union(topT_down_ANOVA, topT_down_lm)\n",
    "topT_up_union <- union(topT_up_ANOVA, topT_up_lm)\n",
    "length(topT_down_union)\n",
    "length(topT_up_union)\n",
    "\n",
    "topT_sig_index <- union(topT_down_union,topT_up_union)\n",
    "length(topT_sig_index)"
   ]
  },
  {
   "cell_type": "code",
   "execution_count": 27,
   "metadata": {},
   "outputs": [
    {
     "data": {
      "text/html": [
       "158"
      ],
      "text/latex": [
       "158"
      ],
      "text/markdown": [
       "158"
      ],
      "text/plain": [
       "[1] 158"
      ]
     },
     "metadata": {},
     "output_type": "display_data"
    },
    {
     "data": {
      "text/html": [
       "189"
      ],
      "text/latex": [
       "189"
      ],
      "text/markdown": [
       "189"
      ],
      "text/plain": [
       "[1] 189"
      ]
     },
     "metadata": {},
     "output_type": "display_data"
    },
    {
     "data": {
      "text/html": [
       "206"
      ],
      "text/latex": [
       "206"
      ],
      "text/markdown": [
       "206"
      ],
      "text/plain": [
       "[1] 206"
      ]
     },
     "metadata": {},
     "output_type": "display_data"
    },
    {
     "data": {
      "text/html": [
       "233"
      ],
      "text/latex": [
       "233"
      ],
      "text/markdown": [
       "233"
      ],
      "text/plain": [
       "[1] 233"
      ]
     },
     "metadata": {},
     "output_type": "display_data"
    },
    {
     "data": {
      "text/html": [
       "222"
      ],
      "text/latex": [
       "222"
      ],
      "text/markdown": [
       "222"
      ],
      "text/plain": [
       "[1] 222"
      ]
     },
     "metadata": {},
     "output_type": "display_data"
    },
    {
     "data": {
      "text/html": [
       "245"
      ],
      "text/latex": [
       "245"
      ],
      "text/markdown": [
       "245"
      ],
      "text/plain": [
       "[1] 245"
      ]
     },
     "metadata": {},
     "output_type": "display_data"
    },
    {
     "data": {
      "text/html": [
       "467"
      ],
      "text/latex": [
       "467"
      ],
      "text/markdown": [
       "467"
      ],
      "text/plain": [
       "[1] 467"
      ]
     },
     "metadata": {},
     "output_type": "display_data"
    }
   ],
   "source": [
    "top_percent_p <- 0.20\n",
    "top_percent_lfc <- 0.20\n",
    "\n",
    "## Top down-regulating proteins ##\n",
    "## Top down-regulating proteins ##\n",
    "\n",
    "down_index_ANOVA <- which(pathology_related_proteins_ANOVA$effect_size < 0)\n",
    "\n",
    "top_down_ANOVA_lfc <- down_index_ANOVA[order(pathology_related_proteins_ANOVA[down_index_ANOVA, ]$effect_size)[1:round(length(down_index_ANOVA) * top_percent_lfc)]]\n",
    "top_down_ANOVA_p <- down_index_ANOVA[order(pathology_related_proteins_ANOVA[down_index_ANOVA, ]$adjusted_p_value)[1:round(length(down_index_ANOVA) * top_percent_p)]]\n",
    "\n",
    "top_down_ANOVA <- intersect(top_down_ANOVA_p, top_down_ANOVA_lfc)\n",
    "length(top_down_ANOVA)\n",
    "\n",
    "up_index_ANOVA <- which(pathology_related_proteins_ANOVA$effect_size > 0)\n",
    "\n",
    "top_up_ANOVA_lfc <- up_index_ANOVA[order(pathology_related_proteins_ANOVA[up_index_ANOVA, ]$effect_size, decreasing = TRUE)[1:round(length(up_index_ANOVA) * top_percent_lfc)]]\n",
    "top_up_ANOVA_p <- up_index_ANOVA[order(pathology_related_proteins_ANOVA[up_index_ANOVA, ]$adjusted_p_value)[1:round(length(up_index_ANOVA) * top_percent_p)]]\n",
    "\n",
    "top_up_ANOVA <- intersect(top_up_ANOVA_p, top_up_ANOVA_lfc)\n",
    "length(top_up_ANOVA)\n",
    "\n",
    "\n",
    "\n",
    "#plot_selected_protein_lfc(pathology_related_proteins_ANOVA, c(top_up_ANOVA, top_down_ANOVA))\n",
    "\n",
    "down_index_lm <- which(pathology_related_proteins_lm$effect_size < 0)\n",
    "top_down_lm_lfc <- down_index_lm[order(pathology_related_proteins_lm[down_index_lm, ]$effect_size)[1:round(length(down_index_lm) * top_percent_lfc)]]\n",
    "top_down_lm_p <- down_index_lm[order(pathology_related_proteins_lm[down_index_lm, ]$adjusted_p_value)[1:round(length(down_index_lm) * top_percent_p)]]\n",
    "top_down_lm <- intersect(top_down_lm_p, top_down_lm_lfc)\n",
    "length(top_down_lm)\n",
    "\n",
    "up_index_lm <- which(pathology_related_proteins_lm$effect_size > 0)\n",
    "top_up_lm_lfc <- up_index_lm[order(pathology_related_proteins_lm[up_index_lm, ]$effect_size, decreasing = TRUE)[1:round(length(up_index_lm) * top_percent_lfc)]]\n",
    "top_up_lm_p <- up_index_lm[order(pathology_related_proteins_lm[up_index_lm, ]$adjusted_p_value)[1:round(length(up_index_lm) * top_percent_p)]]\n",
    "top_up_lm <- intersect(top_up_lm_p, top_up_lm_lfc)\n",
    "length(top_up_lm)\n",
    "\n",
    "#plot_selected_protein_es(pathology_related_proteins_lm, c(top_down_lm, top_up_lm))\n",
    "\n",
    "top_down_union <- union(top_down_ANOVA, top_down_lm)\n",
    "top_up_union <- union(top_up_ANOVA, top_up_lm)\n",
    "length(top_down_union)\n",
    "length(top_up_union)\n",
    "\n",
    "sig_index <- c(top_down_union,top_up_union)\n",
    "length(sig_index)"
   ]
  },
  {
   "cell_type": "code",
   "execution_count": 28,
   "metadata": {},
   "outputs": [
    {
     "data": {
      "text/html": [
       "347"
      ],
      "text/latex": [
       "347"
      ],
      "text/markdown": [
       "347"
      ],
      "text/plain": [
       "[1] 347"
      ]
     },
     "metadata": {},
     "output_type": "display_data"
    }
   ],
   "source": [
    "length(union(top_down_ANOVA, top_up_ANOVA))"
   ]
  },
  {
   "cell_type": "code",
   "execution_count": 29,
   "metadata": {},
   "outputs": [
    {
     "data": {
      "text/html": [
       "439"
      ],
      "text/latex": [
       "439"
      ],
      "text/markdown": [
       "439"
      ],
      "text/plain": [
       "[1] 439"
      ]
     },
     "metadata": {},
     "output_type": "display_data"
    }
   ],
   "source": [
    "length(union(top_down_lm, top_up_lm))"
   ]
  },
  {
   "cell_type": "code",
   "execution_count": null,
   "metadata": {},
   "outputs": [],
   "source": []
  },
  {
   "cell_type": "code",
   "execution_count": 25,
   "metadata": {},
   "outputs": [
    {
     "data": {
      "text/html": [
       "472"
      ],
      "text/latex": [
       "472"
      ],
      "text/markdown": [
       "472"
      ],
      "text/plain": [
       "[1] 472"
      ]
     },
     "metadata": {},
     "output_type": "display_data"
    }
   ],
   "source": [
    "load(file = \"Temp_results/Braak_stage_related_proteins_sig_index.Rdata\")\n",
    "length(sig_index)\n",
    "sig_index_Braak <- sig_index"
   ]
  },
  {
   "cell_type": "code",
   "execution_count": null,
   "metadata": {},
   "outputs": [],
   "source": []
  },
  {
   "cell_type": "code",
   "execution_count": 52,
   "metadata": {},
   "outputs": [
    {
     "data": {
      "text/html": [
       "<strong>pdf:</strong> 2"
      ],
      "text/latex": [
       "\\textbf{pdf:} 2"
      ],
      "text/markdown": [
       "**pdf:** 2"
      ],
      "text/plain": [
       "pdf \n",
       "  2 "
      ]
     },
     "metadata": {},
     "output_type": "display_data"
    }
   ],
   "source": [
    "x <- list(sig_Amyloid=sig_index, \n",
    "          sig_Braak=sig_index_Braak)\n",
    "\n",
    "path <- \"100_plus_plots/proteomics/Overlap_between_Amyloid_and_Braak_stage_proteins.svg\"\n",
    "p <- venn.diagram(x, filename = NULL, imagetype = \"svg\", \n",
    "                  fill=c('slateblue', 'sienna1'),\n",
    "                  category.names=c(\"Amyloid stage-related proteins\",\n",
    "                                   \"Braak stage-related proteins\"), margin = 0.01,\n",
    "                  lwd = 0, alpha = 0.8, cat.dist=c(-0.1, -0.04))\n",
    "\n",
    "pdf(\"100_plus_plots/proteomics/Overlap_between_Amyloid_and_Braak_stage_proteins.pdf\")\n",
    "grid.draw(p)\n",
    "dev.off()"
   ]
  },
  {
   "cell_type": "code",
   "execution_count": 31,
   "metadata": {},
   "outputs": [
    {
     "data": {
      "text/html": [
       "0.866525423728814"
      ],
      "text/latex": [
       "0.866525423728814"
      ],
      "text/markdown": [
       "0.866525423728814"
      ],
      "text/plain": [
       "[1] 0.8665254"
      ]
     },
     "metadata": {},
     "output_type": "display_data"
    },
    {
     "data": {
      "text/html": [
       "0.875802997858672"
      ],
      "text/latex": [
       "0.875802997858672"
      ],
      "text/markdown": [
       "0.875802997858672"
      ],
      "text/plain": [
       "[1] 0.875803"
      ]
     },
     "metadata": {},
     "output_type": "display_data"
    }
   ],
   "source": [
    "409/472\n",
    "409/467"
   ]
  },
  {
   "cell_type": "code",
   "execution_count": null,
   "metadata": {},
   "outputs": [],
   "source": []
  },
  {
   "cell_type": "code",
   "execution_count": 32,
   "metadata": {},
   "outputs": [
    {
     "data": {
      "text/html": [
       "467"
      ],
      "text/latex": [
       "467"
      ],
      "text/markdown": [
       "467"
      ],
      "text/plain": [
       "[1] 467"
      ]
     },
     "metadata": {},
     "output_type": "display_data"
    }
   ],
   "source": [
    "length(sig_index)"
   ]
  },
  {
   "cell_type": "markdown",
   "metadata": {},
   "source": [
    "### Prepare data table for proteomics paper "
   ]
  },
  {
   "cell_type": "code",
   "execution_count": 40,
   "metadata": {
    "scrolled": true
   },
   "outputs": [],
   "source": [
    "pathology_related_proteins_ANOVA <- cbind(rownames(pathology_related_proteins_ANOVA), \n",
    "                                          pathology_related_proteins_ANOVA)\n",
    "\n",
    "colnames(pathology_related_proteins_ANOVA) <- c(\"Protein_name\", \"ANOVA_p_value\", \"ANOVA_FDR\", \n",
    "                                                \"LFC\", \"Gene\")\n",
    "pathology_related_proteins_ANOVA <- pathology_related_proteins_ANOVA[, c(1, 5, 2:4)]\n",
    "\n",
    "pathology_related_proteins_ANOVA$ANOVA_top20_p <- \"no\"\n",
    "pathology_related_proteins_ANOVA[c(top_down_ANOVA_p, top_up_ANOVA_p), ]$ANOVA_top20_p <- \"yes\"\n",
    "\n",
    "pathology_related_proteins_ANOVA$ANOVA_top20_LFC <- \"no\"\n",
    "pathology_related_proteins_ANOVA[c(top_down_ANOVA_lfc, top_up_ANOVA_lfc), ]$ANOVA_top20_LFC <- \"yes\"\n",
    "\n",
    "pathology_related_proteins_ANOVA$Significant_in_assumption1 <- \"no\"\n",
    "pathology_related_proteins_ANOVA[c(top_down_ANOVA, top_up_ANOVA), ]$Significant_in_assumption1 <- \"yes\""
   ]
  },
  {
   "cell_type": "code",
   "execution_count": 41,
   "metadata": {},
   "outputs": [],
   "source": [
    "pathology_related_proteins_lm <- cbind(rownames(pathology_related_proteins_lm), \n",
    "                                       pathology_related_proteins_lm)\n",
    "\n",
    "colnames(pathology_related_proteins_lm) <- c(\"Protein name\", \"Linear_effect_size\", \"Linear_p_value\", \n",
    "                                             \"Linear_FDR\", \"Gene\")\n",
    "\n",
    "pathology_related_proteins_lm$Linear_top20_p <- \"no\"\n",
    "pathology_related_proteins_lm[c(top_down_lm_p, top_up_lm_p), ]$Linear_top20_p <- \"yes\"\n",
    "\n",
    "pathology_related_proteins_lm$Linear_top20_effect_size <- \"no\"\n",
    "pathology_related_proteins_lm[c(top_down_lm_lfc, top_up_lm_lfc), ]$Linear_top20_effect_size <- \"yes\"\n",
    "\n",
    "pathology_related_proteins_lm$Significant_in_assumption2 <- \"no\"\n",
    "pathology_related_proteins_lm[c(top_down_lm, top_up_lm), ]$Significant_in_assumption2 <- \"yes\""
   ]
  },
  {
   "cell_type": "code",
   "execution_count": 76,
   "metadata": {},
   "outputs": [],
   "source": [
    "Braak_stage_related_proteins <- cbind(pathology_related_proteins_ANOVA, pathology_related_proteins_lm[-c(1, 5)])"
   ]
  },
  {
   "cell_type": "code",
   "execution_count": 77,
   "metadata": {},
   "outputs": [],
   "source": [
    "write.table(Braak_stage_related_proteins[sig_index, ], \n",
    "            file = \"100_plus_results/Results_for_paper_supplementary/Amyloid_stage_related_proteins_two_assumptions.tsv\",\n",
    "            row.names = FALSE, quote = FALSE, sep = \"\\t\")"
   ]
  },
  {
   "cell_type": "code",
   "execution_count": 78,
   "metadata": {},
   "outputs": [],
   "source": [
    "write.xlsx(Braak_stage_related_proteins[sig_index, ], \n",
    "           file = \"100_plus_results/Results_for_paper_supplementary/Amyloid_stage_related_proteins_two_assumptions.xlsx\",\n",
    "           sheetName = \"Sheet1\",\n",
    "           col.names = TRUE,\n",
    "           row.names = FALSE)"
   ]
  },
  {
   "cell_type": "markdown",
   "metadata": {},
   "source": [
    "#### Prepare data table for proteomics paper"
   ]
  },
  {
   "cell_type": "code",
   "execution_count": 42,
   "metadata": {},
   "outputs": [],
   "source": [
    "protein_list_basicInfo <- pathology_related_proteins_ANOVA[c(1, 2)]"
   ]
  },
  {
   "cell_type": "code",
   "execution_count": 43,
   "metadata": {},
   "outputs": [],
   "source": [
    "protein_list_unique_Amyloid <- protein_list_basicInfo[sig_index[which(!(sig_index %in% sig_index_Braak))], ]\n",
    "protein_list_unique_Braak <- protein_list_basicInfo[sig_index_Braak[which(!(sig_index_Braak %in% sig_index))], ]"
   ]
  },
  {
   "cell_type": "code",
   "execution_count": 44,
   "metadata": {},
   "outputs": [],
   "source": [
    "write.xlsx(protein_list_unique_Amyloid, \n",
    "           file = \"100_plus_results/Results_for_paper_supplementary/Unique_Amyloid_stage_related_proteins.xlsx\",\n",
    "           sheetName = \"Sheet1\",\n",
    "           col.names = TRUE,\n",
    "           row.names = FALSE)"
   ]
  },
  {
   "cell_type": "code",
   "execution_count": 45,
   "metadata": {
    "scrolled": true
   },
   "outputs": [],
   "source": [
    "write.xlsx(protein_list_unique_Braak, \n",
    "           file = \"100_plus_results/Results_for_paper_supplementary/Unique_Braak_stage_related_proteins.xlsx\",\n",
    "           sheetName = \"Sheet1\",\n",
    "           col.names = TRUE,\n",
    "           row.names = FALSE)"
   ]
  },
  {
   "cell_type": "code",
   "execution_count": null,
   "metadata": {},
   "outputs": [],
   "source": []
  }
 ],
 "metadata": {
  "kernelspec": {
   "display_name": "R",
   "language": "R",
   "name": "ir"
  },
  "language_info": {
   "codemirror_mode": "r",
   "file_extension": ".r",
   "mimetype": "text/x-r-source",
   "name": "R",
   "pygments_lexer": "r",
   "version": "3.6.3"
  }
 },
 "nbformat": 4,
 "nbformat_minor": 2
}
