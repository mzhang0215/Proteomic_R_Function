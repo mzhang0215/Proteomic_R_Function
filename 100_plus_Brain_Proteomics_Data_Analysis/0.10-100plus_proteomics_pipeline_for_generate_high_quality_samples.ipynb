{
 "cells": [
  {
   "cell_type": "code",
   "execution_count": 136,
   "metadata": {},
   "outputs": [],
   "source": [
    "library(data.table)\n",
    "library(stringr)\n",
    "library(pheatmap)\n",
    "library(ape)\n",
    "library(ggplot2)\n",
    "library(Rtsne)\n",
    "library(sva)\n",
    "library(VennDiagram)\n",
    "library(readxl)\n",
    "library(energy)\n",
    "library(MASS)\n",
    "library(quantreg)\n",
    "library(limma)\n",
    "library(Glimma)\n",
    "library(edgeR)\n",
    "library(RColorBrewer)\n",
    "library(minerva)\n",
    "library(dbscan)\n",
    "library(amap)\n",
    "library(NbClust)  \n",
    "library(apeglm)\n",
    "library(ggrepel)"
   ]
  },
  {
   "cell_type": "code",
   "execution_count": 2,
   "metadata": {},
   "outputs": [],
   "source": [
    "setwd('~/ownCloud/Meng/')"
   ]
  },
  {
   "cell_type": "code",
   "execution_count": 3,
   "metadata": {},
   "outputs": [],
   "source": [
    "path <- \"100_plus_project/100plus_data_Frank_2019-07-09/peptide data.tsv\"\n",
    "raw_data <- read.table(path, header=T, stringsAsFactors=F, sep = \"\\t\")\n",
    "#dim(raw_data)"
   ]
  },
  {
   "cell_type": "code",
   "execution_count": 4,
   "metadata": {},
   "outputs": [
    {
     "data": {
      "text/html": [
       "<style>\n",
       ".list-inline {list-style: none; margin:0; padding: 0}\n",
       ".list-inline>li {display: inline-block}\n",
       ".list-inline>li:not(:last-child)::after {content: \"\\00b7\"; padding: 0 .5ex}\n",
       "</style>\n",
       "<ol class=list-inline><li>28208</li><li>476</li></ol>\n"
      ],
      "text/latex": [
       "\\begin{enumerate*}\n",
       "\\item 28208\n",
       "\\item 476\n",
       "\\end{enumerate*}\n"
      ],
      "text/markdown": [
       "1. 28208\n",
       "2. 476\n",
       "\n",
       "\n"
      ],
      "text/plain": [
       "[1] 28208   476"
      ]
     },
     "metadata": {},
     "output_type": "display_data"
    }
   ],
   "source": [
    "dim(raw_data)"
   ]
  },
  {
   "cell_type": "code",
   "execution_count": 5,
   "metadata": {},
   "outputs": [],
   "source": [
    "peptide_quality <- raw_data[,c(1, 2, grep(\"qvalue_\", colnames(raw_data)))]\n",
    "peptide_intensity <- raw_data[,c(1, 2, grep(\"intensity_\", colnames(raw_data)))]"
   ]
  },
  {
   "cell_type": "code",
   "execution_count": 6,
   "metadata": {},
   "outputs": [],
   "source": [
    "##There are 4 peptides with missing value and 13 peptides does not have protein name\n",
    "##So I remove them all\n",
    "incomplete_peptide <- which(!complete.cases(peptide_intensity[3:ncol(peptide_intensity)]))\n",
    "#incomplete_peptide\n",
    "NA_protein <- which(is.na(peptide_quality$protein))\n",
    "#NA_protein\n",
    "peptide_quality <- peptide_quality[-c(union(NA_protein, incomplete_peptide)), ]\n",
    "peptide_intensity <- peptide_intensity[-c(union(NA_protein, incomplete_peptide)), ]"
   ]
  },
  {
   "cell_type": "code",
   "execution_count": 7,
   "metadata": {},
   "outputs": [
    {
     "data": {
      "text/html": [
       "<style>\n",
       ".list-inline {list-style: none; margin:0; padding: 0}\n",
       ".list-inline>li {display: inline-block}\n",
       ".list-inline>li:not(:last-child)::after {content: \"\\00b7\"; padding: 0 .5ex}\n",
       "</style>\n",
       "<ol class=list-inline><li>28191</li><li>239</li></ol>\n"
      ],
      "text/latex": [
       "\\begin{enumerate*}\n",
       "\\item 28191\n",
       "\\item 239\n",
       "\\end{enumerate*}\n"
      ],
      "text/markdown": [
       "1. 28191\n",
       "2. 239\n",
       "\n",
       "\n"
      ],
      "text/plain": [
       "[1] 28191   239"
      ]
     },
     "metadata": {},
     "output_type": "display_data"
    },
    {
     "data": {
      "text/html": [
       "<style>\n",
       ".list-inline {list-style: none; margin:0; padding: 0}\n",
       ".list-inline>li {display: inline-block}\n",
       ".list-inline>li:not(:last-child)::after {content: \"\\00b7\"; padding: 0 .5ex}\n",
       "</style>\n",
       "<ol class=list-inline><li>28191</li><li>239</li></ol>\n"
      ],
      "text/latex": [
       "\\begin{enumerate*}\n",
       "\\item 28191\n",
       "\\item 239\n",
       "\\end{enumerate*}\n"
      ],
      "text/markdown": [
       "1. 28191\n",
       "2. 239\n",
       "\n",
       "\n"
      ],
      "text/plain": [
       "[1] 28191   239"
      ]
     },
     "metadata": {},
     "output_type": "display_data"
    }
   ],
   "source": [
    "dim(peptide_quality)\n",
    "dim(peptide_intensity)"
   ]
  },
  {
   "cell_type": "code",
   "execution_count": 12,
   "metadata": {},
   "outputs": [],
   "source": [
    "##remove samples with #(low quality peptide) > 34% \n",
    "threshold_1 = 0.34\n",
    "cal_low_quality_num <- function(peptide_quality){\n",
    "    return(length(which(peptide_quality>0.01)))\n",
    "}\n",
    "low_quality_num_psamp <- apply(peptide_quality[3:ncol(peptide_quality)], 2, cal_low_quality_num)\n",
    "low_quality_num_psamp <- data.frame(num=low_quality_num_psamp)\n",
    "low_quality_num_psamp$ratio <- low_quality_num_psamp$num / nrow(peptide_quality)\n",
    "low_quality_sample_index <- which(low_quality_num_psamp$ratio > threshold_1)"
   ]
  },
  {
   "cell_type": "code",
   "execution_count": 38,
   "metadata": {},
   "outputs": [],
   "source": [
    "high_quality_sample_index <- setdiff(3:ncol(peptide_intensity), low_quality_sample_index+2)"
   ]
  },
  {
   "cell_type": "code",
   "execution_count": 39,
   "metadata": {},
   "outputs": [
    {
     "data": {
      "text/html": [
       "202"
      ],
      "text/latex": [
       "202"
      ],
      "text/markdown": [
       "202"
      ],
      "text/plain": [
       "[1] 202"
      ]
     },
     "metadata": {},
     "output_type": "display_data"
    }
   ],
   "source": [
    "length(high_quality_sample_index)"
   ]
  },
  {
   "cell_type": "code",
   "execution_count": 14,
   "metadata": {
    "scrolled": true
   },
   "outputs": [
    {
     "name": "stderr",
     "output_type": "stream",
     "text": [
      "Warning message in ks.test(log2(as.numeric(intens_1sample)), y = all, alternative = \"two.sided\"):\n",
      "“p-value will be approximate in the presence of ties”Warning message in ks.test(log2(as.numeric(intens_1sample)), y = all, alternative = \"two.sided\"):\n",
      "“p-value will be approximate in the presence of ties”Warning message in ks.test(log2(as.numeric(intens_1sample)), y = all, alternative = \"two.sided\"):\n",
      "“p-value will be approximate in the presence of ties”Warning message in ks.test(log2(as.numeric(intens_1sample)), y = all, alternative = \"two.sided\"):\n",
      "“p-value will be approximate in the presence of ties”Warning message in ks.test(log2(as.numeric(intens_1sample)), y = all, alternative = \"two.sided\"):\n",
      "“p-value will be approximate in the presence of ties”Warning message in ks.test(log2(as.numeric(intens_1sample)), y = all, alternative = \"two.sided\"):\n",
      "“p-value will be approximate in the presence of ties”Warning message in ks.test(log2(as.numeric(intens_1sample)), y = all, alternative = \"two.sided\"):\n",
      "“p-value will be approximate in the presence of ties”Warning message in ks.test(log2(as.numeric(intens_1sample)), y = all, alternative = \"two.sided\"):\n",
      "“p-value will be approximate in the presence of ties”Warning message in ks.test(log2(as.numeric(intens_1sample)), y = all, alternative = \"two.sided\"):\n",
      "“p-value will be approximate in the presence of ties”Warning message in ks.test(log2(as.numeric(intens_1sample)), y = all, alternative = \"two.sided\"):\n",
      "“p-value will be approximate in the presence of ties”Warning message in ks.test(log2(as.numeric(intens_1sample)), y = all, alternative = \"two.sided\"):\n",
      "“p-value will be approximate in the presence of ties”Warning message in ks.test(log2(as.numeric(intens_1sample)), y = all, alternative = \"two.sided\"):\n",
      "“p-value will be approximate in the presence of ties”Warning message in ks.test(log2(as.numeric(intens_1sample)), y = all, alternative = \"two.sided\"):\n",
      "“p-value will be approximate in the presence of ties”Warning message in ks.test(log2(as.numeric(intens_1sample)), y = all, alternative = \"two.sided\"):\n",
      "“p-value will be approximate in the presence of ties”Warning message in ks.test(log2(as.numeric(intens_1sample)), y = all, alternative = \"two.sided\"):\n",
      "“p-value will be approximate in the presence of ties”Warning message in ks.test(log2(as.numeric(intens_1sample)), y = all, alternative = \"two.sided\"):\n",
      "“p-value will be approximate in the presence of ties”Warning message in ks.test(log2(as.numeric(intens_1sample)), y = all, alternative = \"two.sided\"):\n",
      "“p-value will be approximate in the presence of ties”Warning message in ks.test(log2(as.numeric(intens_1sample)), y = all, alternative = \"two.sided\"):\n",
      "“p-value will be approximate in the presence of ties”Warning message in ks.test(log2(as.numeric(intens_1sample)), y = all, alternative = \"two.sided\"):\n",
      "“p-value will be approximate in the presence of ties”Warning message in ks.test(log2(as.numeric(intens_1sample)), y = all, alternative = \"two.sided\"):\n",
      "“p-value will be approximate in the presence of ties”Warning message in ks.test(log2(as.numeric(intens_1sample)), y = all, alternative = \"two.sided\"):\n",
      "“p-value will be approximate in the presence of ties”Warning message in ks.test(log2(as.numeric(intens_1sample)), y = all, alternative = \"two.sided\"):\n",
      "“p-value will be approximate in the presence of ties”Warning message in ks.test(log2(as.numeric(intens_1sample)), y = all, alternative = \"two.sided\"):\n",
      "“p-value will be approximate in the presence of ties”Warning message in ks.test(log2(as.numeric(intens_1sample)), y = all, alternative = \"two.sided\"):\n",
      "“p-value will be approximate in the presence of ties”Warning message in ks.test(log2(as.numeric(intens_1sample)), y = all, alternative = \"two.sided\"):\n",
      "“p-value will be approximate in the presence of ties”Warning message in ks.test(log2(as.numeric(intens_1sample)), y = all, alternative = \"two.sided\"):\n",
      "“p-value will be approximate in the presence of ties”Warning message in ks.test(log2(as.numeric(intens_1sample)), y = all, alternative = \"two.sided\"):\n",
      "“p-value will be approximate in the presence of ties”Warning message in ks.test(log2(as.numeric(intens_1sample)), y = all, alternative = \"two.sided\"):\n",
      "“p-value will be approximate in the presence of ties”Warning message in ks.test(log2(as.numeric(intens_1sample)), y = all, alternative = \"two.sided\"):\n",
      "“p-value will be approximate in the presence of ties”Warning message in ks.test(log2(as.numeric(intens_1sample)), y = all, alternative = \"two.sided\"):\n",
      "“p-value will be approximate in the presence of ties”Warning message in ks.test(log2(as.numeric(intens_1sample)), y = all, alternative = \"two.sided\"):\n",
      "“p-value will be approximate in the presence of ties”Warning message in ks.test(log2(as.numeric(intens_1sample)), y = all, alternative = \"two.sided\"):\n",
      "“p-value will be approximate in the presence of ties”Warning message in ks.test(log2(as.numeric(intens_1sample)), y = all, alternative = \"two.sided\"):\n",
      "“p-value will be approximate in the presence of ties”Warning message in ks.test(log2(as.numeric(intens_1sample)), y = all, alternative = \"two.sided\"):\n",
      "“p-value will be approximate in the presence of ties”Warning message in ks.test(log2(as.numeric(intens_1sample)), y = all, alternative = \"two.sided\"):\n",
      "“p-value will be approximate in the presence of ties”Warning message in ks.test(log2(as.numeric(intens_1sample)), y = all, alternative = \"two.sided\"):\n",
      "“p-value will be approximate in the presence of ties”Warning message in ks.test(log2(as.numeric(intens_1sample)), y = all, alternative = \"two.sided\"):\n",
      "“p-value will be approximate in the presence of ties”Warning message in ks.test(log2(as.numeric(intens_1sample)), y = all, alternative = \"two.sided\"):\n",
      "“p-value will be approximate in the presence of ties”Warning message in ks.test(log2(as.numeric(intens_1sample)), y = all, alternative = \"two.sided\"):\n",
      "“p-value will be approximate in the presence of ties”Warning message in ks.test(log2(as.numeric(intens_1sample)), y = all, alternative = \"two.sided\"):\n",
      "“p-value will be approximate in the presence of ties”Warning message in ks.test(log2(as.numeric(intens_1sample)), y = all, alternative = \"two.sided\"):\n",
      "“p-value will be approximate in the presence of ties”Warning message in ks.test(log2(as.numeric(intens_1sample)), y = all, alternative = \"two.sided\"):\n",
      "“p-value will be approximate in the presence of ties”Warning message in ks.test(log2(as.numeric(intens_1sample)), y = all, alternative = \"two.sided\"):\n",
      "“p-value will be approximate in the presence of ties”Warning message in ks.test(log2(as.numeric(intens_1sample)), y = all, alternative = \"two.sided\"):\n",
      "“p-value will be approximate in the presence of ties”Warning message in ks.test(log2(as.numeric(intens_1sample)), y = all, alternative = \"two.sided\"):\n",
      "“p-value will be approximate in the presence of ties”Warning message in ks.test(log2(as.numeric(intens_1sample)), y = all, alternative = \"two.sided\"):\n",
      "“p-value will be approximate in the presence of ties”Warning message in ks.test(log2(as.numeric(intens_1sample)), y = all, alternative = \"two.sided\"):\n",
      "“p-value will be approximate in the presence of ties”Warning message in ks.test(log2(as.numeric(intens_1sample)), y = all, alternative = \"two.sided\"):\n",
      "“p-value will be approximate in the presence of ties”Warning message in ks.test(log2(as.numeric(intens_1sample)), y = all, alternative = \"two.sided\"):\n",
      "“p-value will be approximate in the presence of ties”Warning message in ks.test(log2(as.numeric(intens_1sample)), y = all, alternative = \"two.sided\"):\n",
      "“p-value will be approximate in the presence of ties”Warning message in ks.test(log2(as.numeric(intens_1sample)), y = all, alternative = \"two.sided\"):\n",
      "“p-value will be approximate in the presence of ties”Warning message in ks.test(log2(as.numeric(intens_1sample)), y = all, alternative = \"two.sided\"):\n",
      "“p-value will be approximate in the presence of ties”Warning message in ks.test(log2(as.numeric(intens_1sample)), y = all, alternative = \"two.sided\"):\n",
      "“p-value will be approximate in the presence of ties”Warning message in ks.test(log2(as.numeric(intens_1sample)), y = all, alternative = \"two.sided\"):\n",
      "“p-value will be approximate in the presence of ties”Warning message in ks.test(log2(as.numeric(intens_1sample)), y = all, alternative = \"two.sided\"):\n"
     ]
    },
    {
     "name": "stderr",
     "output_type": "stream",
     "text": [
      "“p-value will be approximate in the presence of ties”Warning message in ks.test(log2(as.numeric(intens_1sample)), y = all, alternative = \"two.sided\"):\n",
      "“p-value will be approximate in the presence of ties”Warning message in ks.test(log2(as.numeric(intens_1sample)), y = all, alternative = \"two.sided\"):\n",
      "“p-value will be approximate in the presence of ties”Warning message in ks.test(log2(as.numeric(intens_1sample)), y = all, alternative = \"two.sided\"):\n",
      "“p-value will be approximate in the presence of ties”Warning message in ks.test(log2(as.numeric(intens_1sample)), y = all, alternative = \"two.sided\"):\n",
      "“p-value will be approximate in the presence of ties”Warning message in ks.test(log2(as.numeric(intens_1sample)), y = all, alternative = \"two.sided\"):\n",
      "“p-value will be approximate in the presence of ties”Warning message in ks.test(log2(as.numeric(intens_1sample)), y = all, alternative = \"two.sided\"):\n",
      "“p-value will be approximate in the presence of ties”Warning message in ks.test(log2(as.numeric(intens_1sample)), y = all, alternative = \"two.sided\"):\n",
      "“p-value will be approximate in the presence of ties”Warning message in ks.test(log2(as.numeric(intens_1sample)), y = all, alternative = \"two.sided\"):\n",
      "“p-value will be approximate in the presence of ties”Warning message in ks.test(log2(as.numeric(intens_1sample)), y = all, alternative = \"two.sided\"):\n",
      "“p-value will be approximate in the presence of ties”Warning message in ks.test(log2(as.numeric(intens_1sample)), y = all, alternative = \"two.sided\"):\n",
      "“p-value will be approximate in the presence of ties”Warning message in ks.test(log2(as.numeric(intens_1sample)), y = all, alternative = \"two.sided\"):\n",
      "“p-value will be approximate in the presence of ties”Warning message in ks.test(log2(as.numeric(intens_1sample)), y = all, alternative = \"two.sided\"):\n",
      "“p-value will be approximate in the presence of ties”Warning message in ks.test(log2(as.numeric(intens_1sample)), y = all, alternative = \"two.sided\"):\n",
      "“p-value will be approximate in the presence of ties”Warning message in ks.test(log2(as.numeric(intens_1sample)), y = all, alternative = \"two.sided\"):\n",
      "“p-value will be approximate in the presence of ties”Warning message in ks.test(log2(as.numeric(intens_1sample)), y = all, alternative = \"two.sided\"):\n",
      "“p-value will be approximate in the presence of ties”Warning message in ks.test(log2(as.numeric(intens_1sample)), y = all, alternative = \"two.sided\"):\n",
      "“p-value will be approximate in the presence of ties”Warning message in ks.test(log2(as.numeric(intens_1sample)), y = all, alternative = \"two.sided\"):\n",
      "“p-value will be approximate in the presence of ties”Warning message in ks.test(log2(as.numeric(intens_1sample)), y = all, alternative = \"two.sided\"):\n",
      "“p-value will be approximate in the presence of ties”Warning message in ks.test(log2(as.numeric(intens_1sample)), y = all, alternative = \"two.sided\"):\n",
      "“p-value will be approximate in the presence of ties”Warning message in ks.test(log2(as.numeric(intens_1sample)), y = all, alternative = \"two.sided\"):\n",
      "“p-value will be approximate in the presence of ties”Warning message in ks.test(log2(as.numeric(intens_1sample)), y = all, alternative = \"two.sided\"):\n",
      "“p-value will be approximate in the presence of ties”Warning message in ks.test(log2(as.numeric(intens_1sample)), y = all, alternative = \"two.sided\"):\n",
      "“p-value will be approximate in the presence of ties”Warning message in ks.test(log2(as.numeric(intens_1sample)), y = all, alternative = \"two.sided\"):\n",
      "“p-value will be approximate in the presence of ties”Warning message in ks.test(log2(as.numeric(intens_1sample)), y = all, alternative = \"two.sided\"):\n",
      "“p-value will be approximate in the presence of ties”Warning message in ks.test(log2(as.numeric(intens_1sample)), y = all, alternative = \"two.sided\"):\n",
      "“p-value will be approximate in the presence of ties”Warning message in ks.test(log2(as.numeric(intens_1sample)), y = all, alternative = \"two.sided\"):\n",
      "“p-value will be approximate in the presence of ties”Warning message in ks.test(log2(as.numeric(intens_1sample)), y = all, alternative = \"two.sided\"):\n",
      "“p-value will be approximate in the presence of ties”Warning message in ks.test(log2(as.numeric(intens_1sample)), y = all, alternative = \"two.sided\"):\n",
      "“p-value will be approximate in the presence of ties”Warning message in ks.test(log2(as.numeric(intens_1sample)), y = all, alternative = \"two.sided\"):\n",
      "“p-value will be approximate in the presence of ties”Warning message in ks.test(log2(as.numeric(intens_1sample)), y = all, alternative = \"two.sided\"):\n",
      "“p-value will be approximate in the presence of ties”Warning message in ks.test(log2(as.numeric(intens_1sample)), y = all, alternative = \"two.sided\"):\n",
      "“p-value will be approximate in the presence of ties”Warning message in ks.test(log2(as.numeric(intens_1sample)), y = all, alternative = \"two.sided\"):\n",
      "“p-value will be approximate in the presence of ties”Warning message in ks.test(log2(as.numeric(intens_1sample)), y = all, alternative = \"two.sided\"):\n",
      "“p-value will be approximate in the presence of ties”Warning message in ks.test(log2(as.numeric(intens_1sample)), y = all, alternative = \"two.sided\"):\n",
      "“p-value will be approximate in the presence of ties”Warning message in ks.test(log2(as.numeric(intens_1sample)), y = all, alternative = \"two.sided\"):\n",
      "“p-value will be approximate in the presence of ties”Warning message in ks.test(log2(as.numeric(intens_1sample)), y = all, alternative = \"two.sided\"):\n",
      "“p-value will be approximate in the presence of ties”Warning message in ks.test(log2(as.numeric(intens_1sample)), y = all, alternative = \"two.sided\"):\n",
      "“p-value will be approximate in the presence of ties”Warning message in ks.test(log2(as.numeric(intens_1sample)), y = all, alternative = \"two.sided\"):\n",
      "“p-value will be approximate in the presence of ties”Warning message in ks.test(log2(as.numeric(intens_1sample)), y = all, alternative = \"two.sided\"):\n",
      "“p-value will be approximate in the presence of ties”Warning message in ks.test(log2(as.numeric(intens_1sample)), y = all, alternative = \"two.sided\"):\n",
      "“p-value will be approximate in the presence of ties”Warning message in ks.test(log2(as.numeric(intens_1sample)), y = all, alternative = \"two.sided\"):\n",
      "“p-value will be approximate in the presence of ties”Warning message in ks.test(log2(as.numeric(intens_1sample)), y = all, alternative = \"two.sided\"):\n",
      "“p-value will be approximate in the presence of ties”Warning message in ks.test(log2(as.numeric(intens_1sample)), y = all, alternative = \"two.sided\"):\n",
      "“p-value will be approximate in the presence of ties”Warning message in ks.test(log2(as.numeric(intens_1sample)), y = all, alternative = \"two.sided\"):\n",
      "“p-value will be approximate in the presence of ties”Warning message in ks.test(log2(as.numeric(intens_1sample)), y = all, alternative = \"two.sided\"):\n",
      "“p-value will be approximate in the presence of ties”Warning message in ks.test(log2(as.numeric(intens_1sample)), y = all, alternative = \"two.sided\"):\n",
      "“p-value will be approximate in the presence of ties”Warning message in ks.test(log2(as.numeric(intens_1sample)), y = all, alternative = \"two.sided\"):\n",
      "“p-value will be approximate in the presence of ties”Warning message in ks.test(log2(as.numeric(intens_1sample)), y = all, alternative = \"two.sided\"):\n",
      "“p-value will be approximate in the presence of ties”Warning message in ks.test(log2(as.numeric(intens_1sample)), y = all, alternative = \"two.sided\"):\n",
      "“p-value will be approximate in the presence of ties”Warning message in ks.test(log2(as.numeric(intens_1sample)), y = all, alternative = \"two.sided\"):\n",
      "“p-value will be approximate in the presence of ties”Warning message in ks.test(log2(as.numeric(intens_1sample)), y = all, alternative = \"two.sided\"):\n",
      "“p-value will be approximate in the presence of ties”Warning message in ks.test(log2(as.numeric(intens_1sample)), y = all, alternative = \"two.sided\"):\n",
      "“p-value will be approximate in the presence of ties”Warning message in ks.test(log2(as.numeric(intens_1sample)), y = all, alternative = \"two.sided\"):\n",
      "“p-value will be approximate in the presence of ties”Warning message in ks.test(log2(as.numeric(intens_1sample)), y = all, alternative = \"two.sided\"):\n",
      "“p-value will be approximate in the presence of ties”Warning message in ks.test(log2(as.numeric(intens_1sample)), y = all, alternative = \"two.sided\"):\n",
      "“p-value will be approximate in the presence of ties”Warning message in ks.test(log2(as.numeric(intens_1sample)), y = all, alternative = \"two.sided\"):\n",
      "“p-value will be approximate in the presence of ties”Warning message in ks.test(log2(as.numeric(intens_1sample)), y = all, alternative = \"two.sided\"):\n",
      "“p-value will be approximate in the presence of ties”Warning message in ks.test(log2(as.numeric(intens_1sample)), y = all, alternative = \"two.sided\"):\n",
      "“p-value will be approximate in the presence of ties”Warning message in ks.test(log2(as.numeric(intens_1sample)), y = all, alternative = \"two.sided\"):\n",
      "“p-value will be approximate in the presence of ties”Warning message in ks.test(log2(as.numeric(intens_1sample)), y = all, alternative = \"two.sided\"):\n",
      "“p-value will be approximate in the presence of ties”Warning message in ks.test(log2(as.numeric(intens_1sample)), y = all, alternative = \"two.sided\"):\n",
      "“p-value will be approximate in the presence of ties”Warning message in ks.test(log2(as.numeric(intens_1sample)), y = all, alternative = \"two.sided\"):\n",
      "“p-value will be approximate in the presence of ties”Warning message in ks.test(log2(as.numeric(intens_1sample)), y = all, alternative = \"two.sided\"):\n",
      "“p-value will be approximate in the presence of ties”Warning message in ks.test(log2(as.numeric(intens_1sample)), y = all, alternative = \"two.sided\"):\n",
      "“p-value will be approximate in the presence of ties”Warning message in ks.test(log2(as.numeric(intens_1sample)), y = all, alternative = \"two.sided\"):\n",
      "“p-value will be approximate in the presence of ties”Warning message in ks.test(log2(as.numeric(intens_1sample)), y = all, alternative = \"two.sided\"):\n",
      "“p-value will be approximate in the presence of ties”Warning message in ks.test(log2(as.numeric(intens_1sample)), y = all, alternative = \"two.sided\"):\n",
      "“p-value will be approximate in the presence of ties”Warning message in ks.test(log2(as.numeric(intens_1sample)), y = all, alternative = \"two.sided\"):\n",
      "“p-value will be approximate in the presence of ties”Warning message in ks.test(log2(as.numeric(intens_1sample)), y = all, alternative = \"two.sided\"):\n",
      "“p-value will be approximate in the presence of ties”Warning message in ks.test(log2(as.numeric(intens_1sample)), y = all, alternative = \"two.sided\"):\n",
      "“p-value will be approximate in the presence of ties”Warning message in ks.test(log2(as.numeric(intens_1sample)), y = all, alternative = \"two.sided\"):\n",
      "“p-value will be approximate in the presence of ties”Warning message in ks.test(log2(as.numeric(intens_1sample)), y = all, alternative = \"two.sided\"):\n",
      "“p-value will be approximate in the presence of ties”Warning message in ks.test(log2(as.numeric(intens_1sample)), y = all, alternative = \"two.sided\"):\n",
      "“p-value will be approximate in the presence of ties”Warning message in ks.test(log2(as.numeric(intens_1sample)), y = all, alternative = \"two.sided\"):\n",
      "“p-value will be approximate in the presence of ties”Warning message in ks.test(log2(as.numeric(intens_1sample)), y = all, alternative = \"two.sided\"):\n",
      "“p-value will be approximate in the presence of ties”Warning message in ks.test(log2(as.numeric(intens_1sample)), y = all, alternative = \"two.sided\"):\n",
      "“p-value will be approximate in the presence of ties”Warning message in ks.test(log2(as.numeric(intens_1sample)), y = all, alternative = \"two.sided\"):\n",
      "“p-value will be approximate in the presence of ties”Warning message in ks.test(log2(as.numeric(intens_1sample)), y = all, alternative = \"two.sided\"):\n",
      "“p-value will be approximate in the presence of ties”Warning message in ks.test(log2(as.numeric(intens_1sample)), y = all, alternative = \"two.sided\"):\n",
      "“p-value will be approximate in the presence of ties”Warning message in ks.test(log2(as.numeric(intens_1sample)), y = all, alternative = \"two.sided\"):\n",
      "“p-value will be approximate in the presence of ties”Warning message in ks.test(log2(as.numeric(intens_1sample)), y = all, alternative = \"two.sided\"):\n",
      "“p-value will be approximate in the presence of ties”Warning message in ks.test(log2(as.numeric(intens_1sample)), y = all, alternative = \"two.sided\"):\n",
      "“p-value will be approximate in the presence of ties”Warning message in ks.test(log2(as.numeric(intens_1sample)), y = all, alternative = \"two.sided\"):\n",
      "“p-value will be approximate in the presence of ties”Warning message in ks.test(log2(as.numeric(intens_1sample)), y = all, alternative = \"two.sided\"):\n",
      "“p-value will be approximate in the presence of ties”Warning message in ks.test(log2(as.numeric(intens_1sample)), y = all, alternative = \"two.sided\"):\n",
      "“p-value will be approximate in the presence of ties”Warning message in ks.test(log2(as.numeric(intens_1sample)), y = all, alternative = \"two.sided\"):\n",
      "“p-value will be approximate in the presence of ties”Warning message in ks.test(log2(as.numeric(intens_1sample)), y = all, alternative = \"two.sided\"):\n",
      "“p-value will be approximate in the presence of ties”Warning message in ks.test(log2(as.numeric(intens_1sample)), y = all, alternative = \"two.sided\"):\n",
      "“p-value will be approximate in the presence of ties”Warning message in ks.test(log2(as.numeric(intens_1sample)), y = all, alternative = \"two.sided\"):\n",
      "“p-value will be approximate in the presence of ties”Warning message in ks.test(log2(as.numeric(intens_1sample)), y = all, alternative = \"two.sided\"):\n",
      "“p-value will be approximate in the presence of ties”Warning message in ks.test(log2(as.numeric(intens_1sample)), y = all, alternative = \"two.sided\"):\n",
      "“p-value will be approximate in the presence of ties”Warning message in ks.test(log2(as.numeric(intens_1sample)), y = all, alternative = \"two.sided\"):\n",
      "“p-value will be approximate in the presence of ties”Warning message in ks.test(log2(as.numeric(intens_1sample)), y = all, alternative = \"two.sided\"):\n",
      "“p-value will be approximate in the presence of ties”Warning message in ks.test(log2(as.numeric(intens_1sample)), y = all, alternative = \"two.sided\"):\n",
      "“p-value will be approximate in the presence of ties”Warning message in ks.test(log2(as.numeric(intens_1sample)), y = all, alternative = \"two.sided\"):\n",
      "“p-value will be approximate in the presence of ties”Warning message in ks.test(log2(as.numeric(intens_1sample)), y = all, alternative = \"two.sided\"):\n",
      "“p-value will be approximate in the presence of ties”Warning message in ks.test(log2(as.numeric(intens_1sample)), y = all, alternative = \"two.sided\"):\n",
      "“p-value will be approximate in the presence of ties”Warning message in ks.test(log2(as.numeric(intens_1sample)), y = all, alternative = \"two.sided\"):\n",
      "“p-value will be approximate in the presence of ties”Warning message in ks.test(log2(as.numeric(intens_1sample)), y = all, alternative = \"two.sided\"):\n",
      "“p-value will be approximate in the presence of ties”Warning message in ks.test(log2(as.numeric(intens_1sample)), y = all, alternative = \"two.sided\"):\n",
      "“p-value will be approximate in the presence of ties”Warning message in ks.test(log2(as.numeric(intens_1sample)), y = all, alternative = \"two.sided\"):\n",
      "“p-value will be approximate in the presence of ties”Warning message in ks.test(log2(as.numeric(intens_1sample)), y = all, alternative = \"two.sided\"):\n",
      "“p-value will be approximate in the presence of ties”Warning message in ks.test(log2(as.numeric(intens_1sample)), y = all, alternative = \"two.sided\"):\n",
      "“p-value will be approximate in the presence of ties”Warning message in ks.test(log2(as.numeric(intens_1sample)), y = all, alternative = \"two.sided\"):\n",
      "“p-value will be approximate in the presence of ties”Warning message in ks.test(log2(as.numeric(intens_1sample)), y = all, alternative = \"two.sided\"):\n",
      "“p-value will be approximate in the presence of ties”Warning message in ks.test(log2(as.numeric(intens_1sample)), y = all, alternative = \"two.sided\"):\n",
      "“p-value will be approximate in the presence of ties”Warning message in ks.test(log2(as.numeric(intens_1sample)), y = all, alternative = \"two.sided\"):\n",
      "“p-value will be approximate in the presence of ties”Warning message in ks.test(log2(as.numeric(intens_1sample)), y = all, alternative = \"two.sided\"):\n"
     ]
    },
    {
     "name": "stderr",
     "output_type": "stream",
     "text": [
      "“p-value will be approximate in the presence of ties”Warning message in ks.test(log2(as.numeric(intens_1sample)), y = all, alternative = \"two.sided\"):\n",
      "“p-value will be approximate in the presence of ties”Warning message in ks.test(log2(as.numeric(intens_1sample)), y = all, alternative = \"two.sided\"):\n",
      "“p-value will be approximate in the presence of ties”Warning message in ks.test(log2(as.numeric(intens_1sample)), y = all, alternative = \"two.sided\"):\n",
      "“p-value will be approximate in the presence of ties”Warning message in ks.test(log2(as.numeric(intens_1sample)), y = all, alternative = \"two.sided\"):\n",
      "“p-value will be approximate in the presence of ties”Warning message in ks.test(log2(as.numeric(intens_1sample)), y = all, alternative = \"two.sided\"):\n",
      "“p-value will be approximate in the presence of ties”Warning message in ks.test(log2(as.numeric(intens_1sample)), y = all, alternative = \"two.sided\"):\n",
      "“p-value will be approximate in the presence of ties”Warning message in ks.test(log2(as.numeric(intens_1sample)), y = all, alternative = \"two.sided\"):\n",
      "“p-value will be approximate in the presence of ties”Warning message in ks.test(log2(as.numeric(intens_1sample)), y = all, alternative = \"two.sided\"):\n",
      "“p-value will be approximate in the presence of ties”Warning message in ks.test(log2(as.numeric(intens_1sample)), y = all, alternative = \"two.sided\"):\n",
      "“p-value will be approximate in the presence of ties”Warning message in ks.test(log2(as.numeric(intens_1sample)), y = all, alternative = \"two.sided\"):\n",
      "“p-value will be approximate in the presence of ties”Warning message in ks.test(log2(as.numeric(intens_1sample)), y = all, alternative = \"two.sided\"):\n",
      "“p-value will be approximate in the presence of ties”Warning message in ks.test(log2(as.numeric(intens_1sample)), y = all, alternative = \"two.sided\"):\n",
      "“p-value will be approximate in the presence of ties”Warning message in ks.test(log2(as.numeric(intens_1sample)), y = all, alternative = \"two.sided\"):\n",
      "“p-value will be approximate in the presence of ties”Warning message in ks.test(log2(as.numeric(intens_1sample)), y = all, alternative = \"two.sided\"):\n",
      "“p-value will be approximate in the presence of ties”Warning message in ks.test(log2(as.numeric(intens_1sample)), y = all, alternative = \"two.sided\"):\n",
      "“p-value will be approximate in the presence of ties”Warning message in ks.test(log2(as.numeric(intens_1sample)), y = all, alternative = \"two.sided\"):\n",
      "“p-value will be approximate in the presence of ties”Warning message in ks.test(log2(as.numeric(intens_1sample)), y = all, alternative = \"two.sided\"):\n",
      "“p-value will be approximate in the presence of ties”Warning message in ks.test(log2(as.numeric(intens_1sample)), y = all, alternative = \"two.sided\"):\n",
      "“p-value will be approximate in the presence of ties”Warning message in ks.test(log2(as.numeric(intens_1sample)), y = all, alternative = \"two.sided\"):\n",
      "“p-value will be approximate in the presence of ties”Warning message in ks.test(log2(as.numeric(intens_1sample)), y = all, alternative = \"two.sided\"):\n",
      "“p-value will be approximate in the presence of ties”Warning message in ks.test(log2(as.numeric(intens_1sample)), y = all, alternative = \"two.sided\"):\n",
      "“p-value will be approximate in the presence of ties”Warning message in ks.test(log2(as.numeric(intens_1sample)), y = all, alternative = \"two.sided\"):\n",
      "“p-value will be approximate in the presence of ties”Warning message in ks.test(log2(as.numeric(intens_1sample)), y = all, alternative = \"two.sided\"):\n",
      "“p-value will be approximate in the presence of ties”Warning message in ks.test(log2(as.numeric(intens_1sample)), y = all, alternative = \"two.sided\"):\n",
      "“p-value will be approximate in the presence of ties”Warning message in ks.test(log2(as.numeric(intens_1sample)), y = all, alternative = \"two.sided\"):\n",
      "“p-value will be approximate in the presence of ties”Warning message in ks.test(log2(as.numeric(intens_1sample)), y = all, alternative = \"two.sided\"):\n",
      "“p-value will be approximate in the presence of ties”Warning message in ks.test(log2(as.numeric(intens_1sample)), y = all, alternative = \"two.sided\"):\n",
      "“p-value will be approximate in the presence of ties”Warning message in ks.test(log2(as.numeric(intens_1sample)), y = all, alternative = \"two.sided\"):\n",
      "“p-value will be approximate in the presence of ties”Warning message in ks.test(log2(as.numeric(intens_1sample)), y = all, alternative = \"two.sided\"):\n",
      "“p-value will be approximate in the presence of ties”Warning message in ks.test(log2(as.numeric(intens_1sample)), y = all, alternative = \"two.sided\"):\n",
      "“p-value will be approximate in the presence of ties”Warning message in ks.test(log2(as.numeric(intens_1sample)), y = all, alternative = \"two.sided\"):\n",
      "“p-value will be approximate in the presence of ties”Warning message in ks.test(log2(as.numeric(intens_1sample)), y = all, alternative = \"two.sided\"):\n",
      "“p-value will be approximate in the presence of ties”Warning message in ks.test(log2(as.numeric(intens_1sample)), y = all, alternative = \"two.sided\"):\n",
      "“p-value will be approximate in the presence of ties”Warning message in ks.test(log2(as.numeric(intens_1sample)), y = all, alternative = \"two.sided\"):\n",
      "“p-value will be approximate in the presence of ties”Warning message in ks.test(log2(as.numeric(intens_1sample)), y = all, alternative = \"two.sided\"):\n",
      "“p-value will be approximate in the presence of ties”Warning message in ks.test(log2(as.numeric(intens_1sample)), y = all, alternative = \"two.sided\"):\n",
      "“p-value will be approximate in the presence of ties”Warning message in ks.test(log2(as.numeric(intens_1sample)), y = all, alternative = \"two.sided\"):\n",
      "“p-value will be approximate in the presence of ties”Warning message in ks.test(log2(as.numeric(intens_1sample)), y = all, alternative = \"two.sided\"):\n",
      "“p-value will be approximate in the presence of ties”Warning message in ks.test(log2(as.numeric(intens_1sample)), y = all, alternative = \"two.sided\"):\n",
      "“p-value will be approximate in the presence of ties”"
     ]
    },
    {
     "data": {
      "text/html": [
       "202"
      ],
      "text/latex": [
       "202"
      ],
      "text/markdown": [
       "202"
      ],
      "text/plain": [
       "[1] 202"
      ]
     },
     "metadata": {},
     "output_type": "display_data"
    }
   ],
   "source": [
    "##Start to perform filtering by distribution distance\n",
    "all = as.vector(t(apply(log2(peptide_intensity[high_quality_sample_index]), 2, as.numeric)))\n",
    "peptide_dist <- apply(peptide_intensity[,high_quality_sample_index], 2, function(intens_1sample){\n",
    "    return (ks.test(log2(as.numeric(intens_1sample)), y=all, alternative=\"two.sided\")$statistic)})\n",
    "length(peptide_dist)"
   ]
  },
  {
   "cell_type": "code",
   "execution_count": 40,
   "metadata": {
    "scrolled": false
   },
   "outputs": [
    {
     "data": {
      "text/html": [
       "107"
      ],
      "text/latex": [
       "107"
      ],
      "text/markdown": [
       "107"
      ],
      "text/plain": [
       "[1] 107"
      ]
     },
     "metadata": {},
     "output_type": "display_data"
    }
   ],
   "source": [
    "large_distribution_distance_index <- which(peptide_dist>0.04)\n",
    "large_distribution_distance_samples_index <- high_quality_sample_index[large_distribution_distance_index]\n",
    "large_distribution_distance_samples_index\n",
    "high_quality_sample_index <- setdiff(high_quality_sample_index, large_distribution_distance_samples_index) "
   ]
  },
  {
   "cell_type": "code",
   "execution_count": 41,
   "metadata": {},
   "outputs": [
    {
     "data": {
      "text/html": [
       "201"
      ],
      "text/latex": [
       "201"
      ],
      "text/markdown": [
       "201"
      ],
      "text/plain": [
       "[1] 201"
      ]
     },
     "metadata": {},
     "output_type": "display_data"
    }
   ],
   "source": [
    "length(high_quality_sample_index)"
   ]
  },
  {
   "cell_type": "code",
   "execution_count": 42,
   "metadata": {},
   "outputs": [],
   "source": [
    "peptide_quality <- peptide_quality[c(1, 2, high_quality_sample_index)]\n",
    "peptide_intensity <- peptide_intensity[c(1, 2, high_quality_sample_index)]"
   ]
  },
  {
   "cell_type": "code",
   "execution_count": 43,
   "metadata": {},
   "outputs": [],
   "source": [
    "##aggregate function, aggregate peptides to protein for intensity using sum\n",
    "##For quality using median\n",
    "aggregate_peptide_protein_intensity <- function(peptide_intensity){\n",
    "    protein_names <- unique(peptide_intensity$protein)\n",
    "    protein_intensity <- matrix(0, length(protein_names), ncol(peptide_intensity)-2)\n",
    "    for (i in 1:length(protein_names)){\n",
    "        index <- which(peptide_intensity$protein == protein_names[i])\n",
    "        pep2pro_intensity <- as.matrix(peptide_intensity[index,][3:ncol(peptide_intensity)])\n",
    "        for (j in 1:ncol(pep2pro_intensity)){\n",
    "            protein_intensity[i,][j] <- sum(pep2pro_intensity[,j])\n",
    "        }\n",
    "    }\n",
    "    \n",
    "    protein_intensity <- as.data.frame(protein_intensity)\n",
    "    protein_intensity <- cbind(protein_names, protein_intensity)\n",
    "    colnames_protein <- c(\"protein\", colnames(peptide_intensity[3:ncol(peptide_intensity)]))\n",
    "    colnames(protein_intensity) <- colnames_protein\n",
    "    return(protein_intensity)\n",
    "}\n",
    "aggregate_peptide_protein_quality <- function(peptide_quality){\n",
    "    protein_names <- unique(peptide_quality$protein)\n",
    "    protein_quality <- matrix(0, length(protein_names), ncol(peptide_quality)-2)\n",
    "    for (i in 1:length(protein_names)){\n",
    "        index <- which(peptide_quality$protein == protein_names[i])\n",
    "        pep2pro_quality <- as.matrix(peptide_quality[index,][3:ncol(peptide_quality)])\n",
    "        for (j in 1:ncol(pep2pro_quality)){\n",
    "            protein_quality[i,][j] <- median(pep2pro_quality[,j])\n",
    "        }\n",
    "    }\n",
    "    \n",
    "    protein_quality <- as.data.frame(protein_quality)\n",
    "    protein_quality <- cbind(protein_names, protein_quality)\n",
    "    colnames_protein <- c(\"protein\", colnames(peptide_quality[3:ncol(peptide_quality)]))\n",
    "    colnames(protein_quality) <- colnames_protein\n",
    "    return(protein_quality)\n",
    "}"
   ]
  },
  {
   "cell_type": "code",
   "execution_count": 44,
   "metadata": {},
   "outputs": [],
   "source": [
    "protein_intensity <- aggregate_peptide_protein_intensity(peptide_intensity)\n",
    "protein_quality <- aggregate_peptide_protein_intensity(peptide_quality)"
   ]
  },
  {
   "cell_type": "code",
   "execution_count": 47,
   "metadata": {},
   "outputs": [
    {
     "data": {
      "text/html": [
       "<style>\n",
       ".list-inline {list-style: none; margin:0; padding: 0}\n",
       ".list-inline>li {display: inline-block}\n",
       ".list-inline>li:not(:last-child)::after {content: \"\\00b7\"; padding: 0 .5ex}\n",
       "</style>\n",
       "<ol class=list-inline><li>4829</li><li>202</li></ol>\n"
      ],
      "text/latex": [
       "\\begin{enumerate*}\n",
       "\\item 4829\n",
       "\\item 202\n",
       "\\end{enumerate*}\n"
      ],
      "text/markdown": [
       "1. 4829\n",
       "2. 202\n",
       "\n",
       "\n"
      ],
      "text/plain": [
       "[1] 4829  202"
      ]
     },
     "metadata": {},
     "output_type": "display_data"
    }
   ],
   "source": [
    "dim(protein_quality)"
   ]
  },
  {
   "cell_type": "code",
   "execution_count": 48,
   "metadata": {},
   "outputs": [
    {
     "name": "stderr",
     "output_type": "stream",
     "text": [
      "New names:\n",
      "* autopsy -> autopsy...3\n",
      "* GROUP -> GROUP...4\n",
      "* Snumber -> Snumber...8\n",
      "* Snumber -> Snumber...16\n",
      "* GROUP -> GROUP...17\n",
      "* ...\n"
     ]
    },
    {
     "data": {
      "text/html": [
       "<style>\n",
       ".list-inline {list-style: none; margin:0; padding: 0}\n",
       ".list-inline>li {display: inline-block}\n",
       ".list-inline>li:not(:last-child)::after {content: \"\\00b7\"; padding: 0 .5ex}\n",
       "</style>\n",
       "<ol class=list-inline><li>'nbb with colour code'</li><li>'nbb'</li><li>'autopsy...3'</li><li>'GROUP...4'</li><li>'ABG'</li><li>'sampleprepRandomization (4 batches)'</li><li>'IHC order'</li><li>'Snumber...8'</li><li>'zmRandomization (10 batches)'</li><li>'Mass-Spec filenames (1)'</li><li>'Mass-Spec filenames (2)'</li><li>'IHC nr'</li><li>'Autopsy nr'</li><li>'Diagnosis'</li><li>'Date LCM'</li><li>'Snumber...16'</li><li>'GROUP...17'</li><li>'IHC numbering'</li><li>'tissuecode...19'</li><li>'LCM slides'</li><li>'LCM finished'</li><li>'autopsy...22'</li><li>'sex'</li><li>'age'</li><li>'braak'</li><li>'amyloid'</li><li>'braaklb'</li><li>'pmd'</li><li>'ph'</li><li>'weight'</li><li>'csf'</li><li>'apoe'</li><li>'barcode'</li><li>'id'</li><li>'tissuecode...35'</li><li>'iduit'</li><li>'datumuit'</li><li>'uitvraag'</li><li>'recipient'</li><li>'clin. diagn.'</li><li>'dcode'</li><li>'diagnosis'</li><li>'dcodewk'</li><li>'wcode'</li><li>'region'</li><li>'specific'</li><li>'ocode'</li><li>'storage'</li><li>'freezer'</li><li>'Clincal info'</li><li>'...51'</li></ol>\n"
      ],
      "text/latex": [
       "\\begin{enumerate*}\n",
       "\\item 'nbb with colour code'\n",
       "\\item 'nbb'\n",
       "\\item 'autopsy...3'\n",
       "\\item 'GROUP...4'\n",
       "\\item 'ABG'\n",
       "\\item 'sampleprepRandomization (4 batches)'\n",
       "\\item 'IHC order'\n",
       "\\item 'Snumber...8'\n",
       "\\item 'zmRandomization (10 batches)'\n",
       "\\item 'Mass-Spec filenames (1)'\n",
       "\\item 'Mass-Spec filenames (2)'\n",
       "\\item 'IHC nr'\n",
       "\\item 'Autopsy nr'\n",
       "\\item 'Diagnosis'\n",
       "\\item 'Date LCM'\n",
       "\\item 'Snumber...16'\n",
       "\\item 'GROUP...17'\n",
       "\\item 'IHC numbering'\n",
       "\\item 'tissuecode...19'\n",
       "\\item 'LCM slides'\n",
       "\\item 'LCM finished'\n",
       "\\item 'autopsy...22'\n",
       "\\item 'sex'\n",
       "\\item 'age'\n",
       "\\item 'braak'\n",
       "\\item 'amyloid'\n",
       "\\item 'braaklb'\n",
       "\\item 'pmd'\n",
       "\\item 'ph'\n",
       "\\item 'weight'\n",
       "\\item 'csf'\n",
       "\\item 'apoe'\n",
       "\\item 'barcode'\n",
       "\\item 'id'\n",
       "\\item 'tissuecode...35'\n",
       "\\item 'iduit'\n",
       "\\item 'datumuit'\n",
       "\\item 'uitvraag'\n",
       "\\item 'recipient'\n",
       "\\item 'clin. diagn.'\n",
       "\\item 'dcode'\n",
       "\\item 'diagnosis'\n",
       "\\item 'dcodewk'\n",
       "\\item 'wcode'\n",
       "\\item 'region'\n",
       "\\item 'specific'\n",
       "\\item 'ocode'\n",
       "\\item 'storage'\n",
       "\\item 'freezer'\n",
       "\\item 'Clincal info'\n",
       "\\item '...51'\n",
       "\\end{enumerate*}\n"
      ],
      "text/markdown": [
       "1. 'nbb with colour code'\n",
       "2. 'nbb'\n",
       "3. 'autopsy...3'\n",
       "4. 'GROUP...4'\n",
       "5. 'ABG'\n",
       "6. 'sampleprepRandomization (4 batches)'\n",
       "7. 'IHC order'\n",
       "8. 'Snumber...8'\n",
       "9. 'zmRandomization (10 batches)'\n",
       "10. 'Mass-Spec filenames (1)'\n",
       "11. 'Mass-Spec filenames (2)'\n",
       "12. 'IHC nr'\n",
       "13. 'Autopsy nr'\n",
       "14. 'Diagnosis'\n",
       "15. 'Date LCM'\n",
       "16. 'Snumber...16'\n",
       "17. 'GROUP...17'\n",
       "18. 'IHC numbering'\n",
       "19. 'tissuecode...19'\n",
       "20. 'LCM slides'\n",
       "21. 'LCM finished'\n",
       "22. 'autopsy...22'\n",
       "23. 'sex'\n",
       "24. 'age'\n",
       "25. 'braak'\n",
       "26. 'amyloid'\n",
       "27. 'braaklb'\n",
       "28. 'pmd'\n",
       "29. 'ph'\n",
       "30. 'weight'\n",
       "31. 'csf'\n",
       "32. 'apoe'\n",
       "33. 'barcode'\n",
       "34. 'id'\n",
       "35. 'tissuecode...35'\n",
       "36. 'iduit'\n",
       "37. 'datumuit'\n",
       "38. 'uitvraag'\n",
       "39. 'recipient'\n",
       "40. 'clin. diagn.'\n",
       "41. 'dcode'\n",
       "42. 'diagnosis'\n",
       "43. 'dcodewk'\n",
       "44. 'wcode'\n",
       "45. 'region'\n",
       "46. 'specific'\n",
       "47. 'ocode'\n",
       "48. 'storage'\n",
       "49. 'freezer'\n",
       "50. 'Clincal info'\n",
       "51. '...51'\n",
       "\n",
       "\n"
      ],
      "text/plain": [
       " [1] \"nbb with colour code\"                \"nbb\"                                \n",
       " [3] \"autopsy...3\"                         \"GROUP...4\"                          \n",
       " [5] \"ABG\"                                 \"sampleprepRandomization (4 batches)\"\n",
       " [7] \"IHC order\"                           \"Snumber...8\"                        \n",
       " [9] \"zmRandomization (10 batches)\"        \"Mass-Spec filenames (1)\"            \n",
       "[11] \"Mass-Spec filenames (2)\"             \"IHC nr\"                             \n",
       "[13] \"Autopsy nr\"                          \"Diagnosis\"                          \n",
       "[15] \"Date LCM\"                            \"Snumber...16\"                       \n",
       "[17] \"GROUP...17\"                          \"IHC numbering\"                      \n",
       "[19] \"tissuecode...19\"                     \"LCM slides\"                         \n",
       "[21] \"LCM finished\"                        \"autopsy...22\"                       \n",
       "[23] \"sex\"                                 \"age\"                                \n",
       "[25] \"braak\"                               \"amyloid\"                            \n",
       "[27] \"braaklb\"                             \"pmd\"                                \n",
       "[29] \"ph\"                                  \"weight\"                             \n",
       "[31] \"csf\"                                 \"apoe\"                               \n",
       "[33] \"barcode\"                             \"id\"                                 \n",
       "[35] \"tissuecode...35\"                     \"iduit\"                              \n",
       "[37] \"datumuit\"                            \"uitvraag\"                           \n",
       "[39] \"recipient\"                           \"clin. diagn.\"                       \n",
       "[41] \"dcode\"                               \"diagnosis\"                          \n",
       "[43] \"dcodewk\"                             \"wcode\"                              \n",
       "[45] \"region\"                              \"specific\"                           \n",
       "[47] \"ocode\"                               \"storage\"                            \n",
       "[49] \"freezer\"                             \"Clincal info\"                       \n",
       "[51] \"...51\"                              "
      ]
     },
     "metadata": {},
     "output_type": "display_data"
    }
   ],
   "source": [
    "metadata <- read_excel(\"100_plus_project/Metadata/2019_07_23_Proteomics_Metadata_forMeng_v3.xlsx\",sheet=1,col_names=TRUE, na=\"NA\")\n",
    "colnames(metadata)\n",
    "\n",
    "names_sample <- as.array(colnames(protein_intensity)[2:ncol(protein_intensity)])\n",
    "names_sample <- as.vector(apply(names_sample, 1, function(names){return (str_sub(names, 11))}))\n",
    "\n",
    "filenames_map_index <- integer(length(names_sample))\n",
    "for (i in 1:length(names_sample)){\n",
    "    filenames_map_index[i] <- ifelse(length(which(metadata[,\"Mass-Spec filenames (1)\"] == names_sample[i]))==0,\n",
    "                                     which(metadata[,\"Mass-Spec filenames (2)\"] == names_sample[i]), \n",
    "                                     which(metadata[,\"Mass-Spec filenames (1)\"] == names_sample[i]))\n",
    "}\n",
    "\n",
    "metadata <- metadata[filenames_map_index, ][c('nbb', 'Mass-Spec filenames (1)', 'Mass-Spec filenames (2)')]\n",
    "metadata$inten_name <- colnames(protein_intensity)[-1]"
   ]
  },
  {
   "cell_type": "code",
   "execution_count": 49,
   "metadata": {
    "scrolled": true
   },
   "outputs": [
    {
     "data": {
      "text/html": [
       "<style>\n",
       ".list-inline {list-style: none; margin:0; padding: 0}\n",
       ".list-inline>li {display: inline-block}\n",
       ".list-inline>li:not(:last-child)::after {content: \"\\00b7\"; padding: 0 .5ex}\n",
       "</style>\n",
       "<ol class=list-inline><li>201</li><li>4</li></ol>\n"
      ],
      "text/latex": [
       "\\begin{enumerate*}\n",
       "\\item 201\n",
       "\\item 4\n",
       "\\end{enumerate*}\n"
      ],
      "text/markdown": [
       "1. 201\n",
       "2. 4\n",
       "\n",
       "\n"
      ],
      "text/plain": [
       "[1] 201   4"
      ]
     },
     "metadata": {},
     "output_type": "display_data"
    }
   ],
   "source": [
    "dim(metadata)"
   ]
  },
  {
   "cell_type": "code",
   "execution_count": 50,
   "metadata": {},
   "outputs": [],
   "source": [
    "nbb_count <- as.data.frame(table(metadata$nbb))\n",
    "duplicate_nbb <- nbb_count[which(nbb_count$Freq > 1),]$Var1"
   ]
  },
  {
   "cell_type": "code",
   "execution_count": 51,
   "metadata": {},
   "outputs": [
    {
     "data": {
      "text/html": [
       "11"
      ],
      "text/latex": [
       "11"
      ],
      "text/markdown": [
       "11"
      ],
      "text/plain": [
       "[1] 11"
      ]
     },
     "metadata": {},
     "output_type": "display_data"
    }
   ],
   "source": [
    "length(duplicate_nbb)"
   ]
  },
  {
   "cell_type": "code",
   "execution_count": 52,
   "metadata": {},
   "outputs": [],
   "source": [
    "duplicate_nbb_sample_index <- as.data.frame(lapply(duplicate_nbb, function(nbb){return (which(metadata$nbb == nbb))}))"
   ]
  },
  {
   "cell_type": "code",
   "execution_count": 53,
   "metadata": {},
   "outputs": [
    {
     "data": {
      "text/html": [
       "<table>\n",
       "<caption>A data.frame: 2 × 11</caption>\n",
       "<thead>\n",
       "\t<tr><th scope=col>c.21L..137L.</th><th scope=col>c.65L..123L.</th><th scope=col>c.120L..138L.</th><th scope=col>c.32L..74L.</th><th scope=col>c.16L..94L.</th><th scope=col>c.15L..81L.</th><th scope=col>c.121L..139L.</th><th scope=col>c.10L..187L.</th><th scope=col>c.95L..200L.</th><th scope=col>c.76L..189L.</th><th scope=col>c.42L..196L.</th></tr>\n",
       "\t<tr><th scope=col>&lt;int&gt;</th><th scope=col>&lt;int&gt;</th><th scope=col>&lt;int&gt;</th><th scope=col>&lt;int&gt;</th><th scope=col>&lt;int&gt;</th><th scope=col>&lt;int&gt;</th><th scope=col>&lt;int&gt;</th><th scope=col>&lt;int&gt;</th><th scope=col>&lt;int&gt;</th><th scope=col>&lt;int&gt;</th><th scope=col>&lt;int&gt;</th></tr>\n",
       "</thead>\n",
       "<tbody>\n",
       "\t<tr><td> 21</td><td> 65</td><td>120</td><td>32</td><td>16</td><td>15</td><td>121</td><td> 10</td><td> 95</td><td> 76</td><td> 42</td></tr>\n",
       "\t<tr><td>137</td><td>123</td><td>138</td><td>74</td><td>94</td><td>81</td><td>139</td><td>187</td><td>200</td><td>189</td><td>196</td></tr>\n",
       "</tbody>\n",
       "</table>\n"
      ],
      "text/latex": [
       "A data.frame: 2 × 11\n",
       "\\begin{tabular}{lllllllllll}\n",
       " c.21L..137L. & c.65L..123L. & c.120L..138L. & c.32L..74L. & c.16L..94L. & c.15L..81L. & c.121L..139L. & c.10L..187L. & c.95L..200L. & c.76L..189L. & c.42L..196L.\\\\\n",
       " <int> & <int> & <int> & <int> & <int> & <int> & <int> & <int> & <int> & <int> & <int>\\\\\n",
       "\\hline\n",
       "\t  21 &  65 & 120 & 32 & 16 & 15 & 121 &  10 &  95 &  76 &  42\\\\\n",
       "\t 137 & 123 & 138 & 74 & 94 & 81 & 139 & 187 & 200 & 189 & 196\\\\\n",
       "\\end{tabular}\n"
      ],
      "text/markdown": [
       "\n",
       "A data.frame: 2 × 11\n",
       "\n",
       "| c.21L..137L. &lt;int&gt; | c.65L..123L. &lt;int&gt; | c.120L..138L. &lt;int&gt; | c.32L..74L. &lt;int&gt; | c.16L..94L. &lt;int&gt; | c.15L..81L. &lt;int&gt; | c.121L..139L. &lt;int&gt; | c.10L..187L. &lt;int&gt; | c.95L..200L. &lt;int&gt; | c.76L..189L. &lt;int&gt; | c.42L..196L. &lt;int&gt; |\n",
       "|---|---|---|---|---|---|---|---|---|---|---|\n",
       "|  21 |  65 | 120 | 32 | 16 | 15 | 121 |  10 |  95 |  76 |  42 |\n",
       "| 137 | 123 | 138 | 74 | 94 | 81 | 139 | 187 | 200 | 189 | 196 |\n",
       "\n"
      ],
      "text/plain": [
       "  c.21L..137L. c.65L..123L. c.120L..138L. c.32L..74L. c.16L..94L. c.15L..81L.\n",
       "1  21           65          120           32          16          15         \n",
       "2 137          123          138           74          94          81         \n",
       "  c.121L..139L. c.10L..187L. c.95L..200L. c.76L..189L. c.42L..196L.\n",
       "1 121            10           95           76           42         \n",
       "2 139           187          200          189          196         "
      ]
     },
     "metadata": {},
     "output_type": "display_data"
    }
   ],
   "source": [
    "duplicate_nbb_sample_index"
   ]
  },
  {
   "cell_type": "code",
   "execution_count": 55,
   "metadata": {
    "scrolled": true
   },
   "outputs": [
    {
     "name": "stdout",
     "output_type": "stream",
     "text": [
      "[1] 2.013779e-115\n",
      "[1] \"qvalue_20190326_28_S01_297_AD_018\"\n",
      "[1] \"qvalue_20190424_169_S01_297_AD_165\"\n",
      "[1] 1\n",
      "[1] \"qvalue_20190412_170_S01_328_AD_082\"\n",
      "[1] \"qvalue_20190419_44_01_328_AD_126\"\n",
      "[1] 9.22439e-12\n",
      "[1] \"qvalue_20190419_40_S02_231_AD_124\"\n",
      "[1] \"qvalue_20190424_173_S02_231_AD_159\"\n",
      "[1] 1\n",
      "[1] \"qvalue_20190328_176_S03_150_AD_033\"\n",
      "[1] \"qvalue_20190412_7_S03_150_AD_079\"\n",
      "[1] 3.037493e-10\n",
      "[1] \"qvalue_20190326_177_S04_062_AD_023\"\n",
      "[1] \"qvalue_20190416_6_04_062_AD_111\"\n",
      "[1] 0.9999998\n",
      "[1] \"qvalue_20190326_176_S04_088_AD_021\"\n",
      "[1] \"qvalue_20190415_64_04_088_AD_94\"\n",
      "[1] 1.056814e-77\n",
      "[1] \"qvalue_20190419_41_S07_116_AD_143\"\n",
      "[1] \"qvalue_20190424_180_S07_116_AD_155\"\n",
      "[1] 1\n",
      "[1] \"qvalue_20190325_79_S07_308_ND_009\"\n",
      "[1] \"qvalue_20190507_199_S07_308_ND_222\"\n",
      "[1] 0.9025106\n",
      "[1] \"qvalue_20190416_98_S08_153_ND_101_GOOD\"\n",
      "[1] \"qvalue_20190606_98_S08_153_ND_RERUN\"\n",
      "[1] 1\n",
      "[1] \"qvalue_20190412_96_S11_039_ND_085\"\n",
      "[1] \"qvalue_20190507_207_S11_039_ND_206\"\n",
      "[1] 0.9995865\n",
      "[1] \"qvalue_20190329_213_S12_049_ND_047\"\n",
      "[1] \"qvalue_20190507_76_S12_049_ND_214\"\n"
     ]
    }
   ],
   "source": [
    "exclude_sample_index <- numeric(0)\n",
    "for(i in 1:ncol(duplicate_nbb_sample_index)){\n",
    "    if(t.test(peptide_quality[, duplicate_nbb_sample_index[,i][1]+2], alternative = \"greater\",\n",
    "              peptide_quality[, duplicate_nbb_sample_index[,i][2]+2], paired = TRUE)$p.value < 0.05){\n",
    "        \n",
    "        print(t.test(peptide_quality[, duplicate_nbb_sample_index[,i][1]+2], alternative = \"greater\",\n",
    "                     peptide_quality[, duplicate_nbb_sample_index[,i][2]+2], paired = TRUE)$p.value)\n",
    "        print(colnames(peptide_quality)[duplicate_nbb_sample_index[,i][1]+2])\n",
    "        print(colnames(peptide_quality)[duplicate_nbb_sample_index[,i][2]+2])\n",
    "        \n",
    "        exclude_sample_index <- c(exclude_sample_index, duplicate_nbb_sample_index[,i][1]+1)\n",
    "    }\n",
    "    else{\n",
    "        \n",
    "        print(t.test(peptide_quality[, duplicate_nbb_sample_index[,i][1]+2], alternative = \"greater\",\n",
    "                     peptide_quality[, duplicate_nbb_sample_index[,i][2]+2], paired = TRUE)$p.value)\n",
    "        print(colnames(peptide_quality)[duplicate_nbb_sample_index[,i][1]+2])\n",
    "        print(colnames(peptide_quality)[duplicate_nbb_sample_index[,i][2]+2])\n",
    "        \n",
    "        exclude_sample_index <- c(exclude_sample_index, duplicate_nbb_sample_index[,i][2]+1)\n",
    "    }\n",
    "}"
   ]
  },
  {
   "cell_type": "code",
   "execution_count": 56,
   "metadata": {},
   "outputs": [
    {
     "data": {
      "text/html": [
       "<style>\n",
       ".list-inline {list-style: none; margin:0; padding: 0}\n",
       ".list-inline>li {display: inline-block}\n",
       ".list-inline>li:not(:last-child)::after {content: \"\\00b7\"; padding: 0 .5ex}\n",
       "</style>\n",
       "<ol class=list-inline><li>22</li><li>124</li><li>121</li><li>75</li><li>17</li><li>82</li><li>122</li><li>188</li><li>201</li><li>190</li><li>197</li></ol>\n"
      ],
      "text/latex": [
       "\\begin{enumerate*}\n",
       "\\item 22\n",
       "\\item 124\n",
       "\\item 121\n",
       "\\item 75\n",
       "\\item 17\n",
       "\\item 82\n",
       "\\item 122\n",
       "\\item 188\n",
       "\\item 201\n",
       "\\item 190\n",
       "\\item 197\n",
       "\\end{enumerate*}\n"
      ],
      "text/markdown": [
       "1. 22\n",
       "2. 124\n",
       "3. 121\n",
       "4. 75\n",
       "5. 17\n",
       "6. 82\n",
       "7. 122\n",
       "8. 188\n",
       "9. 201\n",
       "10. 190\n",
       "11. 197\n",
       "\n",
       "\n"
      ],
      "text/plain": [
       " [1]  22 124 121  75  17  82 122 188 201 190 197"
      ]
     },
     "metadata": {},
     "output_type": "display_data"
    }
   ],
   "source": [
    "exclude_sample_index"
   ]
  },
  {
   "cell_type": "code",
   "execution_count": 57,
   "metadata": {},
   "outputs": [],
   "source": [
    "protein_intensity <- protein_intensity[, -exclude_sample_index]\n",
    "protein_quality <- protein_quality[, -exclude_sample_index]"
   ]
  },
  {
   "cell_type": "code",
   "execution_count": 59,
   "metadata": {},
   "outputs": [
    {
     "data": {
      "text/html": [
       "<style>\n",
       ".list-inline {list-style: none; margin:0; padding: 0}\n",
       ".list-inline>li {display: inline-block}\n",
       ".list-inline>li:not(:last-child)::after {content: \"\\00b7\"; padding: 0 .5ex}\n",
       "</style>\n",
       "<ol class=list-inline><li>'intensity_20190326_28_S01_297_AD_018'</li><li>'intensity_20190419_44_01_328_AD_126'</li><li>'intensity_20190419_40_S02_231_AD_124'</li><li>'intensity_20190412_7_S03_150_AD_079'</li><li>'intensity_20190326_177_S04_062_AD_023'</li><li>'intensity_20190415_64_04_088_AD_94'</li><li>'intensity_20190419_41_S07_116_AD_143'</li><li>'intensity_20190507_199_S07_308_ND_222'</li><li>'intensity_20190606_98_S08_153_ND_RERUN'</li><li>'intensity_20190507_207_S11_039_ND_206'</li><li>'intensity_20190507_76_S12_049_ND_214'</li></ol>\n"
      ],
      "text/latex": [
       "\\begin{enumerate*}\n",
       "\\item 'intensity\\_20190326\\_28\\_S01\\_297\\_AD\\_018'\n",
       "\\item 'intensity\\_20190419\\_44\\_01\\_328\\_AD\\_126'\n",
       "\\item 'intensity\\_20190419\\_40\\_S02\\_231\\_AD\\_124'\n",
       "\\item 'intensity\\_20190412\\_7\\_S03\\_150\\_AD\\_079'\n",
       "\\item 'intensity\\_20190326\\_177\\_S04\\_062\\_AD\\_023'\n",
       "\\item 'intensity\\_20190415\\_64\\_04\\_088\\_AD\\_94'\n",
       "\\item 'intensity\\_20190419\\_41\\_S07\\_116\\_AD\\_143'\n",
       "\\item 'intensity\\_20190507\\_199\\_S07\\_308\\_ND\\_222'\n",
       "\\item 'intensity\\_20190606\\_98\\_S08\\_153\\_ND\\_RERUN'\n",
       "\\item 'intensity\\_20190507\\_207\\_S11\\_039\\_ND\\_206'\n",
       "\\item 'intensity\\_20190507\\_76\\_S12\\_049\\_ND\\_214'\n",
       "\\end{enumerate*}\n"
      ],
      "text/markdown": [
       "1. 'intensity_20190326_28_S01_297_AD_018'\n",
       "2. 'intensity_20190419_44_01_328_AD_126'\n",
       "3. 'intensity_20190419_40_S02_231_AD_124'\n",
       "4. 'intensity_20190412_7_S03_150_AD_079'\n",
       "5. 'intensity_20190326_177_S04_062_AD_023'\n",
       "6. 'intensity_20190415_64_04_088_AD_94'\n",
       "7. 'intensity_20190419_41_S07_116_AD_143'\n",
       "8. 'intensity_20190507_199_S07_308_ND_222'\n",
       "9. 'intensity_20190606_98_S08_153_ND_RERUN'\n",
       "10. 'intensity_20190507_207_S11_039_ND_206'\n",
       "11. 'intensity_20190507_76_S12_049_ND_214'\n",
       "\n",
       "\n"
      ],
      "text/plain": [
       " [1] \"intensity_20190326_28_S01_297_AD_018\"  \n",
       " [2] \"intensity_20190419_44_01_328_AD_126\"   \n",
       " [3] \"intensity_20190419_40_S02_231_AD_124\"  \n",
       " [4] \"intensity_20190412_7_S03_150_AD_079\"   \n",
       " [5] \"intensity_20190326_177_S04_062_AD_023\" \n",
       " [6] \"intensity_20190415_64_04_088_AD_94\"    \n",
       " [7] \"intensity_20190419_41_S07_116_AD_143\"  \n",
       " [8] \"intensity_20190507_199_S07_308_ND_222\" \n",
       " [9] \"intensity_20190606_98_S08_153_ND_RERUN\"\n",
       "[10] \"intensity_20190507_207_S11_039_ND_206\" \n",
       "[11] \"intensity_20190507_76_S12_049_ND_214\"  "
      ]
     },
     "metadata": {},
     "output_type": "display_data"
    }
   ],
   "source": [
    "colnames(peptide_intensity)[(exclude_sample_index+1)]"
   ]
  },
  {
   "cell_type": "code",
   "execution_count": 61,
   "metadata": {},
   "outputs": [],
   "source": [
    "peptide_quality <- peptide_quality[, -(exclude_sample_index+1)]"
   ]
  },
  {
   "cell_type": "code",
   "execution_count": 63,
   "metadata": {},
   "outputs": [],
   "source": [
    "peptide_intensity <- peptide_intensity[, -(exclude_sample_index+1)]"
   ]
  },
  {
   "cell_type": "code",
   "execution_count": 139,
   "metadata": {},
   "outputs": [],
   "source": [
    "#colnames(peptide_intensity)[-1] == colnames(protein_intensity)"
   ]
  },
  {
   "cell_type": "code",
   "execution_count": 67,
   "metadata": {},
   "outputs": [
    {
     "data": {
      "text/html": [
       "<style>\n",
       ".list-inline {list-style: none; margin:0; padding: 0}\n",
       ".list-inline>li {display: inline-block}\n",
       ".list-inline>li:not(:last-child)::after {content: \"\\00b7\"; padding: 0 .5ex}\n",
       "</style>\n",
       "<ol class=list-inline><li>4829</li><li>191</li></ol>\n"
      ],
      "text/latex": [
       "\\begin{enumerate*}\n",
       "\\item 4829\n",
       "\\item 191\n",
       "\\end{enumerate*}\n"
      ],
      "text/markdown": [
       "1. 4829\n",
       "2. 191\n",
       "\n",
       "\n"
      ],
      "text/plain": [
       "[1] 4829  191"
      ]
     },
     "metadata": {},
     "output_type": "display_data"
    },
    {
     "data": {
      "text/html": [
       "<style>\n",
       ".list-inline {list-style: none; margin:0; padding: 0}\n",
       ".list-inline>li {display: inline-block}\n",
       ".list-inline>li:not(:last-child)::after {content: \"\\00b7\"; padding: 0 .5ex}\n",
       "</style>\n",
       "<ol class=list-inline><li>4829</li><li>191</li></ol>\n"
      ],
      "text/latex": [
       "\\begin{enumerate*}\n",
       "\\item 4829\n",
       "\\item 191\n",
       "\\end{enumerate*}\n"
      ],
      "text/markdown": [
       "1. 4829\n",
       "2. 191\n",
       "\n",
       "\n"
      ],
      "text/plain": [
       "[1] 4829  191"
      ]
     },
     "metadata": {},
     "output_type": "display_data"
    },
    {
     "data": {
      "text/html": [
       "<style>\n",
       ".list-inline {list-style: none; margin:0; padding: 0}\n",
       ".list-inline>li {display: inline-block}\n",
       ".list-inline>li:not(:last-child)::after {content: \"\\00b7\"; padding: 0 .5ex}\n",
       "</style>\n",
       "<ol class=list-inline><li>28191</li><li>192</li></ol>\n"
      ],
      "text/latex": [
       "\\begin{enumerate*}\n",
       "\\item 28191\n",
       "\\item 192\n",
       "\\end{enumerate*}\n"
      ],
      "text/markdown": [
       "1. 28191\n",
       "2. 192\n",
       "\n",
       "\n"
      ],
      "text/plain": [
       "[1] 28191   192"
      ]
     },
     "metadata": {},
     "output_type": "display_data"
    },
    {
     "data": {
      "text/html": [
       "<style>\n",
       ".list-inline {list-style: none; margin:0; padding: 0}\n",
       ".list-inline>li {display: inline-block}\n",
       ".list-inline>li:not(:last-child)::after {content: \"\\00b7\"; padding: 0 .5ex}\n",
       "</style>\n",
       "<ol class=list-inline><li>28191</li><li>192</li></ol>\n"
      ],
      "text/latex": [
       "\\begin{enumerate*}\n",
       "\\item 28191\n",
       "\\item 192\n",
       "\\end{enumerate*}\n"
      ],
      "text/markdown": [
       "1. 28191\n",
       "2. 192\n",
       "\n",
       "\n"
      ],
      "text/plain": [
       "[1] 28191   192"
      ]
     },
     "metadata": {},
     "output_type": "display_data"
    }
   ],
   "source": [
    "dim(protein_intensity)\n",
    "dim(protein_quality)\n",
    "dim(peptide_intensity)\n",
    "dim(peptide_quality)"
   ]
  },
  {
   "cell_type": "code",
   "execution_count": null,
   "metadata": {},
   "outputs": [],
   "source": []
  },
  {
   "cell_type": "code",
   "execution_count": null,
   "metadata": {},
   "outputs": [],
   "source": []
  },
  {
   "cell_type": "code",
   "execution_count": 91,
   "metadata": {},
   "outputs": [],
   "source": [
    "log2_peptide_intensity <- log2(peptide_intensity[, -c(1, 2)])"
   ]
  },
  {
   "cell_type": "code",
   "execution_count": 92,
   "metadata": {},
   "outputs": [],
   "source": [
    "peptide_info <- peptide_intensity[, c(1, 2)]"
   ]
  },
  {
   "cell_type": "code",
   "execution_count": 93,
   "metadata": {},
   "outputs": [
    {
     "data": {
      "text/html": [
       "0.536099105938073"
      ],
      "text/latex": [
       "0.536099105938073"
      ],
      "text/markdown": [
       "0.536099105938073"
      ],
      "text/plain": [
       "[1] 0.5360991"
      ]
     },
     "metadata": {},
     "output_type": "display_data"
    }
   ],
   "source": [
    "cal_weighted_protein_quality <- function(protein){\n",
    "    intensity <- log2_peptide_intensity[which(peptide_info$protein == protein), ]\n",
    "    quality <- peptide_quality[which(peptide_info$protein == protein), ][, -c(1, 2)]\n",
    "    \n",
    "    inten_mean <- rowMeans(intensity)\n",
    "    #print(inten_mean)\n",
    "    q_Lratio <- rowSums(quality >= 0.01)/ncol(quality)\n",
    "    #print(q_Lratio)\n",
    "    inten_fraction <- inten_mean/sum(inten_mean)\n",
    "    #inten_fraction <- scale(inten_fraction, center = TRUE, scale = TRUE)\n",
    "    #print(inten_fraction)\n",
    "    return(sum(q_Lratio * inten_fraction))\n",
    "}\n",
    "\n",
    "cal_weighted_protein_quality(\"TOMM34\")"
   ]
  },
  {
   "cell_type": "code",
   "execution_count": 95,
   "metadata": {},
   "outputs": [],
   "source": [
    "protein_inten_quality <- as.data.frame(sapply(protein_intensity$protein, cal_weighted_protein_quality), \n",
    "                                       stringsAsFactors = FALSE)"
   ]
  },
  {
   "cell_type": "code",
   "execution_count": 96,
   "metadata": {},
   "outputs": [],
   "source": [
    "colnames(protein_inten_quality) <- c(\"WQ\")\n",
    "protein_inten_quality$protein <- protein_intensity$protein\n",
    "protein_inten_quality$X <- 1"
   ]
  },
  {
   "cell_type": "code",
   "execution_count": 97,
   "metadata": {},
   "outputs": [
    {
     "data": {
      "text/html": [
       "922"
      ],
      "text/latex": [
       "922"
      ],
      "text/markdown": [
       "922"
      ],
      "text/plain": [
       "[1] 922"
      ]
     },
     "metadata": {},
     "output_type": "display_data"
    }
   ],
   "source": [
    "length(which(protein_inten_quality$WQ > 0.5))"
   ]
  },
  {
   "cell_type": "code",
   "execution_count": 98,
   "metadata": {},
   "outputs": [],
   "source": [
    "protein_WQ_g0.05 <- protein_inten_quality[protein_inten_quality$WQ > 0.5, ]$protein"
   ]
  },
  {
   "cell_type": "code",
   "execution_count": 106,
   "metadata": {},
   "outputs": [],
   "source": [
    "peptide_quality_new <- peptide_quality[-which(peptide_quality$protein %in% as.character(protein_WQ_g0.05)), ]"
   ]
  },
  {
   "cell_type": "code",
   "execution_count": 112,
   "metadata": {},
   "outputs": [],
   "source": [
    "peptide_intens_new <- peptide_intensity[-which(peptide_intensity$protein %in% as.character(protein_WQ_g0.05)), ]"
   ]
  },
  {
   "cell_type": "code",
   "execution_count": 113,
   "metadata": {},
   "outputs": [
    {
     "data": {
      "text/html": [
       "<style>\n",
       ".list-inline {list-style: none; margin:0; padding: 0}\n",
       ".list-inline>li {display: inline-block}\n",
       ".list-inline>li:not(:last-child)::after {content: \"\\00b7\"; padding: 0 .5ex}\n",
       "</style>\n",
       "<ol class=list-inline><li>26149</li><li>192</li></ol>\n"
      ],
      "text/latex": [
       "\\begin{enumerate*}\n",
       "\\item 26149\n",
       "\\item 192\n",
       "\\end{enumerate*}\n"
      ],
      "text/markdown": [
       "1. 26149\n",
       "2. 192\n",
       "\n",
       "\n"
      ],
      "text/plain": [
       "[1] 26149   192"
      ]
     },
     "metadata": {},
     "output_type": "display_data"
    },
    {
     "data": {
      "text/html": [
       "<style>\n",
       ".list-inline {list-style: none; margin:0; padding: 0}\n",
       ".list-inline>li {display: inline-block}\n",
       ".list-inline>li:not(:last-child)::after {content: \"\\00b7\"; padding: 0 .5ex}\n",
       "</style>\n",
       "<ol class=list-inline><li>26149</li><li>192</li></ol>\n"
      ],
      "text/latex": [
       "\\begin{enumerate*}\n",
       "\\item 26149\n",
       "\\item 192\n",
       "\\end{enumerate*}\n"
      ],
      "text/markdown": [
       "1. 26149\n",
       "2. 192\n",
       "\n",
       "\n"
      ],
      "text/plain": [
       "[1] 26149   192"
      ]
     },
     "metadata": {},
     "output_type": "display_data"
    }
   ],
   "source": [
    "dim(peptide_quality_new)\n",
    "dim(peptide_intens_new)"
   ]
  },
  {
   "cell_type": "code",
   "execution_count": 114,
   "metadata": {},
   "outputs": [
    {
     "data": {
      "text/html": [
       "3907"
      ],
      "text/latex": [
       "3907"
      ],
      "text/markdown": [
       "3907"
      ],
      "text/plain": [
       "[1] 3907"
      ]
     },
     "metadata": {},
     "output_type": "display_data"
    }
   ],
   "source": [
    "length(unique(peptide_quality_new$protein))"
   ]
  },
  {
   "cell_type": "code",
   "execution_count": 115,
   "metadata": {},
   "outputs": [
    {
     "data": {
      "text/html": [
       "4829"
      ],
      "text/latex": [
       "4829"
      ],
      "text/markdown": [
       "4829"
      ],
      "text/plain": [
       "[1] 4829"
      ]
     },
     "metadata": {},
     "output_type": "display_data"
    }
   ],
   "source": [
    "3907 + 922"
   ]
  },
  {
   "cell_type": "code",
   "execution_count": 121,
   "metadata": {},
   "outputs": [],
   "source": [
    "cal_prot_star_from_pept <- function(peptide_quality){\n",
    "    protein_names <- unique(peptide_quality$protein)\n",
    "    protein_star <- matrix(NA, 0, ncol(peptide_quality)-2)\n",
    "    \n",
    "    for (i in 1:length(protein_names)){\n",
    "        index <- which(peptide_quality$protein == protein_names[i])\n",
    "        pep2pro_quality <- as.matrix(peptide_quality[index,][3:ncol(peptide_quality)])\n",
    "        protein_star <- rbind(protein_star, colSums(pep2pro_quality < 0.01))\n",
    "    }\n",
    "    protein_star <- as.data.frame(protein_star)\n",
    "    \n",
    "    colname <- as.vector(lapply(colnames(protein_star), function(names){return (paste(\"count\", str_sub(names, 8), sep = \"_\"))}))\n",
    "\n",
    "    colname <- c(\"protein\", colname)\n",
    "    protein_star <- cbind(protein_names, protein_star)\n",
    "    colnames(protein_star) <- colname\n",
    "    return(protein_star)\n",
    "}\n",
    "\n",
    "prot_star <- cal_prot_star_from_pept(peptide_quality)\n",
    "protein_g90_index <- which(rowSums(prot_star[2:ncol(prot_star)]>0)/(ncol(prot_star)-1) >= 0.9)"
   ]
  },
  {
   "cell_type": "code",
   "execution_count": 122,
   "metadata": {},
   "outputs": [
    {
     "data": {
      "text/html": [
       "3556"
      ],
      "text/latex": [
       "3556"
      ],
      "text/markdown": [
       "3556"
      ],
      "text/plain": [
       "[1] 3556"
      ]
     },
     "metadata": {},
     "output_type": "display_data"
    }
   ],
   "source": [
    "length(protein_g90_index)"
   ]
  },
  {
   "cell_type": "code",
   "execution_count": 123,
   "metadata": {},
   "outputs": [
    {
     "data": {
      "text/html": [
       "108"
      ],
      "text/latex": [
       "108"
      ],
      "text/markdown": [
       "108"
      ],
      "text/plain": [
       "[1] 108"
      ]
     },
     "metadata": {},
     "output_type": "display_data"
    }
   ],
   "source": [
    "protein_inten_quality <- as.data.frame(sapply(protein_intensity[protein_g90_index, ]$protein, cal_weighted_protein_quality), \n",
    "                                       stringsAsFactors = FALSE)\n",
    "\n",
    "colnames(protein_inten_quality) <- c(\"WQ\")\n",
    "protein_inten_quality$protein <- protein_intensity[protein_g90_index, ]$protein\n",
    "protein_inten_quality$X <- 1\n",
    "\n",
    "length(which(protein_inten_quality$WQ > 0.5))"
   ]
  },
  {
   "cell_type": "code",
   "execution_count": 137,
   "metadata": {},
   "outputs": [
    {
     "data": {
      "image/png": "[encoded data removed]",
      "text/plain": [
       "plot without title"
      ]
     },
     "metadata": {},
     "output_type": "display_data"
    }
   ],
   "source": [
    "ggplot(protein_inten_quality, aes(y = WQ, x = X)) + \n",
    "    geom_boxplot() + \n",
    "    #geom_jitter(shape=15, position=position_jitter(0.2)) +\n",
    "    geom_text_repel(aes(label=ifelse(WQ > 0.5, \n",
    "                             as.character(protein),''))) +\n",
    "    theme_bw()"
   ]
  },
  {
   "cell_type": "code",
   "execution_count": 124,
   "metadata": {},
   "outputs": [
    {
     "data": {
      "text/html": [
       "<table>\n",
       "<caption>A data.frame: 3448 × 191</caption>\n",
       "<thead>\n",
       "\t<tr><th></th><th scope=col>protein</th><th scope=col>intensity_20190325_121_S16_020_CHC_011</th><th scope=col>intensity_20190325_125_S16_044_CHC_007</th><th scope=col>intensity_20190325_127_S16_094_CHC_004</th><th scope=col>intensity_20190325_16_04_037_AD_008</th><th scope=col>intensity_20190325_183_S10_292_AD_010</th><th scope=col>intensity_20190325_194_S02_055_ND_005</th><th scope=col>intensity_20190325_31_01_184_AD_006</th><th scope=col>intensity_20190325_57_S97_235_AD_003</th><th scope=col>intensity_20190325_77_S11_072_ND_012</th><th scope=col>⋯</th><th scope=col>intensity_20190507_21_01_032_AD_221</th><th scope=col>intensity_20190507_27_00_204_AD_211</th><th scope=col>intensity_20190507_29_S99_240_AD_219</th><th scope=col>intensity_20190507_30_S05_040_AD_209</th><th scope=col>intensity_20190507_63_04_027_AD_217</th><th scope=col>intensity_20190507_72_S99_219_AD_213</th><th scope=col>intensity_20190606_106_NABCA14_08_ND_RERUN</th><th scope=col>intensity_20190606_140_2017_027_CHC_RERUN</th><th scope=col>intensity_20190606_20_S00_166_AD_RERUN</th><th scope=col>intensity_20190606_9_S93_025_AD_RERUN</th></tr>\n",
       "\t<tr><th></th><th scope=col>&lt;fct&gt;</th><th scope=col>&lt;dbl&gt;</th><th scope=col>&lt;dbl&gt;</th><th scope=col>&lt;dbl&gt;</th><th scope=col>&lt;dbl&gt;</th><th scope=col>&lt;dbl&gt;</th><th scope=col>&lt;dbl&gt;</th><th scope=col>&lt;dbl&gt;</th><th scope=col>&lt;dbl&gt;</th><th scope=col>&lt;dbl&gt;</th><th scope=col>⋯</th><th scope=col>&lt;dbl&gt;</th><th scope=col>&lt;dbl&gt;</th><th scope=col>&lt;dbl&gt;</th><th scope=col>&lt;dbl&gt;</th><th scope=col>&lt;dbl&gt;</th><th scope=col>&lt;dbl&gt;</th><th scope=col>&lt;dbl&gt;</th><th scope=col>&lt;dbl&gt;</th><th scope=col>&lt;dbl&gt;</th><th scope=col>&lt;dbl&gt;</th></tr>\n",
       "</thead>\n",
       "<tbody>\n",
       "\t<tr><th scope=row>1</th><td>SLC12A2      </td><td>  836.80987</td><td>  881.06951</td><td>  780.98996</td><td>  701.68957</td><td> 1245.36392</td><td> 1264.51784</td><td>  795.12072</td><td>  810.26815</td><td>  729.90767</td><td>⋯</td><td>  917.08439</td><td>  851.88556</td><td>  796.88906</td><td>  663.22765</td><td>  941.54816</td><td>  932.08231</td><td> 1052.79254</td><td>  917.45960</td><td>  813.67832</td><td>  865.75086</td></tr>\n",
       "\t<tr><th scope=row>2</th><td>CASKIN1      </td><td> 1344.34121</td><td> 1049.89367</td><td>  951.79843</td><td>  904.19465</td><td>  651.40811</td><td> 1497.91167</td><td>  667.30437</td><td>  865.30500</td><td> 1022.58727</td><td>⋯</td><td>  753.06675</td><td>  692.13651</td><td>  507.57334</td><td> 1103.08975</td><td>  693.45142</td><td>  874.55879</td><td>  900.35601</td><td>  786.30930</td><td> 1033.71160</td><td>  805.19428</td></tr>\n",
       "\t<tr><th scope=row>4</th><td>GNG2         </td><td>  563.31659</td><td>  208.31086</td><td>  350.94199</td><td>  232.02806</td><td>  210.62083</td><td>  242.26756</td><td>  161.09872</td><td>  218.97718</td><td>  377.72039</td><td>⋯</td><td>  183.91086</td><td>  133.00780</td><td>  153.79479</td><td>  229.45112</td><td>  256.21317</td><td>  195.04436</td><td>  164.62043</td><td>  179.79677</td><td>  190.60729</td><td>  213.85196</td></tr>\n",
       "\t<tr><th scope=row>5</th><td>CARNS1       </td><td>   33.40392</td><td>   75.57282</td><td>   98.33277</td><td>   23.09145</td><td>  307.11463</td><td>  101.08390</td><td>   99.64686</td><td>  112.03207</td><td>   42.20178</td><td>⋯</td><td>   55.58988</td><td>  164.73288</td><td>   49.12562</td><td>   29.13836</td><td>  139.90373</td><td>   53.68109</td><td>   93.04210</td><td>  134.53807</td><td>  104.82207</td><td>  119.33094</td></tr>\n",
       "\t<tr><th scope=row>6</th><td>FH           </td><td> 3326.60924</td><td> 4564.59875</td><td> 5238.09499</td><td> 3906.98843</td><td> 3662.44502</td><td> 2009.79815</td><td> 4318.91514</td><td> 4116.81168</td><td> 3991.92090</td><td>⋯</td><td> 5109.84351</td><td> 3684.03726</td><td> 4991.14490</td><td> 3601.41144</td><td> 3848.70803</td><td> 4560.84202</td><td> 4917.91263</td><td> 4758.63636</td><td> 4190.09930</td><td> 5038.00332</td></tr>\n",
       "\t<tr><th scope=row>7</th><td>EFHD2        </td><td>  508.48022</td><td>  571.96033</td><td> 1722.07907</td><td>  406.67353</td><td>  543.35073</td><td>  303.94769</td><td>  783.93013</td><td> 1165.80121</td><td>  602.14280</td><td>⋯</td><td>  712.87081</td><td>  802.54044</td><td>  890.61294</td><td>  375.67400</td><td>  657.88005</td><td> 1211.05592</td><td> 1528.88668</td><td> 1777.48636</td><td>  945.07368</td><td> 1577.98572</td></tr>\n",
       "\t<tr><th scope=row>9</th><td>PCLO         </td><td> 2369.33932</td><td> 1029.75211</td><td>  954.52388</td><td> 1652.92346</td><td> 1520.51650</td><td> 2583.51659</td><td> 1804.85497</td><td> 1677.07029</td><td> 2357.03278</td><td>⋯</td><td> 2564.36720</td><td> 1907.63409</td><td> 2410.77471</td><td> 2943.85799</td><td>  831.38952</td><td> 2446.47573</td><td> 3547.34325</td><td> 3332.46509</td><td> 2784.91200</td><td> 3311.11634</td></tr>\n",
       "\t<tr><th scope=row>10</th><td>HSPA1A;HSPA1B</td><td> 7124.78872</td><td> 6129.39109</td><td> 7834.88395</td><td> 6527.18995</td><td>11445.45274</td><td> 5029.23535</td><td> 9876.28243</td><td>10660.13041</td><td> 5758.54005</td><td>⋯</td><td> 7159.83303</td><td>10712.43211</td><td>10114.79332</td><td> 7628.30538</td><td> 6270.58343</td><td>10350.33344</td><td> 8784.79637</td><td> 8276.78113</td><td> 8458.72235</td><td>10499.10328</td></tr>\n",
       "\t<tr><th scope=row>11</th><td>STIP1        </td><td> 1028.55835</td><td>  767.89888</td><td> 2651.63959</td><td>  988.76516</td><td> 1302.06611</td><td>  334.72548</td><td> 1739.11160</td><td> 2405.02599</td><td>  774.17336</td><td>⋯</td><td> 1464.82937</td><td> 1376.75255</td><td> 1398.01876</td><td> 1322.92881</td><td> 1183.51846</td><td> 1722.29743</td><td> 2017.77206</td><td> 1685.91565</td><td> 1494.30325</td><td> 2335.50754</td></tr>\n",
       "\t<tr><th scope=row>12</th><td>CTNND1       </td><td>  663.97118</td><td>  435.31397</td><td>  452.43910</td><td>  397.16527</td><td>  477.16544</td><td>  668.63766</td><td>  484.34126</td><td>  426.80625</td><td>  387.34155</td><td>⋯</td><td>  467.00321</td><td>  547.09277</td><td>  396.58842</td><td>  501.19195</td><td>  485.35993</td><td>  462.42575</td><td>  472.56836</td><td>  413.31748</td><td>  437.44125</td><td>  406.05513</td></tr>\n",
       "\t<tr><th scope=row>13</th><td>INPP5A       </td><td>  123.46592</td><td>  135.82106</td><td>  172.17346</td><td>   93.27368</td><td>  102.81152</td><td>  122.94388</td><td>  127.57161</td><td>  119.38441</td><td>  130.82317</td><td>⋯</td><td>  161.62703</td><td>  107.11325</td><td>  140.10738</td><td>  137.25976</td><td>  114.90099</td><td>  164.23701</td><td>  152.94865</td><td>  126.45722</td><td>  171.14841</td><td>  141.38982</td></tr>\n",
       "\t<tr><th scope=row>15</th><td>SEPT11       </td><td> 1906.08224</td><td> 1562.32753</td><td> 1942.90629</td><td> 1892.42676</td><td> 1721.95816</td><td> 1126.21032</td><td> 1776.09189</td><td> 1784.36458</td><td> 1819.78496</td><td>⋯</td><td> 1875.01951</td><td> 1797.40917</td><td> 2097.27379</td><td> 1926.15282</td><td> 1904.50188</td><td> 1896.74273</td><td> 1392.79831</td><td> 1129.75966</td><td> 2068.73821</td><td> 1346.13901</td></tr>\n",
       "\t<tr><th scope=row>16</th><td>PKP4         </td><td>  337.04942</td><td>  365.39823</td><td>  311.70379</td><td>  435.72008</td><td>  339.62828</td><td>  366.79385</td><td>  223.26142</td><td>  223.97749</td><td>  264.25319</td><td>⋯</td><td>  262.06160</td><td>  283.66532</td><td>  310.63668</td><td>  323.51874</td><td>  321.58506</td><td>  179.87510</td><td>  238.18568</td><td>  169.70571</td><td>  330.59934</td><td>  224.33991</td></tr>\n",
       "\t<tr><th scope=row>17</th><td>RYR2         </td><td> 1768.11308</td><td> 1971.75077</td><td> 1335.73841</td><td> 1512.64058</td><td> 1564.86389</td><td> 2402.36677</td><td> 1515.58687</td><td> 1364.19632</td><td> 1620.37570</td><td>⋯</td><td> 1806.45651</td><td> 1363.62145</td><td> 1325.89722</td><td> 1703.11456</td><td> 1701.70130</td><td> 1460.71920</td><td> 1373.95495</td><td> 1316.57279</td><td> 1569.69648</td><td> 1218.38867</td></tr>\n",
       "\t<tr><th scope=row>18</th><td>PTPRK        </td><td>   96.13215</td><td>   55.53224</td><td>  126.98721</td><td>   37.60490</td><td>   91.26286</td><td>   69.00173</td><td>   90.64721</td><td>   69.32537</td><td>   54.71727</td><td>⋯</td><td>   80.11634</td><td>   94.62571</td><td>   48.75582</td><td>   72.56540</td><td>  130.22648</td><td>   92.59033</td><td>   64.41619</td><td>  125.93495</td><td>   62.36007</td><td>   96.67608</td></tr>\n",
       "\t<tr><th scope=row>19</th><td>CAMKV        </td><td> 3158.82341</td><td> 2680.40900</td><td> 1985.67396</td><td> 3428.31040</td><td> 2263.39686</td><td> 3039.36610</td><td> 2343.28669</td><td> 2639.24023</td><td> 3149.70405</td><td>⋯</td><td> 2969.86342</td><td> 2499.57163</td><td> 2426.47203</td><td> 3419.06123</td><td> 2917.25054</td><td> 2801.57424</td><td> 2516.73623</td><td> 2633.27726</td><td> 3562.53047</td><td> 2716.31824</td></tr>\n",
       "\t<tr><th scope=row>20</th><td>BCR          </td><td>  275.06173</td><td>  271.26194</td><td>  272.08336</td><td>  277.46228</td><td>  206.01317</td><td>  364.20165</td><td>  261.50151</td><td>  240.79399</td><td>  226.90050</td><td>⋯</td><td>  338.19358</td><td>  216.95237</td><td>  238.98965</td><td>  304.87661</td><td>  309.96353</td><td>  244.60385</td><td>  211.79801</td><td>  250.24701</td><td>  279.15964</td><td>  255.12209</td></tr>\n",
       "\t<tr><th scope=row>21</th><td>NDUFV2       </td><td> 2697.05149</td><td> 2154.48898</td><td> 4350.94747</td><td> 1720.88481</td><td> 1972.02665</td><td> 1776.99442</td><td> 1697.51442</td><td> 2053.71573</td><td> 2013.22807</td><td>⋯</td><td> 2483.42244</td><td> 1997.27333</td><td> 2442.74184</td><td> 2151.51965</td><td> 1762.12458</td><td> 2211.98624</td><td> 2391.84040</td><td> 1841.78407</td><td> 1981.93759</td><td> 2221.17412</td></tr>\n",
       "\t<tr><th scope=row>22</th><td>IDH3B        </td><td>  789.47049</td><td>  949.84805</td><td> 1189.77244</td><td> 1131.09953</td><td> 1257.66093</td><td>  790.49521</td><td> 1153.38551</td><td> 1034.66800</td><td> 1253.41534</td><td>⋯</td><td>  989.91466</td><td>  973.51222</td><td> 1331.73601</td><td>  995.61509</td><td>  965.64023</td><td>  981.76879</td><td> 1210.43024</td><td> 1234.96865</td><td>  975.34282</td><td>  973.13334</td></tr>\n",
       "\t<tr><th scope=row>23</th><td>FMNL2        </td><td>  358.51257</td><td>  470.01068</td><td>  467.71437</td><td>  392.49422</td><td>  746.70880</td><td>  541.07100</td><td>  544.37136</td><td>  564.06847</td><td>  336.61802</td><td>⋯</td><td>  520.43825</td><td>  712.79039</td><td>  505.56247</td><td>  413.17870</td><td>  617.09886</td><td>  556.83323</td><td>  501.10169</td><td>  450.11418</td><td>  416.92213</td><td>  552.46070</td></tr>\n",
       "\t<tr><th scope=row>24</th><td>SYT12        </td><td> 1347.40137</td><td> 1289.28355</td><td> 1134.94910</td><td>  602.64228</td><td>  441.08296</td><td> 1456.45571</td><td>  533.26565</td><td>  549.42687</td><td> 1042.83529</td><td>⋯</td><td>  747.68836</td><td>  630.28826</td><td>  784.87209</td><td>  657.88134</td><td>  514.82543</td><td>  670.35515</td><td> 1124.62855</td><td>  663.40806</td><td>  989.08030</td><td>  582.24181</td></tr>\n",
       "\t<tr><th scope=row>25</th><td>GRHPR        </td><td>  140.78761</td><td>  220.68721</td><td>  498.30787</td><td>  332.40037</td><td>  572.76199</td><td>   94.52390</td><td>  584.31267</td><td>  557.72113</td><td>  210.88116</td><td>⋯</td><td>  327.84410</td><td>  460.66877</td><td>  387.38761</td><td>  266.78688</td><td>  247.85780</td><td>  407.30635</td><td>  589.92086</td><td>  517.62409</td><td>  241.66586</td><td>  651.76991</td></tr>\n",
       "\t<tr><th scope=row>26</th><td>CSE1L        </td><td>20076.39270</td><td>21394.05450</td><td>25614.94780</td><td>18009.92414</td><td>32391.73897</td><td>23936.62803</td><td>30269.04082</td><td>25758.39257</td><td>20466.99688</td><td>⋯</td><td>28463.91980</td><td>31540.49788</td><td>23977.46984</td><td>21606.71425</td><td>29366.84042</td><td>29204.85006</td><td> 7367.18777</td><td>10214.42718</td><td>17863.71787</td><td>13544.08644</td></tr>\n",
       "\t<tr><th scope=row>27</th><td>DNAJC6       </td><td> 2330.57226</td><td> 2157.76167</td><td> 2060.25796</td><td> 2181.53237</td><td> 1624.33018</td><td> 2497.42617</td><td> 1593.58452</td><td> 1647.36504</td><td> 2397.09261</td><td>⋯</td><td> 2232.26690</td><td> 1963.81456</td><td> 2166.15253</td><td> 2068.86953</td><td> 2011.97768</td><td> 2121.82046</td><td> 2261.53011</td><td> 2132.47581</td><td> 2255.45426</td><td> 2098.58135</td></tr>\n",
       "\t<tr><th scope=row>28</th><td>DUSP3        </td><td>  546.60163</td><td>  830.79981</td><td> 1177.57891</td><td> 1119.23253</td><td> 1024.66376</td><td>  387.35284</td><td>  942.79550</td><td>  820.96329</td><td> 1174.47842</td><td>⋯</td><td> 1200.33511</td><td> 1027.32980</td><td> 1111.17985</td><td>  509.86104</td><td>  987.44403</td><td> 1151.33715</td><td> 1118.08486</td><td> 1010.96195</td><td>  679.69132</td><td>  911.14807</td></tr>\n",
       "\t<tr><th scope=row>29</th><td>VDAC3        </td><td>17834.79847</td><td>18057.97378</td><td>17550.03212</td><td>14590.44389</td><td>12841.31074</td><td>17192.90139</td><td>14085.85484</td><td>13446.76350</td><td>18114.56670</td><td>⋯</td><td>18992.83025</td><td>14873.77619</td><td>15799.80990</td><td>17354.70356</td><td>15536.13257</td><td>16917.24820</td><td>14653.42833</td><td>14099.65346</td><td>17873.88529</td><td>13269.31067</td></tr>\n",
       "\t<tr><th scope=row>31</th><td>PITPNM3      </td><td>  102.99731</td><td>  166.70616</td><td>  154.48666</td><td>  169.15021</td><td>   71.35628</td><td>  134.72583</td><td>   81.23354</td><td>  125.61356</td><td>  149.80167</td><td>⋯</td><td>  117.41667</td><td>   95.79831</td><td>   99.84140</td><td>  101.36388</td><td>  101.91946</td><td>   90.83775</td><td>  123.98918</td><td>   92.92531</td><td>  147.25619</td><td>  122.15082</td></tr>\n",
       "\t<tr><th scope=row>33</th><td>SRPK2        </td><td>   87.08684</td><td>   83.31784</td><td>   89.65762</td><td>   71.02852</td><td>   67.75679</td><td>   78.04759</td><td>   59.40742</td><td>   83.08460</td><td>   78.86461</td><td>⋯</td><td>   59.08290</td><td>   69.03947</td><td>   83.41666</td><td>   62.88887</td><td>   60.51851</td><td>   82.36228</td><td>   82.06934</td><td>   90.36131</td><td>   79.74562</td><td>   74.00142</td></tr>\n",
       "\t<tr><th scope=row>34</th><td>AP2A1        </td><td>11983.49310</td><td>10685.73287</td><td> 7890.83625</td><td>10065.91827</td><td> 7827.00889</td><td>12767.51131</td><td> 7897.75691</td><td> 8443.87131</td><td>11248.57694</td><td>⋯</td><td>10042.27867</td><td> 9052.42253</td><td> 9893.07105</td><td>11645.51408</td><td> 9294.26569</td><td> 9889.37404</td><td>10258.98197</td><td> 9805.11403</td><td>10723.82450</td><td>10177.06788</td></tr>\n",
       "\t<tr><th scope=row>35</th><td>RCN1         </td><td>   58.76281</td><td>   41.35719</td><td>   57.66257</td><td>   49.54126</td><td>   44.25458</td><td>   34.59118</td><td>   74.34772</td><td>   40.92395</td><td>   52.60008</td><td>⋯</td><td>   88.17278</td><td>   43.85331</td><td>   71.48368</td><td>   61.93211</td><td>   55.05996</td><td>   79.59924</td><td>   98.01541</td><td>   71.11574</td><td>   79.86997</td><td>   98.82962</td></tr>\n",
       "\t<tr><th scope=row>⋮</th><td>⋮</td><td>⋮</td><td>⋮</td><td>⋮</td><td>⋮</td><td>⋮</td><td>⋮</td><td>⋮</td><td>⋮</td><td>⋮</td><td>⋱</td><td>⋮</td><td>⋮</td><td>⋮</td><td>⋮</td><td>⋮</td><td>⋮</td><td>⋮</td><td>⋮</td><td>⋮</td><td>⋮</td></tr>\n",
       "\t<tr><th scope=row>4758</th><td>KLC1;KLC2;KLC4                    </td><td>  216.16034</td><td>   81.42871</td><td>   60.660126</td><td>  110.33797</td><td>  145.81803</td><td>  143.34139</td><td>  100.058995</td><td>  116.68921</td><td>  137.52070</td><td>⋯</td><td>   96.66541</td><td>  102.241862</td><td>   83.76828</td><td>   75.21234</td><td>   94.98581</td><td>   77.14257</td><td>   42.983891</td><td>   25.90618</td><td>  101.18740</td><td>   43.17907</td></tr>\n",
       "\t<tr><th scope=row>4759</th><td>TM9SF3                            </td><td>   56.54726</td><td>   25.24440</td><td>    3.914434</td><td>   16.98862</td><td>   48.94318</td><td>   15.64584</td><td>   27.899557</td><td>   25.24162</td><td>   24.11220</td><td>⋯</td><td>   29.02346</td><td>   34.507870</td><td>   38.05774</td><td>   34.98546</td><td>   39.61851</td><td>   33.00929</td><td>   40.245741</td><td>   30.52803</td><td>   31.29675</td><td>   34.78107</td></tr>\n",
       "\t<tr><th scope=row>4761</th><td>PLEKHA6                           </td><td>   18.34902</td><td>   19.10453</td><td>   20.154307</td><td>   23.74623</td><td>   13.45635</td><td>   27.16344</td><td>   17.876217</td><td>   26.60670</td><td>   12.57684</td><td>⋯</td><td>   10.71388</td><td>   17.450905</td><td>   20.19081</td><td>   23.90907</td><td>   21.64301</td><td>   21.28424</td><td>    7.159314</td><td>   11.65796</td><td>   19.65614</td><td>   19.65989</td></tr>\n",
       "\t<tr><th scope=row>4762</th><td>KCTD12;KCTD16                     </td><td>  874.55376</td><td>  852.92032</td><td>  736.164906</td><td> 1035.38771</td><td>  590.88579</td><td>  813.79584</td><td>  793.703545</td><td>  805.91144</td><td>  904.06549</td><td>⋯</td><td>  936.44136</td><td>  719.595017</td><td>  859.95591</td><td> 1012.85754</td><td>  821.21906</td><td>  840.84291</td><td>  760.150195</td><td>  889.54193</td><td>  810.27840</td><td> 1035.57138</td></tr>\n",
       "\t<tr><th scope=row>4764</th><td>SLC16A7                           </td><td>   17.77719</td><td>   55.38960</td><td>   38.224640</td><td>   24.22903</td><td>   11.60774</td><td>   28.13527</td><td>   18.287183</td><td>   30.24788</td><td>   39.84080</td><td>⋯</td><td>    6.35354</td><td>    8.927504</td><td>   16.13988</td><td>   25.96853</td><td>   18.83417</td><td>   24.09176</td><td>   48.044534</td><td>   37.34120</td><td>   24.67981</td><td>   20.16108</td></tr>\n",
       "\t<tr><th scope=row>4766</th><td>PPP3CA;PPP3CB;PPP3CC              </td><td> 2868.60823</td><td> 3319.25104</td><td> 4273.299296</td><td> 3816.76975</td><td> 1877.62488</td><td>  990.09828</td><td> 2501.007543</td><td> 3171.34720</td><td> 3839.18986</td><td>⋯</td><td> 4233.23782</td><td> 2251.997837</td><td> 2188.95769</td><td> 2955.40641</td><td> 3316.46924</td><td> 3210.19344</td><td> 5369.912865</td><td> 4851.42238</td><td> 4353.61948</td><td> 4942.35228</td></tr>\n",
       "\t<tr><th scope=row>4768</th><td>EHD3;EHD4                         </td><td>  374.00680</td><td>  368.46413</td><td>  323.260941</td><td>  209.11086</td><td>  272.41957</td><td>  431.83278</td><td>  316.186153</td><td>  305.76610</td><td>  472.64509</td><td>⋯</td><td>  347.25412</td><td>  345.974893</td><td>  301.92187</td><td>  457.62326</td><td>  389.65367</td><td>  447.34936</td><td>  430.048672</td><td>  420.59726</td><td>  414.19800</td><td>  388.78268</td></tr>\n",
       "\t<tr><th scope=row>4769</th><td>PEX14                             </td><td>   34.72123</td><td>   65.67522</td><td>   76.695354</td><td>   49.88404</td><td>   14.84781</td><td>   32.84006</td><td>   21.047438</td><td>   60.46507</td><td>   54.49397</td><td>⋯</td><td>   39.09009</td><td>   29.462436</td><td>   14.29512</td><td>   20.42446</td><td>   22.88304</td><td>   31.25208</td><td>   59.400252</td><td>   53.88289</td><td>   60.46053</td><td>   51.60360</td></tr>\n",
       "\t<tr><th scope=row>4772</th><td>TUBB;TUBB4A;TUBB4B                </td><td>62768.18872</td><td>58050.53066</td><td>61816.093017</td><td>48939.96829</td><td>46172.23031</td><td>64525.50116</td><td>53087.321965</td><td>44844.78821</td><td>60509.99137</td><td>⋯</td><td>78207.91147</td><td>76761.433827</td><td>68442.60870</td><td>82223.22887</td><td>88640.30841</td><td>88969.78432</td><td>76382.499944</td><td>93714.07777</td><td>86748.45372</td><td>78130.67059</td></tr>\n",
       "\t<tr><th scope=row>4773</th><td>TUBA1A;TUBA1B;TUBA1C;TUBA4A;TUBAL3</td><td>10001.43856</td><td> 1801.15282</td><td>  169.368351</td><td> 4035.06493</td><td> 6172.21721</td><td> 2885.02059</td><td> 3682.349634</td><td> 3638.89086</td><td> 6452.12613</td><td>⋯</td><td> 4185.28667</td><td> 4968.308306</td><td> 4525.92550</td><td> 4061.29555</td><td> 4643.57065</td><td> 3555.29439</td><td> 1815.573359</td><td> 1044.47103</td><td> 5413.36161</td><td> 1599.87212</td></tr>\n",
       "\t<tr><th scope=row>4777</th><td>PTPRD;PTPRF                       </td><td>   56.68148</td><td>   46.16820</td><td>   55.328797</td><td>   40.84120</td><td>   44.39055</td><td>   64.32828</td><td>   40.093780</td><td>   40.65706</td><td>   46.37370</td><td>⋯</td><td>   47.90000</td><td>   34.976188</td><td>   34.27414</td><td>   41.69617</td><td>   37.34074</td><td>   45.15722</td><td>   23.270882</td><td>   12.42309</td><td>   54.76745</td><td>   18.77311</td></tr>\n",
       "\t<tr><th scope=row>4779</th><td>H1F0                              </td><td>   35.52444</td><td>   72.60005</td><td>   54.195824</td><td>   53.88195</td><td>  198.34128</td><td>   55.89123</td><td>  143.847383</td><td>   79.44331</td><td>   53.29782</td><td>⋯</td><td>  171.94018</td><td>  124.321508</td><td>   98.17444</td><td>   84.89860</td><td>  147.14489</td><td>  116.79473</td><td>  125.112004</td><td>  172.55529</td><td>  131.21527</td><td>  254.63077</td></tr>\n",
       "\t<tr><th scope=row>4782</th><td>FAM210A                           </td><td>  103.40813</td><td>   89.49845</td><td>   81.969615</td><td>   63.26030</td><td>   44.43590</td><td>   95.15640</td><td>   52.204464</td><td>   59.25372</td><td>   73.19240</td><td>⋯</td><td>   76.86124</td><td>   60.339445</td><td>   69.53595</td><td>   65.25712</td><td>   57.19815</td><td>   70.91829</td><td>   56.722174</td><td>   55.21940</td><td>   78.32464</td><td>   56.82053</td></tr>\n",
       "\t<tr><th scope=row>4786</th><td>EPB41;EPB41L1;EPB41L3             </td><td>  906.50345</td><td>  545.29855</td><td>  485.702344</td><td>  701.33762</td><td>  773.85509</td><td>  669.68830</td><td>  720.971641</td><td>  831.20482</td><td> 1191.21394</td><td>⋯</td><td> 1067.59321</td><td> 1154.424820</td><td>  852.72927</td><td> 1062.20402</td><td> 1476.19288</td><td> 1539.40003</td><td> 1355.147483</td><td> 1112.23684</td><td> 1701.61568</td><td> 1328.91314</td></tr>\n",
       "\t<tr><th scope=row>4788</th><td>PABPN1                            </td><td>   64.56487</td><td>   92.47213</td><td>   95.128724</td><td>   29.59496</td><td>   67.25413</td><td>   47.15222</td><td>   80.385546</td><td>   66.77388</td><td>   54.93410</td><td>⋯</td><td>   58.03835</td><td>   68.755950</td><td>   67.49455</td><td>   75.77816</td><td>   50.35426</td><td>   75.13077</td><td>   69.558404</td><td>   85.19130</td><td>   78.29586</td><td>   85.87782</td></tr>\n",
       "\t<tr><th scope=row>4791</th><td>KCND2;KCND3                       </td><td>  102.21511</td><td>   60.29311</td><td>   49.325050</td><td>   60.68333</td><td>   71.68276</td><td>   84.21218</td><td>   55.131636</td><td>   56.73816</td><td>   71.80532</td><td>⋯</td><td>   77.82722</td><td>   78.201003</td><td>   68.46645</td><td>   86.31211</td><td>   71.68179</td><td>   74.05749</td><td>   48.879016</td><td>   45.93482</td><td>   69.35005</td><td>   34.30306</td></tr>\n",
       "\t<tr><th scope=row>4792</th><td>JMJD7;PLA2G4B                     </td><td>   30.81992</td><td>   39.00171</td><td>   33.241943</td><td>   51.93361</td><td>   48.33491</td><td>   22.22962</td><td>   53.671141</td><td>   54.31205</td><td>   59.32425</td><td>⋯</td><td>   43.14729</td><td>   54.844574</td><td>   51.39434</td><td>   37.02016</td><td>   25.97695</td><td>   50.77305</td><td>   23.232100</td><td>   76.35774</td><td>   43.72344</td><td>   90.23540</td></tr>\n",
       "\t<tr><th scope=row>4795</th><td>U2AF1;U2AF1L4;U2AF1L5             </td><td>   43.60532</td><td>   40.65818</td><td>   41.749822</td><td>   35.35361</td><td>   49.20362</td><td>   40.50421</td><td>   54.603400</td><td>   42.23173</td><td>   44.13485</td><td>⋯</td><td>   50.48158</td><td>   44.705622</td><td>   47.09661</td><td>   39.29596</td><td>   38.47454</td><td>   45.42576</td><td>   34.114154</td><td>   34.81661</td><td>   38.61068</td><td>   31.93292</td></tr>\n",
       "\t<tr><th scope=row>4799</th><td>ATP6V1G1;ATP6V1G2                 </td><td>  240.19773</td><td>  105.76147</td><td>  186.439077</td><td>   92.55407</td><td>  106.47903</td><td>  158.26922</td><td>   63.840785</td><td>   94.70392</td><td>  118.05221</td><td>⋯</td><td>   90.93723</td><td>   63.174032</td><td>   79.28208</td><td>   88.67332</td><td>   88.11349</td><td>   69.51750</td><td>   73.433352</td><td>   65.40213</td><td>  100.54053</td><td>  107.44218</td></tr>\n",
       "\t<tr><th scope=row>4800</th><td>ATP5J2;ATP5MF                     </td><td>  136.74496</td><td>  110.17608</td><td>   42.095159</td><td>   54.93447</td><td>  133.89128</td><td>  107.43955</td><td>    3.867245</td><td>   94.01394</td><td>  127.02001</td><td>⋯</td><td>  102.51971</td><td>  141.564573</td><td>  148.31024</td><td>  131.41429</td><td>   55.80040</td><td>  103.55184</td><td>  185.368073</td><td>  151.95125</td><td>  171.03806</td><td>  226.20652</td></tr>\n",
       "\t<tr><th scope=row>4802</th><td>ACTB                              </td><td>  171.97973</td><td>  102.83089</td><td>   48.356351</td><td>  125.02589</td><td>  143.31593</td><td>  117.64489</td><td>  134.950005</td><td>  104.85303</td><td>  109.40300</td><td>⋯</td><td>   71.78043</td><td>  106.661146</td><td>  103.40263</td><td>  132.89694</td><td>  109.56536</td><td>  106.93676</td><td>  122.909060</td><td>  116.49712</td><td>  125.06371</td><td>  151.20023</td></tr>\n",
       "\t<tr><th scope=row>4803</th><td>ACTG1                             </td><td>  229.91953</td><td>  149.37702</td><td>   62.255384</td><td>  164.89106</td><td>  167.97006</td><td>  104.35544</td><td>  177.161118</td><td>  143.41467</td><td>  145.53764</td><td>⋯</td><td>   83.32112</td><td>  133.599475</td><td>  103.65948</td><td>  135.42950</td><td>  103.57304</td><td>  107.93333</td><td>  144.040028</td><td>  102.65721</td><td>  123.33541</td><td>  175.52978</td></tr>\n",
       "\t<tr><th scope=row>4804</th><td>CHMP1A                            </td><td>   33.53112</td><td>   37.20176</td><td>   38.010692</td><td>   22.50076</td><td>   12.61949</td><td>   43.27871</td><td>   14.586035</td><td>   22.90596</td><td>   32.36811</td><td>⋯</td><td>   24.85275</td><td>   32.273675</td><td>   10.66484</td><td>   23.73343</td><td>   21.40087</td><td>   24.44672</td><td>   32.474943</td><td>   28.84260</td><td>   29.70283</td><td>   24.46553</td></tr>\n",
       "\t<tr><th scope=row>4805</th><td>MTURN                             </td><td>   35.17110</td><td>   39.33631</td><td>   40.613760</td><td>   60.12420</td><td>   62.11357</td><td>   26.24305</td><td>   64.250598</td><td>   51.28072</td><td>   58.86401</td><td>⋯</td><td>   50.01676</td><td>   59.006061</td><td>   58.07628</td><td>   31.52005</td><td>   47.76836</td><td>   47.82806</td><td>   38.892645</td><td>   54.96380</td><td>   47.80332</td><td>   42.62395</td></tr>\n",
       "\t<tr><th scope=row>4820</th><td>PTMA                              </td><td>  120.06536</td><td>   56.58146</td><td>  186.382636</td><td>   58.97763</td><td>  108.37290</td><td>   40.57689</td><td>   93.483229</td><td>  219.07845</td><td>   79.26335</td><td>⋯</td><td>   69.89553</td><td>   96.536804</td><td>   65.37258</td><td>   73.12520</td><td>   98.32459</td><td>  203.21890</td><td>  295.284804</td><td>  235.91354</td><td>  172.82885</td><td>  360.35583</td></tr>\n",
       "\t<tr><th scope=row>4821</th><td>HIST1H1C                          </td><td>   68.69914</td><td>  156.93434</td><td>  101.711110</td><td>   87.09051</td><td>  258.06085</td><td>   80.70963</td><td>  239.984644</td><td>  253.88674</td><td>   94.74115</td><td>⋯</td><td>  170.94172</td><td>  254.739105</td><td>  119.50522</td><td>  119.89265</td><td>  246.41720</td><td>  216.42105</td><td>  452.858557</td><td>  396.08204</td><td>  120.66592</td><td>   98.08703</td></tr>\n",
       "\t<tr><th scope=row>4822</th><td>HIST1H1D;HIST1H1E                 </td><td>  576.64952</td><td> 1141.05708</td><td> 1094.788868</td><td>  638.54204</td><td> 1676.11186</td><td>  753.53817</td><td> 1519.286448</td><td> 1340.21806</td><td>  740.69488</td><td>⋯</td><td> 1292.81878</td><td> 1694.103200</td><td> 1284.79120</td><td>  960.62624</td><td> 2159.04163</td><td> 1541.43352</td><td>  542.756945</td><td>  472.66687</td><td> 1126.40833</td><td>  958.26245</td></tr>\n",
       "\t<tr><th scope=row>4825</th><td>CDIP1                             </td><td>   60.61889</td><td>   74.00469</td><td>   68.971560</td><td>   51.67504</td><td>   51.26438</td><td>  102.51686</td><td>   79.183914</td><td>   54.69930</td><td>   64.54438</td><td>⋯</td><td>   59.38591</td><td>   62.098145</td><td>   57.87191</td><td>   98.74187</td><td>   54.39642</td><td>   44.65669</td><td>   73.187073</td><td>   78.87554</td><td>   78.61882</td><td>   83.59697</td></tr>\n",
       "\t<tr><th scope=row>4827</th><td>LSM8                              </td><td>   50.09336</td><td>   33.94317</td><td>   69.112695</td><td>   44.16863</td><td>   64.60669</td><td>   25.24368</td><td>   58.293556</td><td>   60.78698</td><td>   48.72469</td><td>⋯</td><td>   54.06854</td><td>   55.294221</td><td>   46.28664</td><td>   46.44952</td><td>   52.71434</td><td>   57.20741</td><td>   45.816914</td><td>   39.42721</td><td>   44.77698</td><td>   57.29603</td></tr>\n",
       "\t<tr><th scope=row>4828</th><td>LAMTOR4                           </td><td>   68.45759</td><td>   56.51558</td><td>  120.171671</td><td>   81.15357</td><td>  100.99627</td><td>   73.21581</td><td>  127.885838</td><td>  129.93762</td><td>   77.24328</td><td>⋯</td><td>  108.74447</td><td>  111.435808</td><td>  115.36710</td><td>   95.98967</td><td>  136.87488</td><td>   98.86712</td><td>  115.173852</td><td>  101.91294</td><td>  103.74489</td><td>  126.55149</td></tr>\n",
       "</tbody>\n",
       "</table>\n"
      ],
      "text/latex": [
       "A data.frame: 3448 × 191\n",
       "\\begin{tabular}{r|lllllllllllllllllllll}\n",
       "  & protein & intensity\\_20190325\\_121\\_S16\\_020\\_CHC\\_011 & intensity\\_20190325\\_125\\_S16\\_044\\_CHC\\_007 & intensity\\_20190325\\_127\\_S16\\_094\\_CHC\\_004 & intensity\\_20190325\\_16\\_04\\_037\\_AD\\_008 & intensity\\_20190325\\_183\\_S10\\_292\\_AD\\_010 & intensity\\_20190325\\_194\\_S02\\_055\\_ND\\_005 & intensity\\_20190325\\_31\\_01\\_184\\_AD\\_006 & intensity\\_20190325\\_57\\_S97\\_235\\_AD\\_003 & intensity\\_20190325\\_77\\_S11\\_072\\_ND\\_012 & ⋯ & intensity\\_20190507\\_21\\_01\\_032\\_AD\\_221 & intensity\\_20190507\\_27\\_00\\_204\\_AD\\_211 & intensity\\_20190507\\_29\\_S99\\_240\\_AD\\_219 & intensity\\_20190507\\_30\\_S05\\_040\\_AD\\_209 & intensity\\_20190507\\_63\\_04\\_027\\_AD\\_217 & intensity\\_20190507\\_72\\_S99\\_219\\_AD\\_213 & intensity\\_20190606\\_106\\_NABCA14\\_08\\_ND\\_RERUN & intensity\\_20190606\\_140\\_2017\\_027\\_CHC\\_RERUN & intensity\\_20190606\\_20\\_S00\\_166\\_AD\\_RERUN & intensity\\_20190606\\_9\\_S93\\_025\\_AD\\_RERUN\\\\\n",
       "  & <fct> & <dbl> & <dbl> & <dbl> & <dbl> & <dbl> & <dbl> & <dbl> & <dbl> & <dbl> & ⋯ & <dbl> & <dbl> & <dbl> & <dbl> & <dbl> & <dbl> & <dbl> & <dbl> & <dbl> & <dbl>\\\\\n",
       "\\hline\n",
       "\t1 & SLC12A2       &   836.80987 &   881.06951 &   780.98996 &   701.68957 &  1245.36392 &  1264.51784 &   795.12072 &   810.26815 &   729.90767 & ⋯ &   917.08439 &   851.88556 &   796.88906 &   663.22765 &   941.54816 &   932.08231 &  1052.79254 &   917.45960 &   813.67832 &   865.75086\\\\\n",
       "\t2 & CASKIN1       &  1344.34121 &  1049.89367 &   951.79843 &   904.19465 &   651.40811 &  1497.91167 &   667.30437 &   865.30500 &  1022.58727 & ⋯ &   753.06675 &   692.13651 &   507.57334 &  1103.08975 &   693.45142 &   874.55879 &   900.35601 &   786.30930 &  1033.71160 &   805.19428\\\\\n",
       "\t4 & GNG2          &   563.31659 &   208.31086 &   350.94199 &   232.02806 &   210.62083 &   242.26756 &   161.09872 &   218.97718 &   377.72039 & ⋯ &   183.91086 &   133.00780 &   153.79479 &   229.45112 &   256.21317 &   195.04436 &   164.62043 &   179.79677 &   190.60729 &   213.85196\\\\\n",
       "\t5 & CARNS1        &    33.40392 &    75.57282 &    98.33277 &    23.09145 &   307.11463 &   101.08390 &    99.64686 &   112.03207 &    42.20178 & ⋯ &    55.58988 &   164.73288 &    49.12562 &    29.13836 &   139.90373 &    53.68109 &    93.04210 &   134.53807 &   104.82207 &   119.33094\\\\\n",
       "\t6 & FH            &  3326.60924 &  4564.59875 &  5238.09499 &  3906.98843 &  3662.44502 &  2009.79815 &  4318.91514 &  4116.81168 &  3991.92090 & ⋯ &  5109.84351 &  3684.03726 &  4991.14490 &  3601.41144 &  3848.70803 &  4560.84202 &  4917.91263 &  4758.63636 &  4190.09930 &  5038.00332\\\\\n",
       "\t7 & EFHD2         &   508.48022 &   571.96033 &  1722.07907 &   406.67353 &   543.35073 &   303.94769 &   783.93013 &  1165.80121 &   602.14280 & ⋯ &   712.87081 &   802.54044 &   890.61294 &   375.67400 &   657.88005 &  1211.05592 &  1528.88668 &  1777.48636 &   945.07368 &  1577.98572\\\\\n",
       "\t9 & PCLO          &  2369.33932 &  1029.75211 &   954.52388 &  1652.92346 &  1520.51650 &  2583.51659 &  1804.85497 &  1677.07029 &  2357.03278 & ⋯ &  2564.36720 &  1907.63409 &  2410.77471 &  2943.85799 &   831.38952 &  2446.47573 &  3547.34325 &  3332.46509 &  2784.91200 &  3311.11634\\\\\n",
       "\t10 & HSPA1A;HSPA1B &  7124.78872 &  6129.39109 &  7834.88395 &  6527.18995 & 11445.45274 &  5029.23535 &  9876.28243 & 10660.13041 &  5758.54005 & ⋯ &  7159.83303 & 10712.43211 & 10114.79332 &  7628.30538 &  6270.58343 & 10350.33344 &  8784.79637 &  8276.78113 &  8458.72235 & 10499.10328\\\\\n",
       "\t11 & STIP1         &  1028.55835 &   767.89888 &  2651.63959 &   988.76516 &  1302.06611 &   334.72548 &  1739.11160 &  2405.02599 &   774.17336 & ⋯ &  1464.82937 &  1376.75255 &  1398.01876 &  1322.92881 &  1183.51846 &  1722.29743 &  2017.77206 &  1685.91565 &  1494.30325 &  2335.50754\\\\\n",
       "\t12 & CTNND1        &   663.97118 &   435.31397 &   452.43910 &   397.16527 &   477.16544 &   668.63766 &   484.34126 &   426.80625 &   387.34155 & ⋯ &   467.00321 &   547.09277 &   396.58842 &   501.19195 &   485.35993 &   462.42575 &   472.56836 &   413.31748 &   437.44125 &   406.05513\\\\\n",
       "\t13 & INPP5A        &   123.46592 &   135.82106 &   172.17346 &    93.27368 &   102.81152 &   122.94388 &   127.57161 &   119.38441 &   130.82317 & ⋯ &   161.62703 &   107.11325 &   140.10738 &   137.25976 &   114.90099 &   164.23701 &   152.94865 &   126.45722 &   171.14841 &   141.38982\\\\\n",
       "\t15 & SEPT11        &  1906.08224 &  1562.32753 &  1942.90629 &  1892.42676 &  1721.95816 &  1126.21032 &  1776.09189 &  1784.36458 &  1819.78496 & ⋯ &  1875.01951 &  1797.40917 &  2097.27379 &  1926.15282 &  1904.50188 &  1896.74273 &  1392.79831 &  1129.75966 &  2068.73821 &  1346.13901\\\\\n",
       "\t16 & PKP4          &   337.04942 &   365.39823 &   311.70379 &   435.72008 &   339.62828 &   366.79385 &   223.26142 &   223.97749 &   264.25319 & ⋯ &   262.06160 &   283.66532 &   310.63668 &   323.51874 &   321.58506 &   179.87510 &   238.18568 &   169.70571 &   330.59934 &   224.33991\\\\\n",
       "\t17 & RYR2          &  1768.11308 &  1971.75077 &  1335.73841 &  1512.64058 &  1564.86389 &  2402.36677 &  1515.58687 &  1364.19632 &  1620.37570 & ⋯ &  1806.45651 &  1363.62145 &  1325.89722 &  1703.11456 &  1701.70130 &  1460.71920 &  1373.95495 &  1316.57279 &  1569.69648 &  1218.38867\\\\\n",
       "\t18 & PTPRK         &    96.13215 &    55.53224 &   126.98721 &    37.60490 &    91.26286 &    69.00173 &    90.64721 &    69.32537 &    54.71727 & ⋯ &    80.11634 &    94.62571 &    48.75582 &    72.56540 &   130.22648 &    92.59033 &    64.41619 &   125.93495 &    62.36007 &    96.67608\\\\\n",
       "\t19 & CAMKV         &  3158.82341 &  2680.40900 &  1985.67396 &  3428.31040 &  2263.39686 &  3039.36610 &  2343.28669 &  2639.24023 &  3149.70405 & ⋯ &  2969.86342 &  2499.57163 &  2426.47203 &  3419.06123 &  2917.25054 &  2801.57424 &  2516.73623 &  2633.27726 &  3562.53047 &  2716.31824\\\\\n",
       "\t20 & BCR           &   275.06173 &   271.26194 &   272.08336 &   277.46228 &   206.01317 &   364.20165 &   261.50151 &   240.79399 &   226.90050 & ⋯ &   338.19358 &   216.95237 &   238.98965 &   304.87661 &   309.96353 &   244.60385 &   211.79801 &   250.24701 &   279.15964 &   255.12209\\\\\n",
       "\t21 & NDUFV2        &  2697.05149 &  2154.48898 &  4350.94747 &  1720.88481 &  1972.02665 &  1776.99442 &  1697.51442 &  2053.71573 &  2013.22807 & ⋯ &  2483.42244 &  1997.27333 &  2442.74184 &  2151.51965 &  1762.12458 &  2211.98624 &  2391.84040 &  1841.78407 &  1981.93759 &  2221.17412\\\\\n",
       "\t22 & IDH3B         &   789.47049 &   949.84805 &  1189.77244 &  1131.09953 &  1257.66093 &   790.49521 &  1153.38551 &  1034.66800 &  1253.41534 & ⋯ &   989.91466 &   973.51222 &  1331.73601 &   995.61509 &   965.64023 &   981.76879 &  1210.43024 &  1234.96865 &   975.34282 &   973.13334\\\\\n",
       "\t23 & FMNL2         &   358.51257 &   470.01068 &   467.71437 &   392.49422 &   746.70880 &   541.07100 &   544.37136 &   564.06847 &   336.61802 & ⋯ &   520.43825 &   712.79039 &   505.56247 &   413.17870 &   617.09886 &   556.83323 &   501.10169 &   450.11418 &   416.92213 &   552.46070\\\\\n",
       "\t24 & SYT12         &  1347.40137 &  1289.28355 &  1134.94910 &   602.64228 &   441.08296 &  1456.45571 &   533.26565 &   549.42687 &  1042.83529 & ⋯ &   747.68836 &   630.28826 &   784.87209 &   657.88134 &   514.82543 &   670.35515 &  1124.62855 &   663.40806 &   989.08030 &   582.24181\\\\\n",
       "\t25 & GRHPR         &   140.78761 &   220.68721 &   498.30787 &   332.40037 &   572.76199 &    94.52390 &   584.31267 &   557.72113 &   210.88116 & ⋯ &   327.84410 &   460.66877 &   387.38761 &   266.78688 &   247.85780 &   407.30635 &   589.92086 &   517.62409 &   241.66586 &   651.76991\\\\\n",
       "\t26 & CSE1L         & 20076.39270 & 21394.05450 & 25614.94780 & 18009.92414 & 32391.73897 & 23936.62803 & 30269.04082 & 25758.39257 & 20466.99688 & ⋯ & 28463.91980 & 31540.49788 & 23977.46984 & 21606.71425 & 29366.84042 & 29204.85006 &  7367.18777 & 10214.42718 & 17863.71787 & 13544.08644\\\\\n",
       "\t27 & DNAJC6        &  2330.57226 &  2157.76167 &  2060.25796 &  2181.53237 &  1624.33018 &  2497.42617 &  1593.58452 &  1647.36504 &  2397.09261 & ⋯ &  2232.26690 &  1963.81456 &  2166.15253 &  2068.86953 &  2011.97768 &  2121.82046 &  2261.53011 &  2132.47581 &  2255.45426 &  2098.58135\\\\\n",
       "\t28 & DUSP3         &   546.60163 &   830.79981 &  1177.57891 &  1119.23253 &  1024.66376 &   387.35284 &   942.79550 &   820.96329 &  1174.47842 & ⋯ &  1200.33511 &  1027.32980 &  1111.17985 &   509.86104 &   987.44403 &  1151.33715 &  1118.08486 &  1010.96195 &   679.69132 &   911.14807\\\\\n",
       "\t29 & VDAC3         & 17834.79847 & 18057.97378 & 17550.03212 & 14590.44389 & 12841.31074 & 17192.90139 & 14085.85484 & 13446.76350 & 18114.56670 & ⋯ & 18992.83025 & 14873.77619 & 15799.80990 & 17354.70356 & 15536.13257 & 16917.24820 & 14653.42833 & 14099.65346 & 17873.88529 & 13269.31067\\\\\n",
       "\t31 & PITPNM3       &   102.99731 &   166.70616 &   154.48666 &   169.15021 &    71.35628 &   134.72583 &    81.23354 &   125.61356 &   149.80167 & ⋯ &   117.41667 &    95.79831 &    99.84140 &   101.36388 &   101.91946 &    90.83775 &   123.98918 &    92.92531 &   147.25619 &   122.15082\\\\\n",
       "\t33 & SRPK2         &    87.08684 &    83.31784 &    89.65762 &    71.02852 &    67.75679 &    78.04759 &    59.40742 &    83.08460 &    78.86461 & ⋯ &    59.08290 &    69.03947 &    83.41666 &    62.88887 &    60.51851 &    82.36228 &    82.06934 &    90.36131 &    79.74562 &    74.00142\\\\\n",
       "\t34 & AP2A1         & 11983.49310 & 10685.73287 &  7890.83625 & 10065.91827 &  7827.00889 & 12767.51131 &  7897.75691 &  8443.87131 & 11248.57694 & ⋯ & 10042.27867 &  9052.42253 &  9893.07105 & 11645.51408 &  9294.26569 &  9889.37404 & 10258.98197 &  9805.11403 & 10723.82450 & 10177.06788\\\\\n",
       "\t35 & RCN1          &    58.76281 &    41.35719 &    57.66257 &    49.54126 &    44.25458 &    34.59118 &    74.34772 &    40.92395 &    52.60008 & ⋯ &    88.17278 &    43.85331 &    71.48368 &    61.93211 &    55.05996 &    79.59924 &    98.01541 &    71.11574 &    79.86997 &    98.82962\\\\\n",
       "\t⋮ & ⋮ & ⋮ & ⋮ & ⋮ & ⋮ & ⋮ & ⋮ & ⋮ & ⋮ & ⋮ & ⋱ & ⋮ & ⋮ & ⋮ & ⋮ & ⋮ & ⋮ & ⋮ & ⋮ & ⋮ & ⋮\\\\\n",
       "\t4758 & KLC1;KLC2;KLC4                     &   216.16034 &    81.42871 &    60.660126 &   110.33797 &   145.81803 &   143.34139 &   100.058995 &   116.68921 &   137.52070 & ⋯ &    96.66541 &   102.241862 &    83.76828 &    75.21234 &    94.98581 &    77.14257 &    42.983891 &    25.90618 &   101.18740 &    43.17907\\\\\n",
       "\t4759 & TM9SF3                             &    56.54726 &    25.24440 &     3.914434 &    16.98862 &    48.94318 &    15.64584 &    27.899557 &    25.24162 &    24.11220 & ⋯ &    29.02346 &    34.507870 &    38.05774 &    34.98546 &    39.61851 &    33.00929 &    40.245741 &    30.52803 &    31.29675 &    34.78107\\\\\n",
       "\t4761 & PLEKHA6                            &    18.34902 &    19.10453 &    20.154307 &    23.74623 &    13.45635 &    27.16344 &    17.876217 &    26.60670 &    12.57684 & ⋯ &    10.71388 &    17.450905 &    20.19081 &    23.90907 &    21.64301 &    21.28424 &     7.159314 &    11.65796 &    19.65614 &    19.65989\\\\\n",
       "\t4762 & KCTD12;KCTD16                      &   874.55376 &   852.92032 &   736.164906 &  1035.38771 &   590.88579 &   813.79584 &   793.703545 &   805.91144 &   904.06549 & ⋯ &   936.44136 &   719.595017 &   859.95591 &  1012.85754 &   821.21906 &   840.84291 &   760.150195 &   889.54193 &   810.27840 &  1035.57138\\\\\n",
       "\t4764 & SLC16A7                            &    17.77719 &    55.38960 &    38.224640 &    24.22903 &    11.60774 &    28.13527 &    18.287183 &    30.24788 &    39.84080 & ⋯ &     6.35354 &     8.927504 &    16.13988 &    25.96853 &    18.83417 &    24.09176 &    48.044534 &    37.34120 &    24.67981 &    20.16108\\\\\n",
       "\t4766 & PPP3CA;PPP3CB;PPP3CC               &  2868.60823 &  3319.25104 &  4273.299296 &  3816.76975 &  1877.62488 &   990.09828 &  2501.007543 &  3171.34720 &  3839.18986 & ⋯ &  4233.23782 &  2251.997837 &  2188.95769 &  2955.40641 &  3316.46924 &  3210.19344 &  5369.912865 &  4851.42238 &  4353.61948 &  4942.35228\\\\\n",
       "\t4768 & EHD3;EHD4                          &   374.00680 &   368.46413 &   323.260941 &   209.11086 &   272.41957 &   431.83278 &   316.186153 &   305.76610 &   472.64509 & ⋯ &   347.25412 &   345.974893 &   301.92187 &   457.62326 &   389.65367 &   447.34936 &   430.048672 &   420.59726 &   414.19800 &   388.78268\\\\\n",
       "\t4769 & PEX14                              &    34.72123 &    65.67522 &    76.695354 &    49.88404 &    14.84781 &    32.84006 &    21.047438 &    60.46507 &    54.49397 & ⋯ &    39.09009 &    29.462436 &    14.29512 &    20.42446 &    22.88304 &    31.25208 &    59.400252 &    53.88289 &    60.46053 &    51.60360\\\\\n",
       "\t4772 & TUBB;TUBB4A;TUBB4B                 & 62768.18872 & 58050.53066 & 61816.093017 & 48939.96829 & 46172.23031 & 64525.50116 & 53087.321965 & 44844.78821 & 60509.99137 & ⋯ & 78207.91147 & 76761.433827 & 68442.60870 & 82223.22887 & 88640.30841 & 88969.78432 & 76382.499944 & 93714.07777 & 86748.45372 & 78130.67059\\\\\n",
       "\t4773 & TUBA1A;TUBA1B;TUBA1C;TUBA4A;TUBAL3 & 10001.43856 &  1801.15282 &   169.368351 &  4035.06493 &  6172.21721 &  2885.02059 &  3682.349634 &  3638.89086 &  6452.12613 & ⋯ &  4185.28667 &  4968.308306 &  4525.92550 &  4061.29555 &  4643.57065 &  3555.29439 &  1815.573359 &  1044.47103 &  5413.36161 &  1599.87212\\\\\n",
       "\t4777 & PTPRD;PTPRF                        &    56.68148 &    46.16820 &    55.328797 &    40.84120 &    44.39055 &    64.32828 &    40.093780 &    40.65706 &    46.37370 & ⋯ &    47.90000 &    34.976188 &    34.27414 &    41.69617 &    37.34074 &    45.15722 &    23.270882 &    12.42309 &    54.76745 &    18.77311\\\\\n",
       "\t4779 & H1F0                               &    35.52444 &    72.60005 &    54.195824 &    53.88195 &   198.34128 &    55.89123 &   143.847383 &    79.44331 &    53.29782 & ⋯ &   171.94018 &   124.321508 &    98.17444 &    84.89860 &   147.14489 &   116.79473 &   125.112004 &   172.55529 &   131.21527 &   254.63077\\\\\n",
       "\t4782 & FAM210A                            &   103.40813 &    89.49845 &    81.969615 &    63.26030 &    44.43590 &    95.15640 &    52.204464 &    59.25372 &    73.19240 & ⋯ &    76.86124 &    60.339445 &    69.53595 &    65.25712 &    57.19815 &    70.91829 &    56.722174 &    55.21940 &    78.32464 &    56.82053\\\\\n",
       "\t4786 & EPB41;EPB41L1;EPB41L3              &   906.50345 &   545.29855 &   485.702344 &   701.33762 &   773.85509 &   669.68830 &   720.971641 &   831.20482 &  1191.21394 & ⋯ &  1067.59321 &  1154.424820 &   852.72927 &  1062.20402 &  1476.19288 &  1539.40003 &  1355.147483 &  1112.23684 &  1701.61568 &  1328.91314\\\\\n",
       "\t4788 & PABPN1                             &    64.56487 &    92.47213 &    95.128724 &    29.59496 &    67.25413 &    47.15222 &    80.385546 &    66.77388 &    54.93410 & ⋯ &    58.03835 &    68.755950 &    67.49455 &    75.77816 &    50.35426 &    75.13077 &    69.558404 &    85.19130 &    78.29586 &    85.87782\\\\\n",
       "\t4791 & KCND2;KCND3                        &   102.21511 &    60.29311 &    49.325050 &    60.68333 &    71.68276 &    84.21218 &    55.131636 &    56.73816 &    71.80532 & ⋯ &    77.82722 &    78.201003 &    68.46645 &    86.31211 &    71.68179 &    74.05749 &    48.879016 &    45.93482 &    69.35005 &    34.30306\\\\\n",
       "\t4792 & JMJD7;PLA2G4B                      &    30.81992 &    39.00171 &    33.241943 &    51.93361 &    48.33491 &    22.22962 &    53.671141 &    54.31205 &    59.32425 & ⋯ &    43.14729 &    54.844574 &    51.39434 &    37.02016 &    25.97695 &    50.77305 &    23.232100 &    76.35774 &    43.72344 &    90.23540\\\\\n",
       "\t4795 & U2AF1;U2AF1L4;U2AF1L5              &    43.60532 &    40.65818 &    41.749822 &    35.35361 &    49.20362 &    40.50421 &    54.603400 &    42.23173 &    44.13485 & ⋯ &    50.48158 &    44.705622 &    47.09661 &    39.29596 &    38.47454 &    45.42576 &    34.114154 &    34.81661 &    38.61068 &    31.93292\\\\\n",
       "\t4799 & ATP6V1G1;ATP6V1G2                  &   240.19773 &   105.76147 &   186.439077 &    92.55407 &   106.47903 &   158.26922 &    63.840785 &    94.70392 &   118.05221 & ⋯ &    90.93723 &    63.174032 &    79.28208 &    88.67332 &    88.11349 &    69.51750 &    73.433352 &    65.40213 &   100.54053 &   107.44218\\\\\n",
       "\t4800 & ATP5J2;ATP5MF                      &   136.74496 &   110.17608 &    42.095159 &    54.93447 &   133.89128 &   107.43955 &     3.867245 &    94.01394 &   127.02001 & ⋯ &   102.51971 &   141.564573 &   148.31024 &   131.41429 &    55.80040 &   103.55184 &   185.368073 &   151.95125 &   171.03806 &   226.20652\\\\\n",
       "\t4802 & ACTB                               &   171.97973 &   102.83089 &    48.356351 &   125.02589 &   143.31593 &   117.64489 &   134.950005 &   104.85303 &   109.40300 & ⋯ &    71.78043 &   106.661146 &   103.40263 &   132.89694 &   109.56536 &   106.93676 &   122.909060 &   116.49712 &   125.06371 &   151.20023\\\\\n",
       "\t4803 & ACTG1                              &   229.91953 &   149.37702 &    62.255384 &   164.89106 &   167.97006 &   104.35544 &   177.161118 &   143.41467 &   145.53764 & ⋯ &    83.32112 &   133.599475 &   103.65948 &   135.42950 &   103.57304 &   107.93333 &   144.040028 &   102.65721 &   123.33541 &   175.52978\\\\\n",
       "\t4804 & CHMP1A                             &    33.53112 &    37.20176 &    38.010692 &    22.50076 &    12.61949 &    43.27871 &    14.586035 &    22.90596 &    32.36811 & ⋯ &    24.85275 &    32.273675 &    10.66484 &    23.73343 &    21.40087 &    24.44672 &    32.474943 &    28.84260 &    29.70283 &    24.46553\\\\\n",
       "\t4805 & MTURN                              &    35.17110 &    39.33631 &    40.613760 &    60.12420 &    62.11357 &    26.24305 &    64.250598 &    51.28072 &    58.86401 & ⋯ &    50.01676 &    59.006061 &    58.07628 &    31.52005 &    47.76836 &    47.82806 &    38.892645 &    54.96380 &    47.80332 &    42.62395\\\\\n",
       "\t4820 & PTMA                               &   120.06536 &    56.58146 &   186.382636 &    58.97763 &   108.37290 &    40.57689 &    93.483229 &   219.07845 &    79.26335 & ⋯ &    69.89553 &    96.536804 &    65.37258 &    73.12520 &    98.32459 &   203.21890 &   295.284804 &   235.91354 &   172.82885 &   360.35583\\\\\n",
       "\t4821 & HIST1H1C                           &    68.69914 &   156.93434 &   101.711110 &    87.09051 &   258.06085 &    80.70963 &   239.984644 &   253.88674 &    94.74115 & ⋯ &   170.94172 &   254.739105 &   119.50522 &   119.89265 &   246.41720 &   216.42105 &   452.858557 &   396.08204 &   120.66592 &    98.08703\\\\\n",
       "\t4822 & HIST1H1D;HIST1H1E                  &   576.64952 &  1141.05708 &  1094.788868 &   638.54204 &  1676.11186 &   753.53817 &  1519.286448 &  1340.21806 &   740.69488 & ⋯ &  1292.81878 &  1694.103200 &  1284.79120 &   960.62624 &  2159.04163 &  1541.43352 &   542.756945 &   472.66687 &  1126.40833 &   958.26245\\\\\n",
       "\t4825 & CDIP1                              &    60.61889 &    74.00469 &    68.971560 &    51.67504 &    51.26438 &   102.51686 &    79.183914 &    54.69930 &    64.54438 & ⋯ &    59.38591 &    62.098145 &    57.87191 &    98.74187 &    54.39642 &    44.65669 &    73.187073 &    78.87554 &    78.61882 &    83.59697\\\\\n",
       "\t4827 & LSM8                               &    50.09336 &    33.94317 &    69.112695 &    44.16863 &    64.60669 &    25.24368 &    58.293556 &    60.78698 &    48.72469 & ⋯ &    54.06854 &    55.294221 &    46.28664 &    46.44952 &    52.71434 &    57.20741 &    45.816914 &    39.42721 &    44.77698 &    57.29603\\\\\n",
       "\t4828 & LAMTOR4                            &    68.45759 &    56.51558 &   120.171671 &    81.15357 &   100.99627 &    73.21581 &   127.885838 &   129.93762 &    77.24328 & ⋯ &   108.74447 &   111.435808 &   115.36710 &    95.98967 &   136.87488 &    98.86712 &   115.173852 &   101.91294 &   103.74489 &   126.55149\\\\\n",
       "\\end{tabular}\n"
      ],
      "text/markdown": [
       "\n",
       "A data.frame: 3448 × 191\n",
       "\n",
       "| <!--/--> | protein &lt;fct&gt; | intensity_20190325_121_S16_020_CHC_011 &lt;dbl&gt; | intensity_20190325_125_S16_044_CHC_007 &lt;dbl&gt; | intensity_20190325_127_S16_094_CHC_004 &lt;dbl&gt; | intensity_20190325_16_04_037_AD_008 &lt;dbl&gt; | intensity_20190325_183_S10_292_AD_010 &lt;dbl&gt; | intensity_20190325_194_S02_055_ND_005 &lt;dbl&gt; | intensity_20190325_31_01_184_AD_006 &lt;dbl&gt; | intensity_20190325_57_S97_235_AD_003 &lt;dbl&gt; | intensity_20190325_77_S11_072_ND_012 &lt;dbl&gt; | ⋯ ⋯ | intensity_20190507_21_01_032_AD_221 &lt;dbl&gt; | intensity_20190507_27_00_204_AD_211 &lt;dbl&gt; | intensity_20190507_29_S99_240_AD_219 &lt;dbl&gt; | intensity_20190507_30_S05_040_AD_209 &lt;dbl&gt; | intensity_20190507_63_04_027_AD_217 &lt;dbl&gt; | intensity_20190507_72_S99_219_AD_213 &lt;dbl&gt; | intensity_20190606_106_NABCA14_08_ND_RERUN &lt;dbl&gt; | intensity_20190606_140_2017_027_CHC_RERUN &lt;dbl&gt; | intensity_20190606_20_S00_166_AD_RERUN &lt;dbl&gt; | intensity_20190606_9_S93_025_AD_RERUN &lt;dbl&gt; |\n",
       "|---|---|---|---|---|---|---|---|---|---|---|---|---|---|---|---|---|---|---|---|---|---|\n",
       "| 1 | SLC12A2       |   836.80987 |   881.06951 |   780.98996 |   701.68957 |  1245.36392 |  1264.51784 |   795.12072 |   810.26815 |   729.90767 | ⋯ |   917.08439 |   851.88556 |   796.88906 |   663.22765 |   941.54816 |   932.08231 |  1052.79254 |   917.45960 |   813.67832 |   865.75086 |\n",
       "| 2 | CASKIN1       |  1344.34121 |  1049.89367 |   951.79843 |   904.19465 |   651.40811 |  1497.91167 |   667.30437 |   865.30500 |  1022.58727 | ⋯ |   753.06675 |   692.13651 |   507.57334 |  1103.08975 |   693.45142 |   874.55879 |   900.35601 |   786.30930 |  1033.71160 |   805.19428 |\n",
       "| 4 | GNG2          |   563.31659 |   208.31086 |   350.94199 |   232.02806 |   210.62083 |   242.26756 |   161.09872 |   218.97718 |   377.72039 | ⋯ |   183.91086 |   133.00780 |   153.79479 |   229.45112 |   256.21317 |   195.04436 |   164.62043 |   179.79677 |   190.60729 |   213.85196 |\n",
       "| 5 | CARNS1        |    33.40392 |    75.57282 |    98.33277 |    23.09145 |   307.11463 |   101.08390 |    99.64686 |   112.03207 |    42.20178 | ⋯ |    55.58988 |   164.73288 |    49.12562 |    29.13836 |   139.90373 |    53.68109 |    93.04210 |   134.53807 |   104.82207 |   119.33094 |\n",
       "| 6 | FH            |  3326.60924 |  4564.59875 |  5238.09499 |  3906.98843 |  3662.44502 |  2009.79815 |  4318.91514 |  4116.81168 |  3991.92090 | ⋯ |  5109.84351 |  3684.03726 |  4991.14490 |  3601.41144 |  3848.70803 |  4560.84202 |  4917.91263 |  4758.63636 |  4190.09930 |  5038.00332 |\n",
       "| 7 | EFHD2         |   508.48022 |   571.96033 |  1722.07907 |   406.67353 |   543.35073 |   303.94769 |   783.93013 |  1165.80121 |   602.14280 | ⋯ |   712.87081 |   802.54044 |   890.61294 |   375.67400 |   657.88005 |  1211.05592 |  1528.88668 |  1777.48636 |   945.07368 |  1577.98572 |\n",
       "| 9 | PCLO          |  2369.33932 |  1029.75211 |   954.52388 |  1652.92346 |  1520.51650 |  2583.51659 |  1804.85497 |  1677.07029 |  2357.03278 | ⋯ |  2564.36720 |  1907.63409 |  2410.77471 |  2943.85799 |   831.38952 |  2446.47573 |  3547.34325 |  3332.46509 |  2784.91200 |  3311.11634 |\n",
       "| 10 | HSPA1A;HSPA1B |  7124.78872 |  6129.39109 |  7834.88395 |  6527.18995 | 11445.45274 |  5029.23535 |  9876.28243 | 10660.13041 |  5758.54005 | ⋯ |  7159.83303 | 10712.43211 | 10114.79332 |  7628.30538 |  6270.58343 | 10350.33344 |  8784.79637 |  8276.78113 |  8458.72235 | 10499.10328 |\n",
       "| 11 | STIP1         |  1028.55835 |   767.89888 |  2651.63959 |   988.76516 |  1302.06611 |   334.72548 |  1739.11160 |  2405.02599 |   774.17336 | ⋯ |  1464.82937 |  1376.75255 |  1398.01876 |  1322.92881 |  1183.51846 |  1722.29743 |  2017.77206 |  1685.91565 |  1494.30325 |  2335.50754 |\n",
       "| 12 | CTNND1        |   663.97118 |   435.31397 |   452.43910 |   397.16527 |   477.16544 |   668.63766 |   484.34126 |   426.80625 |   387.34155 | ⋯ |   467.00321 |   547.09277 |   396.58842 |   501.19195 |   485.35993 |   462.42575 |   472.56836 |   413.31748 |   437.44125 |   406.05513 |\n",
       "| 13 | INPP5A        |   123.46592 |   135.82106 |   172.17346 |    93.27368 |   102.81152 |   122.94388 |   127.57161 |   119.38441 |   130.82317 | ⋯ |   161.62703 |   107.11325 |   140.10738 |   137.25976 |   114.90099 |   164.23701 |   152.94865 |   126.45722 |   171.14841 |   141.38982 |\n",
       "| 15 | SEPT11        |  1906.08224 |  1562.32753 |  1942.90629 |  1892.42676 |  1721.95816 |  1126.21032 |  1776.09189 |  1784.36458 |  1819.78496 | ⋯ |  1875.01951 |  1797.40917 |  2097.27379 |  1926.15282 |  1904.50188 |  1896.74273 |  1392.79831 |  1129.75966 |  2068.73821 |  1346.13901 |\n",
       "| 16 | PKP4          |   337.04942 |   365.39823 |   311.70379 |   435.72008 |   339.62828 |   366.79385 |   223.26142 |   223.97749 |   264.25319 | ⋯ |   262.06160 |   283.66532 |   310.63668 |   323.51874 |   321.58506 |   179.87510 |   238.18568 |   169.70571 |   330.59934 |   224.33991 |\n",
       "| 17 | RYR2          |  1768.11308 |  1971.75077 |  1335.73841 |  1512.64058 |  1564.86389 |  2402.36677 |  1515.58687 |  1364.19632 |  1620.37570 | ⋯ |  1806.45651 |  1363.62145 |  1325.89722 |  1703.11456 |  1701.70130 |  1460.71920 |  1373.95495 |  1316.57279 |  1569.69648 |  1218.38867 |\n",
       "| 18 | PTPRK         |    96.13215 |    55.53224 |   126.98721 |    37.60490 |    91.26286 |    69.00173 |    90.64721 |    69.32537 |    54.71727 | ⋯ |    80.11634 |    94.62571 |    48.75582 |    72.56540 |   130.22648 |    92.59033 |    64.41619 |   125.93495 |    62.36007 |    96.67608 |\n",
       "| 19 | CAMKV         |  3158.82341 |  2680.40900 |  1985.67396 |  3428.31040 |  2263.39686 |  3039.36610 |  2343.28669 |  2639.24023 |  3149.70405 | ⋯ |  2969.86342 |  2499.57163 |  2426.47203 |  3419.06123 |  2917.25054 |  2801.57424 |  2516.73623 |  2633.27726 |  3562.53047 |  2716.31824 |\n",
       "| 20 | BCR           |   275.06173 |   271.26194 |   272.08336 |   277.46228 |   206.01317 |   364.20165 |   261.50151 |   240.79399 |   226.90050 | ⋯ |   338.19358 |   216.95237 |   238.98965 |   304.87661 |   309.96353 |   244.60385 |   211.79801 |   250.24701 |   279.15964 |   255.12209 |\n",
       "| 21 | NDUFV2        |  2697.05149 |  2154.48898 |  4350.94747 |  1720.88481 |  1972.02665 |  1776.99442 |  1697.51442 |  2053.71573 |  2013.22807 | ⋯ |  2483.42244 |  1997.27333 |  2442.74184 |  2151.51965 |  1762.12458 |  2211.98624 |  2391.84040 |  1841.78407 |  1981.93759 |  2221.17412 |\n",
       "| 22 | IDH3B         |   789.47049 |   949.84805 |  1189.77244 |  1131.09953 |  1257.66093 |   790.49521 |  1153.38551 |  1034.66800 |  1253.41534 | ⋯ |   989.91466 |   973.51222 |  1331.73601 |   995.61509 |   965.64023 |   981.76879 |  1210.43024 |  1234.96865 |   975.34282 |   973.13334 |\n",
       "| 23 | FMNL2         |   358.51257 |   470.01068 |   467.71437 |   392.49422 |   746.70880 |   541.07100 |   544.37136 |   564.06847 |   336.61802 | ⋯ |   520.43825 |   712.79039 |   505.56247 |   413.17870 |   617.09886 |   556.83323 |   501.10169 |   450.11418 |   416.92213 |   552.46070 |\n",
       "| 24 | SYT12         |  1347.40137 |  1289.28355 |  1134.94910 |   602.64228 |   441.08296 |  1456.45571 |   533.26565 |   549.42687 |  1042.83529 | ⋯ |   747.68836 |   630.28826 |   784.87209 |   657.88134 |   514.82543 |   670.35515 |  1124.62855 |   663.40806 |   989.08030 |   582.24181 |\n",
       "| 25 | GRHPR         |   140.78761 |   220.68721 |   498.30787 |   332.40037 |   572.76199 |    94.52390 |   584.31267 |   557.72113 |   210.88116 | ⋯ |   327.84410 |   460.66877 |   387.38761 |   266.78688 |   247.85780 |   407.30635 |   589.92086 |   517.62409 |   241.66586 |   651.76991 |\n",
       "| 26 | CSE1L         | 20076.39270 | 21394.05450 | 25614.94780 | 18009.92414 | 32391.73897 | 23936.62803 | 30269.04082 | 25758.39257 | 20466.99688 | ⋯ | 28463.91980 | 31540.49788 | 23977.46984 | 21606.71425 | 29366.84042 | 29204.85006 |  7367.18777 | 10214.42718 | 17863.71787 | 13544.08644 |\n",
       "| 27 | DNAJC6        |  2330.57226 |  2157.76167 |  2060.25796 |  2181.53237 |  1624.33018 |  2497.42617 |  1593.58452 |  1647.36504 |  2397.09261 | ⋯ |  2232.26690 |  1963.81456 |  2166.15253 |  2068.86953 |  2011.97768 |  2121.82046 |  2261.53011 |  2132.47581 |  2255.45426 |  2098.58135 |\n",
       "| 28 | DUSP3         |   546.60163 |   830.79981 |  1177.57891 |  1119.23253 |  1024.66376 |   387.35284 |   942.79550 |   820.96329 |  1174.47842 | ⋯ |  1200.33511 |  1027.32980 |  1111.17985 |   509.86104 |   987.44403 |  1151.33715 |  1118.08486 |  1010.96195 |   679.69132 |   911.14807 |\n",
       "| 29 | VDAC3         | 17834.79847 | 18057.97378 | 17550.03212 | 14590.44389 | 12841.31074 | 17192.90139 | 14085.85484 | 13446.76350 | 18114.56670 | ⋯ | 18992.83025 | 14873.77619 | 15799.80990 | 17354.70356 | 15536.13257 | 16917.24820 | 14653.42833 | 14099.65346 | 17873.88529 | 13269.31067 |\n",
       "| 31 | PITPNM3       |   102.99731 |   166.70616 |   154.48666 |   169.15021 |    71.35628 |   134.72583 |    81.23354 |   125.61356 |   149.80167 | ⋯ |   117.41667 |    95.79831 |    99.84140 |   101.36388 |   101.91946 |    90.83775 |   123.98918 |    92.92531 |   147.25619 |   122.15082 |\n",
       "| 33 | SRPK2         |    87.08684 |    83.31784 |    89.65762 |    71.02852 |    67.75679 |    78.04759 |    59.40742 |    83.08460 |    78.86461 | ⋯ |    59.08290 |    69.03947 |    83.41666 |    62.88887 |    60.51851 |    82.36228 |    82.06934 |    90.36131 |    79.74562 |    74.00142 |\n",
       "| 34 | AP2A1         | 11983.49310 | 10685.73287 |  7890.83625 | 10065.91827 |  7827.00889 | 12767.51131 |  7897.75691 |  8443.87131 | 11248.57694 | ⋯ | 10042.27867 |  9052.42253 |  9893.07105 | 11645.51408 |  9294.26569 |  9889.37404 | 10258.98197 |  9805.11403 | 10723.82450 | 10177.06788 |\n",
       "| 35 | RCN1          |    58.76281 |    41.35719 |    57.66257 |    49.54126 |    44.25458 |    34.59118 |    74.34772 |    40.92395 |    52.60008 | ⋯ |    88.17278 |    43.85331 |    71.48368 |    61.93211 |    55.05996 |    79.59924 |    98.01541 |    71.11574 |    79.86997 |    98.82962 |\n",
       "| ⋮ | ⋮ | ⋮ | ⋮ | ⋮ | ⋮ | ⋮ | ⋮ | ⋮ | ⋮ | ⋮ | ⋱ | ⋮ | ⋮ | ⋮ | ⋮ | ⋮ | ⋮ | ⋮ | ⋮ | ⋮ | ⋮ |\n",
       "| 4758 | KLC1;KLC2;KLC4                     |   216.16034 |    81.42871 |    60.660126 |   110.33797 |   145.81803 |   143.34139 |   100.058995 |   116.68921 |   137.52070 | ⋯ |    96.66541 |   102.241862 |    83.76828 |    75.21234 |    94.98581 |    77.14257 |    42.983891 |    25.90618 |   101.18740 |    43.17907 |\n",
       "| 4759 | TM9SF3                             |    56.54726 |    25.24440 |     3.914434 |    16.98862 |    48.94318 |    15.64584 |    27.899557 |    25.24162 |    24.11220 | ⋯ |    29.02346 |    34.507870 |    38.05774 |    34.98546 |    39.61851 |    33.00929 |    40.245741 |    30.52803 |    31.29675 |    34.78107 |\n",
       "| 4761 | PLEKHA6                            |    18.34902 |    19.10453 |    20.154307 |    23.74623 |    13.45635 |    27.16344 |    17.876217 |    26.60670 |    12.57684 | ⋯ |    10.71388 |    17.450905 |    20.19081 |    23.90907 |    21.64301 |    21.28424 |     7.159314 |    11.65796 |    19.65614 |    19.65989 |\n",
       "| 4762 | KCTD12;KCTD16                      |   874.55376 |   852.92032 |   736.164906 |  1035.38771 |   590.88579 |   813.79584 |   793.703545 |   805.91144 |   904.06549 | ⋯ |   936.44136 |   719.595017 |   859.95591 |  1012.85754 |   821.21906 |   840.84291 |   760.150195 |   889.54193 |   810.27840 |  1035.57138 |\n",
       "| 4764 | SLC16A7                            |    17.77719 |    55.38960 |    38.224640 |    24.22903 |    11.60774 |    28.13527 |    18.287183 |    30.24788 |    39.84080 | ⋯ |     6.35354 |     8.927504 |    16.13988 |    25.96853 |    18.83417 |    24.09176 |    48.044534 |    37.34120 |    24.67981 |    20.16108 |\n",
       "| 4766 | PPP3CA;PPP3CB;PPP3CC               |  2868.60823 |  3319.25104 |  4273.299296 |  3816.76975 |  1877.62488 |   990.09828 |  2501.007543 |  3171.34720 |  3839.18986 | ⋯ |  4233.23782 |  2251.997837 |  2188.95769 |  2955.40641 |  3316.46924 |  3210.19344 |  5369.912865 |  4851.42238 |  4353.61948 |  4942.35228 |\n",
       "| 4768 | EHD3;EHD4                          |   374.00680 |   368.46413 |   323.260941 |   209.11086 |   272.41957 |   431.83278 |   316.186153 |   305.76610 |   472.64509 | ⋯ |   347.25412 |   345.974893 |   301.92187 |   457.62326 |   389.65367 |   447.34936 |   430.048672 |   420.59726 |   414.19800 |   388.78268 |\n",
       "| 4769 | PEX14                              |    34.72123 |    65.67522 |    76.695354 |    49.88404 |    14.84781 |    32.84006 |    21.047438 |    60.46507 |    54.49397 | ⋯ |    39.09009 |    29.462436 |    14.29512 |    20.42446 |    22.88304 |    31.25208 |    59.400252 |    53.88289 |    60.46053 |    51.60360 |\n",
       "| 4772 | TUBB;TUBB4A;TUBB4B                 | 62768.18872 | 58050.53066 | 61816.093017 | 48939.96829 | 46172.23031 | 64525.50116 | 53087.321965 | 44844.78821 | 60509.99137 | ⋯ | 78207.91147 | 76761.433827 | 68442.60870 | 82223.22887 | 88640.30841 | 88969.78432 | 76382.499944 | 93714.07777 | 86748.45372 | 78130.67059 |\n",
       "| 4773 | TUBA1A;TUBA1B;TUBA1C;TUBA4A;TUBAL3 | 10001.43856 |  1801.15282 |   169.368351 |  4035.06493 |  6172.21721 |  2885.02059 |  3682.349634 |  3638.89086 |  6452.12613 | ⋯ |  4185.28667 |  4968.308306 |  4525.92550 |  4061.29555 |  4643.57065 |  3555.29439 |  1815.573359 |  1044.47103 |  5413.36161 |  1599.87212 |\n",
       "| 4777 | PTPRD;PTPRF                        |    56.68148 |    46.16820 |    55.328797 |    40.84120 |    44.39055 |    64.32828 |    40.093780 |    40.65706 |    46.37370 | ⋯ |    47.90000 |    34.976188 |    34.27414 |    41.69617 |    37.34074 |    45.15722 |    23.270882 |    12.42309 |    54.76745 |    18.77311 |\n",
       "| 4779 | H1F0                               |    35.52444 |    72.60005 |    54.195824 |    53.88195 |   198.34128 |    55.89123 |   143.847383 |    79.44331 |    53.29782 | ⋯ |   171.94018 |   124.321508 |    98.17444 |    84.89860 |   147.14489 |   116.79473 |   125.112004 |   172.55529 |   131.21527 |   254.63077 |\n",
       "| 4782 | FAM210A                            |   103.40813 |    89.49845 |    81.969615 |    63.26030 |    44.43590 |    95.15640 |    52.204464 |    59.25372 |    73.19240 | ⋯ |    76.86124 |    60.339445 |    69.53595 |    65.25712 |    57.19815 |    70.91829 |    56.722174 |    55.21940 |    78.32464 |    56.82053 |\n",
       "| 4786 | EPB41;EPB41L1;EPB41L3              |   906.50345 |   545.29855 |   485.702344 |   701.33762 |   773.85509 |   669.68830 |   720.971641 |   831.20482 |  1191.21394 | ⋯ |  1067.59321 |  1154.424820 |   852.72927 |  1062.20402 |  1476.19288 |  1539.40003 |  1355.147483 |  1112.23684 |  1701.61568 |  1328.91314 |\n",
       "| 4788 | PABPN1                             |    64.56487 |    92.47213 |    95.128724 |    29.59496 |    67.25413 |    47.15222 |    80.385546 |    66.77388 |    54.93410 | ⋯ |    58.03835 |    68.755950 |    67.49455 |    75.77816 |    50.35426 |    75.13077 |    69.558404 |    85.19130 |    78.29586 |    85.87782 |\n",
       "| 4791 | KCND2;KCND3                        |   102.21511 |    60.29311 |    49.325050 |    60.68333 |    71.68276 |    84.21218 |    55.131636 |    56.73816 |    71.80532 | ⋯ |    77.82722 |    78.201003 |    68.46645 |    86.31211 |    71.68179 |    74.05749 |    48.879016 |    45.93482 |    69.35005 |    34.30306 |\n",
       "| 4792 | JMJD7;PLA2G4B                      |    30.81992 |    39.00171 |    33.241943 |    51.93361 |    48.33491 |    22.22962 |    53.671141 |    54.31205 |    59.32425 | ⋯ |    43.14729 |    54.844574 |    51.39434 |    37.02016 |    25.97695 |    50.77305 |    23.232100 |    76.35774 |    43.72344 |    90.23540 |\n",
       "| 4795 | U2AF1;U2AF1L4;U2AF1L5              |    43.60532 |    40.65818 |    41.749822 |    35.35361 |    49.20362 |    40.50421 |    54.603400 |    42.23173 |    44.13485 | ⋯ |    50.48158 |    44.705622 |    47.09661 |    39.29596 |    38.47454 |    45.42576 |    34.114154 |    34.81661 |    38.61068 |    31.93292 |\n",
       "| 4799 | ATP6V1G1;ATP6V1G2                  |   240.19773 |   105.76147 |   186.439077 |    92.55407 |   106.47903 |   158.26922 |    63.840785 |    94.70392 |   118.05221 | ⋯ |    90.93723 |    63.174032 |    79.28208 |    88.67332 |    88.11349 |    69.51750 |    73.433352 |    65.40213 |   100.54053 |   107.44218 |\n",
       "| 4800 | ATP5J2;ATP5MF                      |   136.74496 |   110.17608 |    42.095159 |    54.93447 |   133.89128 |   107.43955 |     3.867245 |    94.01394 |   127.02001 | ⋯ |   102.51971 |   141.564573 |   148.31024 |   131.41429 |    55.80040 |   103.55184 |   185.368073 |   151.95125 |   171.03806 |   226.20652 |\n",
       "| 4802 | ACTB                               |   171.97973 |   102.83089 |    48.356351 |   125.02589 |   143.31593 |   117.64489 |   134.950005 |   104.85303 |   109.40300 | ⋯ |    71.78043 |   106.661146 |   103.40263 |   132.89694 |   109.56536 |   106.93676 |   122.909060 |   116.49712 |   125.06371 |   151.20023 |\n",
       "| 4803 | ACTG1                              |   229.91953 |   149.37702 |    62.255384 |   164.89106 |   167.97006 |   104.35544 |   177.161118 |   143.41467 |   145.53764 | ⋯ |    83.32112 |   133.599475 |   103.65948 |   135.42950 |   103.57304 |   107.93333 |   144.040028 |   102.65721 |   123.33541 |   175.52978 |\n",
       "| 4804 | CHMP1A                             |    33.53112 |    37.20176 |    38.010692 |    22.50076 |    12.61949 |    43.27871 |    14.586035 |    22.90596 |    32.36811 | ⋯ |    24.85275 |    32.273675 |    10.66484 |    23.73343 |    21.40087 |    24.44672 |    32.474943 |    28.84260 |    29.70283 |    24.46553 |\n",
       "| 4805 | MTURN                              |    35.17110 |    39.33631 |    40.613760 |    60.12420 |    62.11357 |    26.24305 |    64.250598 |    51.28072 |    58.86401 | ⋯ |    50.01676 |    59.006061 |    58.07628 |    31.52005 |    47.76836 |    47.82806 |    38.892645 |    54.96380 |    47.80332 |    42.62395 |\n",
       "| 4820 | PTMA                               |   120.06536 |    56.58146 |   186.382636 |    58.97763 |   108.37290 |    40.57689 |    93.483229 |   219.07845 |    79.26335 | ⋯ |    69.89553 |    96.536804 |    65.37258 |    73.12520 |    98.32459 |   203.21890 |   295.284804 |   235.91354 |   172.82885 |   360.35583 |\n",
       "| 4821 | HIST1H1C                           |    68.69914 |   156.93434 |   101.711110 |    87.09051 |   258.06085 |    80.70963 |   239.984644 |   253.88674 |    94.74115 | ⋯ |   170.94172 |   254.739105 |   119.50522 |   119.89265 |   246.41720 |   216.42105 |   452.858557 |   396.08204 |   120.66592 |    98.08703 |\n",
       "| 4822 | HIST1H1D;HIST1H1E                  |   576.64952 |  1141.05708 |  1094.788868 |   638.54204 |  1676.11186 |   753.53817 |  1519.286448 |  1340.21806 |   740.69488 | ⋯ |  1292.81878 |  1694.103200 |  1284.79120 |   960.62624 |  2159.04163 |  1541.43352 |   542.756945 |   472.66687 |  1126.40833 |   958.26245 |\n",
       "| 4825 | CDIP1                              |    60.61889 |    74.00469 |    68.971560 |    51.67504 |    51.26438 |   102.51686 |    79.183914 |    54.69930 |    64.54438 | ⋯ |    59.38591 |    62.098145 |    57.87191 |    98.74187 |    54.39642 |    44.65669 |    73.187073 |    78.87554 |    78.61882 |    83.59697 |\n",
       "| 4827 | LSM8                               |    50.09336 |    33.94317 |    69.112695 |    44.16863 |    64.60669 |    25.24368 |    58.293556 |    60.78698 |    48.72469 | ⋯ |    54.06854 |    55.294221 |    46.28664 |    46.44952 |    52.71434 |    57.20741 |    45.816914 |    39.42721 |    44.77698 |    57.29603 |\n",
       "| 4828 | LAMTOR4                            |    68.45759 |    56.51558 |   120.171671 |    81.15357 |   100.99627 |    73.21581 |   127.885838 |   129.93762 |    77.24328 | ⋯ |   108.74447 |   111.435808 |   115.36710 |    95.98967 |   136.87488 |    98.86712 |   115.173852 |   101.91294 |   103.74489 |   126.55149 |\n",
       "\n"
      ],
      "text/plain": [
       "     protein                            intensity_20190325_121_S16_020_CHC_011\n",
       "1    SLC12A2                              836.80987                           \n",
       "2    CASKIN1                             1344.34121                           \n",
       "4    GNG2                                 563.31659                           \n",
       "5    CARNS1                                33.40392                           \n",
       "6    FH                                  3326.60924                           \n",
       "7    EFHD2                                508.48022                           \n",
       "9    PCLO                                2369.33932                           \n",
       "10   HSPA1A;HSPA1B                       7124.78872                           \n",
       "11   STIP1                               1028.55835                           \n",
       "12   CTNND1                               663.97118                           \n",
       "13   INPP5A                               123.46592                           \n",
       "15   SEPT11                              1906.08224                           \n",
       "16   PKP4                                 337.04942                           \n",
       "17   RYR2                                1768.11308                           \n",
       "18   PTPRK                                 96.13215                           \n",
       "19   CAMKV                               3158.82341                           \n",
       "20   BCR                                  275.06173                           \n",
       "21   NDUFV2                              2697.05149                           \n",
       "22   IDH3B                                789.47049                           \n",
       "23   FMNL2                                358.51257                           \n",
       "24   SYT12                               1347.40137                           \n",
       "25   GRHPR                                140.78761                           \n",
       "26   CSE1L                              20076.39270                           \n",
       "27   DNAJC6                              2330.57226                           \n",
       "28   DUSP3                                546.60163                           \n",
       "29   VDAC3                              17834.79847                           \n",
       "31   PITPNM3                              102.99731                           \n",
       "33   SRPK2                                 87.08684                           \n",
       "34   AP2A1                              11983.49310                           \n",
       "35   RCN1                                  58.76281                           \n",
       "⋮    ⋮                                  ⋮                                     \n",
       "4758 KLC1;KLC2;KLC4                       216.16034                           \n",
       "4759 TM9SF3                                56.54726                           \n",
       "4761 PLEKHA6                               18.34902                           \n",
       "4762 KCTD12;KCTD16                        874.55376                           \n",
       "4764 SLC16A7                               17.77719                           \n",
       "4766 PPP3CA;PPP3CB;PPP3CC                2868.60823                           \n",
       "4768 EHD3;EHD4                            374.00680                           \n",
       "4769 PEX14                                 34.72123                           \n",
       "4772 TUBB;TUBB4A;TUBB4B                 62768.18872                           \n",
       "4773 TUBA1A;TUBA1B;TUBA1C;TUBA4A;TUBAL3 10001.43856                           \n",
       "4777 PTPRD;PTPRF                           56.68148                           \n",
       "4779 H1F0                                  35.52444                           \n",
       "4782 FAM210A                              103.40813                           \n",
       "4786 EPB41;EPB41L1;EPB41L3                906.50345                           \n",
       "4788 PABPN1                                64.56487                           \n",
       "4791 KCND2;KCND3                          102.21511                           \n",
       "4792 JMJD7;PLA2G4B                         30.81992                           \n",
       "4795 U2AF1;U2AF1L4;U2AF1L5                 43.60532                           \n",
       "4799 ATP6V1G1;ATP6V1G2                    240.19773                           \n",
       "4800 ATP5J2;ATP5MF                        136.74496                           \n",
       "4802 ACTB                                 171.97973                           \n",
       "4803 ACTG1                                229.91953                           \n",
       "4804 CHMP1A                                33.53112                           \n",
       "4805 MTURN                                 35.17110                           \n",
       "4820 PTMA                                 120.06536                           \n",
       "4821 HIST1H1C                              68.69914                           \n",
       "4822 HIST1H1D;HIST1H1E                    576.64952                           \n",
       "4825 CDIP1                                 60.61889                           \n",
       "4827 LSM8                                  50.09336                           \n",
       "4828 LAMTOR4                               68.45759                           \n",
       "     intensity_20190325_125_S16_044_CHC_007\n",
       "1      881.06951                           \n",
       "2     1049.89367                           \n",
       "4      208.31086                           \n",
       "5       75.57282                           \n",
       "6     4564.59875                           \n",
       "7      571.96033                           \n",
       "9     1029.75211                           \n",
       "10    6129.39109                           \n",
       "11     767.89888                           \n",
       "12     435.31397                           \n",
       "13     135.82106                           \n",
       "15    1562.32753                           \n",
       "16     365.39823                           \n",
       "17    1971.75077                           \n",
       "18      55.53224                           \n",
       "19    2680.40900                           \n",
       "20     271.26194                           \n",
       "21    2154.48898                           \n",
       "22     949.84805                           \n",
       "23     470.01068                           \n",
       "24    1289.28355                           \n",
       "25     220.68721                           \n",
       "26   21394.05450                           \n",
       "27    2157.76167                           \n",
       "28     830.79981                           \n",
       "29   18057.97378                           \n",
       "31     166.70616                           \n",
       "33      83.31784                           \n",
       "34   10685.73287                           \n",
       "35      41.35719                           \n",
       "⋮    ⋮                                     \n",
       "4758    81.42871                           \n",
       "4759    25.24440                           \n",
       "4761    19.10453                           \n",
       "4762   852.92032                           \n",
       "4764    55.38960                           \n",
       "4766  3319.25104                           \n",
       "4768   368.46413                           \n",
       "4769    65.67522                           \n",
       "4772 58050.53066                           \n",
       "4773  1801.15282                           \n",
       "4777    46.16820                           \n",
       "4779    72.60005                           \n",
       "4782    89.49845                           \n",
       "4786   545.29855                           \n",
       "4788    92.47213                           \n",
       "4791    60.29311                           \n",
       "4792    39.00171                           \n",
       "4795    40.65818                           \n",
       "4799   105.76147                           \n",
       "4800   110.17608                           \n",
       "4802   102.83089                           \n",
       "4803   149.37702                           \n",
       "4804    37.20176                           \n",
       "4805    39.33631                           \n",
       "4820    56.58146                           \n",
       "4821   156.93434                           \n",
       "4822  1141.05708                           \n",
       "4825    74.00469                           \n",
       "4827    33.94317                           \n",
       "4828    56.51558                           \n",
       "     intensity_20190325_127_S16_094_CHC_004 intensity_20190325_16_04_037_AD_008\n",
       "1      780.98996                              701.68957                        \n",
       "2      951.79843                              904.19465                        \n",
       "4      350.94199                              232.02806                        \n",
       "5       98.33277                               23.09145                        \n",
       "6     5238.09499                             3906.98843                        \n",
       "7     1722.07907                              406.67353                        \n",
       "9      954.52388                             1652.92346                        \n",
       "10    7834.88395                             6527.18995                        \n",
       "11    2651.63959                              988.76516                        \n",
       "12     452.43910                              397.16527                        \n",
       "13     172.17346                               93.27368                        \n",
       "15    1942.90629                             1892.42676                        \n",
       "16     311.70379                              435.72008                        \n",
       "17    1335.73841                             1512.64058                        \n",
       "18     126.98721                               37.60490                        \n",
       "19    1985.67396                             3428.31040                        \n",
       "20     272.08336                              277.46228                        \n",
       "21    4350.94747                             1720.88481                        \n",
       "22    1189.77244                             1131.09953                        \n",
       "23     467.71437                              392.49422                        \n",
       "24    1134.94910                              602.64228                        \n",
       "25     498.30787                              332.40037                        \n",
       "26   25614.94780                            18009.92414                        \n",
       "27    2060.25796                             2181.53237                        \n",
       "28    1177.57891                             1119.23253                        \n",
       "29   17550.03212                            14590.44389                        \n",
       "31     154.48666                              169.15021                        \n",
       "33      89.65762                               71.02852                        \n",
       "34    7890.83625                            10065.91827                        \n",
       "35      57.66257                               49.54126                        \n",
       "⋮    ⋮                                      ⋮                                  \n",
       "4758    60.660126                             110.33797                        \n",
       "4759     3.914434                              16.98862                        \n",
       "4761    20.154307                              23.74623                        \n",
       "4762   736.164906                            1035.38771                        \n",
       "4764    38.224640                              24.22903                        \n",
       "4766  4273.299296                            3816.76975                        \n",
       "4768   323.260941                             209.11086                        \n",
       "4769    76.695354                              49.88404                        \n",
       "4772 61816.093017                           48939.96829                        \n",
       "4773   169.368351                            4035.06493                        \n",
       "4777    55.328797                              40.84120                        \n",
       "4779    54.195824                              53.88195                        \n",
       "4782    81.969615                              63.26030                        \n",
       "4786   485.702344                             701.33762                        \n",
       "4788    95.128724                              29.59496                        \n",
       "4791    49.325050                              60.68333                        \n",
       "4792    33.241943                              51.93361                        \n",
       "4795    41.749822                              35.35361                        \n",
       "4799   186.439077                              92.55407                        \n",
       "4800    42.095159                              54.93447                        \n",
       "4802    48.356351                             125.02589                        \n",
       "4803    62.255384                             164.89106                        \n",
       "4804    38.010692                              22.50076                        \n",
       "4805    40.613760                              60.12420                        \n",
       "4820   186.382636                              58.97763                        \n",
       "4821   101.711110                              87.09051                        \n",
       "4822  1094.788868                             638.54204                        \n",
       "4825    68.971560                              51.67504                        \n",
       "4827    69.112695                              44.16863                        \n",
       "4828   120.171671                              81.15357                        \n",
       "     intensity_20190325_183_S10_292_AD_010\n",
       "1     1245.36392                          \n",
       "2      651.40811                          \n",
       "4      210.62083                          \n",
       "5      307.11463                          \n",
       "6     3662.44502                          \n",
       "7      543.35073                          \n",
       "9     1520.51650                          \n",
       "10   11445.45274                          \n",
       "11    1302.06611                          \n",
       "12     477.16544                          \n",
       "13     102.81152                          \n",
       "15    1721.95816                          \n",
       "16     339.62828                          \n",
       "17    1564.86389                          \n",
       "18      91.26286                          \n",
       "19    2263.39686                          \n",
       "20     206.01317                          \n",
       "21    1972.02665                          \n",
       "22    1257.66093                          \n",
       "23     746.70880                          \n",
       "24     441.08296                          \n",
       "25     572.76199                          \n",
       "26   32391.73897                          \n",
       "27    1624.33018                          \n",
       "28    1024.66376                          \n",
       "29   12841.31074                          \n",
       "31      71.35628                          \n",
       "33      67.75679                          \n",
       "34    7827.00889                          \n",
       "35      44.25458                          \n",
       "⋮    ⋮                                    \n",
       "4758   145.81803                          \n",
       "4759    48.94318                          \n",
       "4761    13.45635                          \n",
       "4762   590.88579                          \n",
       "4764    11.60774                          \n",
       "4766  1877.62488                          \n",
       "4768   272.41957                          \n",
       "4769    14.84781                          \n",
       "4772 46172.23031                          \n",
       "4773  6172.21721                          \n",
       "4777    44.39055                          \n",
       "4779   198.34128                          \n",
       "4782    44.43590                          \n",
       "4786   773.85509                          \n",
       "4788    67.25413                          \n",
       "4791    71.68276                          \n",
       "4792    48.33491                          \n",
       "4795    49.20362                          \n",
       "4799   106.47903                          \n",
       "4800   133.89128                          \n",
       "4802   143.31593                          \n",
       "4803   167.97006                          \n",
       "4804    12.61949                          \n",
       "4805    62.11357                          \n",
       "4820   108.37290                          \n",
       "4821   258.06085                          \n",
       "4822  1676.11186                          \n",
       "4825    51.26438                          \n",
       "4827    64.60669                          \n",
       "4828   100.99627                          \n",
       "     intensity_20190325_194_S02_055_ND_005 intensity_20190325_31_01_184_AD_006\n",
       "1     1264.51784                             795.12072                        \n",
       "2     1497.91167                             667.30437                        \n",
       "4      242.26756                             161.09872                        \n",
       "5      101.08390                              99.64686                        \n",
       "6     2009.79815                            4318.91514                        \n",
       "7      303.94769                             783.93013                        \n",
       "9     2583.51659                            1804.85497                        \n",
       "10    5029.23535                            9876.28243                        \n",
       "11     334.72548                            1739.11160                        \n",
       "12     668.63766                             484.34126                        \n",
       "13     122.94388                             127.57161                        \n",
       "15    1126.21032                            1776.09189                        \n",
       "16     366.79385                             223.26142                        \n",
       "17    2402.36677                            1515.58687                        \n",
       "18      69.00173                              90.64721                        \n",
       "19    3039.36610                            2343.28669                        \n",
       "20     364.20165                             261.50151                        \n",
       "21    1776.99442                            1697.51442                        \n",
       "22     790.49521                            1153.38551                        \n",
       "23     541.07100                             544.37136                        \n",
       "24    1456.45571                             533.26565                        \n",
       "25      94.52390                             584.31267                        \n",
       "26   23936.62803                           30269.04082                        \n",
       "27    2497.42617                            1593.58452                        \n",
       "28     387.35284                             942.79550                        \n",
       "29   17192.90139                           14085.85484                        \n",
       "31     134.72583                              81.23354                        \n",
       "33      78.04759                              59.40742                        \n",
       "34   12767.51131                            7897.75691                        \n",
       "35      34.59118                              74.34772                        \n",
       "⋮    ⋮                                     ⋮                                  \n",
       "4758   143.34139                             100.058995                       \n",
       "4759    15.64584                              27.899557                       \n",
       "4761    27.16344                              17.876217                       \n",
       "4762   813.79584                             793.703545                       \n",
       "4764    28.13527                              18.287183                       \n",
       "4766   990.09828                            2501.007543                       \n",
       "4768   431.83278                             316.186153                       \n",
       "4769    32.84006                              21.047438                       \n",
       "4772 64525.50116                           53087.321965                       \n",
       "4773  2885.02059                            3682.349634                       \n",
       "4777    64.32828                              40.093780                       \n",
       "4779    55.89123                             143.847383                       \n",
       "4782    95.15640                              52.204464                       \n",
       "4786   669.68830                             720.971641                       \n",
       "4788    47.15222                              80.385546                       \n",
       "4791    84.21218                              55.131636                       \n",
       "4792    22.22962                              53.671141                       \n",
       "4795    40.50421                              54.603400                       \n",
       "4799   158.26922                              63.840785                       \n",
       "4800   107.43955                               3.867245                       \n",
       "4802   117.64489                             134.950005                       \n",
       "4803   104.35544                             177.161118                       \n",
       "4804    43.27871                              14.586035                       \n",
       "4805    26.24305                              64.250598                       \n",
       "4820    40.57689                              93.483229                       \n",
       "4821    80.70963                             239.984644                       \n",
       "4822   753.53817                            1519.286448                       \n",
       "4825   102.51686                              79.183914                       \n",
       "4827    25.24368                              58.293556                       \n",
       "4828    73.21581                             127.885838                       \n",
       "     intensity_20190325_57_S97_235_AD_003 intensity_20190325_77_S11_072_ND_012\n",
       "1      810.26815                            729.90767                         \n",
       "2      865.30500                           1022.58727                         \n",
       "4      218.97718                            377.72039                         \n",
       "5      112.03207                             42.20178                         \n",
       "6     4116.81168                           3991.92090                         \n",
       "7     1165.80121                            602.14280                         \n",
       "9     1677.07029                           2357.03278                         \n",
       "10   10660.13041                           5758.54005                         \n",
       "11    2405.02599                            774.17336                         \n",
       "12     426.80625                            387.34155                         \n",
       "13     119.38441                            130.82317                         \n",
       "15    1784.36458                           1819.78496                         \n",
       "16     223.97749                            264.25319                         \n",
       "17    1364.19632                           1620.37570                         \n",
       "18      69.32537                             54.71727                         \n",
       "19    2639.24023                           3149.70405                         \n",
       "20     240.79399                            226.90050                         \n",
       "21    2053.71573                           2013.22807                         \n",
       "22    1034.66800                           1253.41534                         \n",
       "23     564.06847                            336.61802                         \n",
       "24     549.42687                           1042.83529                         \n",
       "25     557.72113                            210.88116                         \n",
       "26   25758.39257                          20466.99688                         \n",
       "27    1647.36504                           2397.09261                         \n",
       "28     820.96329                           1174.47842                         \n",
       "29   13446.76350                          18114.56670                         \n",
       "31     125.61356                            149.80167                         \n",
       "33      83.08460                             78.86461                         \n",
       "34    8443.87131                          11248.57694                         \n",
       "35      40.92395                             52.60008                         \n",
       "⋮    ⋮                                    ⋮                                   \n",
       "4758   116.68921                            137.52070                         \n",
       "4759    25.24162                             24.11220                         \n",
       "4761    26.60670                             12.57684                         \n",
       "4762   805.91144                            904.06549                         \n",
       "4764    30.24788                             39.84080                         \n",
       "4766  3171.34720                           3839.18986                         \n",
       "4768   305.76610                            472.64509                         \n",
       "4769    60.46507                             54.49397                         \n",
       "4772 44844.78821                          60509.99137                         \n",
       "4773  3638.89086                           6452.12613                         \n",
       "4777    40.65706                             46.37370                         \n",
       "4779    79.44331                             53.29782                         \n",
       "4782    59.25372                             73.19240                         \n",
       "4786   831.20482                           1191.21394                         \n",
       "4788    66.77388                             54.93410                         \n",
       "4791    56.73816                             71.80532                         \n",
       "4792    54.31205                             59.32425                         \n",
       "4795    42.23173                             44.13485                         \n",
       "4799    94.70392                            118.05221                         \n",
       "4800    94.01394                            127.02001                         \n",
       "4802   104.85303                            109.40300                         \n",
       "4803   143.41467                            145.53764                         \n",
       "4804    22.90596                             32.36811                         \n",
       "4805    51.28072                             58.86401                         \n",
       "4820   219.07845                             79.26335                         \n",
       "4821   253.88674                             94.74115                         \n",
       "4822  1340.21806                            740.69488                         \n",
       "4825    54.69930                             64.54438                         \n",
       "4827    60.78698                             48.72469                         \n",
       "4828   129.93762                             77.24328                         \n",
       "     ⋯ intensity_20190507_21_01_032_AD_221 intensity_20190507_27_00_204_AD_211\n",
       "1    ⋯   917.08439                           851.88556                        \n",
       "2    ⋯   753.06675                           692.13651                        \n",
       "4    ⋯   183.91086                           133.00780                        \n",
       "5    ⋯    55.58988                           164.73288                        \n",
       "6    ⋯  5109.84351                          3684.03726                        \n",
       "7    ⋯   712.87081                           802.54044                        \n",
       "9    ⋯  2564.36720                          1907.63409                        \n",
       "10   ⋯  7159.83303                         10712.43211                        \n",
       "11   ⋯  1464.82937                          1376.75255                        \n",
       "12   ⋯   467.00321                           547.09277                        \n",
       "13   ⋯   161.62703                           107.11325                        \n",
       "15   ⋯  1875.01951                          1797.40917                        \n",
       "16   ⋯   262.06160                           283.66532                        \n",
       "17   ⋯  1806.45651                          1363.62145                        \n",
       "18   ⋯    80.11634                            94.62571                        \n",
       "19   ⋯  2969.86342                          2499.57163                        \n",
       "20   ⋯   338.19358                           216.95237                        \n",
       "21   ⋯  2483.42244                          1997.27333                        \n",
       "22   ⋯   989.91466                           973.51222                        \n",
       "23   ⋯   520.43825                           712.79039                        \n",
       "24   ⋯   747.68836                           630.28826                        \n",
       "25   ⋯   327.84410                           460.66877                        \n",
       "26   ⋯ 28463.91980                         31540.49788                        \n",
       "27   ⋯  2232.26690                          1963.81456                        \n",
       "28   ⋯  1200.33511                          1027.32980                        \n",
       "29   ⋯ 18992.83025                         14873.77619                        \n",
       "31   ⋯   117.41667                            95.79831                        \n",
       "33   ⋯    59.08290                            69.03947                        \n",
       "34   ⋯ 10042.27867                          9052.42253                        \n",
       "35   ⋯    88.17278                            43.85331                        \n",
       "⋮    ⋱ ⋮                                   ⋮                                  \n",
       "4758 ⋯    96.66541                           102.241862                       \n",
       "4759 ⋯    29.02346                            34.507870                       \n",
       "4761 ⋯    10.71388                            17.450905                       \n",
       "4762 ⋯   936.44136                           719.595017                       \n",
       "4764 ⋯     6.35354                             8.927504                       \n",
       "4766 ⋯  4233.23782                          2251.997837                       \n",
       "4768 ⋯   347.25412                           345.974893                       \n",
       "4769 ⋯    39.09009                            29.462436                       \n",
       "4772 ⋯ 78207.91147                         76761.433827                       \n",
       "4773 ⋯  4185.28667                          4968.308306                       \n",
       "4777 ⋯    47.90000                            34.976188                       \n",
       "4779 ⋯   171.94018                           124.321508                       \n",
       "4782 ⋯    76.86124                            60.339445                       \n",
       "4786 ⋯  1067.59321                          1154.424820                       \n",
       "4788 ⋯    58.03835                            68.755950                       \n",
       "4791 ⋯    77.82722                            78.201003                       \n",
       "4792 ⋯    43.14729                            54.844574                       \n",
       "4795 ⋯    50.48158                            44.705622                       \n",
       "4799 ⋯    90.93723                            63.174032                       \n",
       "4800 ⋯   102.51971                           141.564573                       \n",
       "4802 ⋯    71.78043                           106.661146                       \n",
       "4803 ⋯    83.32112                           133.599475                       \n",
       "4804 ⋯    24.85275                            32.273675                       \n",
       "4805 ⋯    50.01676                            59.006061                       \n",
       "4820 ⋯    69.89553                            96.536804                       \n",
       "4821 ⋯   170.94172                           254.739105                       \n",
       "4822 ⋯  1292.81878                          1694.103200                       \n",
       "4825 ⋯    59.38591                            62.098145                       \n",
       "4827 ⋯    54.06854                            55.294221                       \n",
       "4828 ⋯   108.74447                           111.435808                       \n",
       "     intensity_20190507_29_S99_240_AD_219 intensity_20190507_30_S05_040_AD_209\n",
       "1      796.88906                            663.22765                         \n",
       "2      507.57334                           1103.08975                         \n",
       "4      153.79479                            229.45112                         \n",
       "5       49.12562                             29.13836                         \n",
       "6     4991.14490                           3601.41144                         \n",
       "7      890.61294                            375.67400                         \n",
       "9     2410.77471                           2943.85799                         \n",
       "10   10114.79332                           7628.30538                         \n",
       "11    1398.01876                           1322.92881                         \n",
       "12     396.58842                            501.19195                         \n",
       "13     140.10738                            137.25976                         \n",
       "15    2097.27379                           1926.15282                         \n",
       "16     310.63668                            323.51874                         \n",
       "17    1325.89722                           1703.11456                         \n",
       "18      48.75582                             72.56540                         \n",
       "19    2426.47203                           3419.06123                         \n",
       "20     238.98965                            304.87661                         \n",
       "21    2442.74184                           2151.51965                         \n",
       "22    1331.73601                            995.61509                         \n",
       "23     505.56247                            413.17870                         \n",
       "24     784.87209                            657.88134                         \n",
       "25     387.38761                            266.78688                         \n",
       "26   23977.46984                          21606.71425                         \n",
       "27    2166.15253                           2068.86953                         \n",
       "28    1111.17985                            509.86104                         \n",
       "29   15799.80990                          17354.70356                         \n",
       "31      99.84140                            101.36388                         \n",
       "33      83.41666                             62.88887                         \n",
       "34    9893.07105                          11645.51408                         \n",
       "35      71.48368                             61.93211                         \n",
       "⋮    ⋮                                    ⋮                                   \n",
       "4758    83.76828                             75.21234                         \n",
       "4759    38.05774                             34.98546                         \n",
       "4761    20.19081                             23.90907                         \n",
       "4762   859.95591                           1012.85754                         \n",
       "4764    16.13988                             25.96853                         \n",
       "4766  2188.95769                           2955.40641                         \n",
       "4768   301.92187                            457.62326                         \n",
       "4769    14.29512                             20.42446                         \n",
       "4772 68442.60870                          82223.22887                         \n",
       "4773  4525.92550                           4061.29555                         \n",
       "4777    34.27414                             41.69617                         \n",
       "4779    98.17444                             84.89860                         \n",
       "4782    69.53595                             65.25712                         \n",
       "4786   852.72927                           1062.20402                         \n",
       "4788    67.49455                             75.77816                         \n",
       "4791    68.46645                             86.31211                         \n",
       "4792    51.39434                             37.02016                         \n",
       "4795    47.09661                             39.29596                         \n",
       "4799    79.28208                             88.67332                         \n",
       "4800   148.31024                            131.41429                         \n",
       "4802   103.40263                            132.89694                         \n",
       "4803   103.65948                            135.42950                         \n",
       "4804    10.66484                             23.73343                         \n",
       "4805    58.07628                             31.52005                         \n",
       "4820    65.37258                             73.12520                         \n",
       "4821   119.50522                            119.89265                         \n",
       "4822  1284.79120                            960.62624                         \n",
       "4825    57.87191                             98.74187                         \n",
       "4827    46.28664                             46.44952                         \n",
       "4828   115.36710                             95.98967                         \n",
       "     intensity_20190507_63_04_027_AD_217 intensity_20190507_72_S99_219_AD_213\n",
       "1      941.54816                           932.08231                         \n",
       "2      693.45142                           874.55879                         \n",
       "4      256.21317                           195.04436                         \n",
       "5      139.90373                            53.68109                         \n",
       "6     3848.70803                          4560.84202                         \n",
       "7      657.88005                          1211.05592                         \n",
       "9      831.38952                          2446.47573                         \n",
       "10    6270.58343                         10350.33344                         \n",
       "11    1183.51846                          1722.29743                         \n",
       "12     485.35993                           462.42575                         \n",
       "13     114.90099                           164.23701                         \n",
       "15    1904.50188                          1896.74273                         \n",
       "16     321.58506                           179.87510                         \n",
       "17    1701.70130                          1460.71920                         \n",
       "18     130.22648                            92.59033                         \n",
       "19    2917.25054                          2801.57424                         \n",
       "20     309.96353                           244.60385                         \n",
       "21    1762.12458                          2211.98624                         \n",
       "22     965.64023                           981.76879                         \n",
       "23     617.09886                           556.83323                         \n",
       "24     514.82543                           670.35515                         \n",
       "25     247.85780                           407.30635                         \n",
       "26   29366.84042                         29204.85006                         \n",
       "27    2011.97768                          2121.82046                         \n",
       "28     987.44403                          1151.33715                         \n",
       "29   15536.13257                         16917.24820                         \n",
       "31     101.91946                            90.83775                         \n",
       "33      60.51851                            82.36228                         \n",
       "34    9294.26569                          9889.37404                         \n",
       "35      55.05996                            79.59924                         \n",
       "⋮    ⋮                                   ⋮                                   \n",
       "4758    94.98581                            77.14257                         \n",
       "4759    39.61851                            33.00929                         \n",
       "4761    21.64301                            21.28424                         \n",
       "4762   821.21906                           840.84291                         \n",
       "4764    18.83417                            24.09176                         \n",
       "4766  3316.46924                          3210.19344                         \n",
       "4768   389.65367                           447.34936                         \n",
       "4769    22.88304                            31.25208                         \n",
       "4772 88640.30841                         88969.78432                         \n",
       "4773  4643.57065                          3555.29439                         \n",
       "4777    37.34074                            45.15722                         \n",
       "4779   147.14489                           116.79473                         \n",
       "4782    57.19815                            70.91829                         \n",
       "4786  1476.19288                          1539.40003                         \n",
       "4788    50.35426                            75.13077                         \n",
       "4791    71.68179                            74.05749                         \n",
       "4792    25.97695                            50.77305                         \n",
       "4795    38.47454                            45.42576                         \n",
       "4799    88.11349                            69.51750                         \n",
       "4800    55.80040                           103.55184                         \n",
       "4802   109.56536                           106.93676                         \n",
       "4803   103.57304                           107.93333                         \n",
       "4804    21.40087                            24.44672                         \n",
       "4805    47.76836                            47.82806                         \n",
       "4820    98.32459                           203.21890                         \n",
       "4821   246.41720                           216.42105                         \n",
       "4822  2159.04163                          1541.43352                         \n",
       "4825    54.39642                            44.65669                         \n",
       "4827    52.71434                            57.20741                         \n",
       "4828   136.87488                            98.86712                         \n",
       "     intensity_20190606_106_NABCA14_08_ND_RERUN\n",
       "1     1052.79254                               \n",
       "2      900.35601                               \n",
       "4      164.62043                               \n",
       "5       93.04210                               \n",
       "6     4917.91263                               \n",
       "7     1528.88668                               \n",
       "9     3547.34325                               \n",
       "10    8784.79637                               \n",
       "11    2017.77206                               \n",
       "12     472.56836                               \n",
       "13     152.94865                               \n",
       "15    1392.79831                               \n",
       "16     238.18568                               \n",
       "17    1373.95495                               \n",
       "18      64.41619                               \n",
       "19    2516.73623                               \n",
       "20     211.79801                               \n",
       "21    2391.84040                               \n",
       "22    1210.43024                               \n",
       "23     501.10169                               \n",
       "24    1124.62855                               \n",
       "25     589.92086                               \n",
       "26    7367.18777                               \n",
       "27    2261.53011                               \n",
       "28    1118.08486                               \n",
       "29   14653.42833                               \n",
       "31     123.98918                               \n",
       "33      82.06934                               \n",
       "34   10258.98197                               \n",
       "35      98.01541                               \n",
       "⋮    ⋮                                         \n",
       "4758    42.983891                              \n",
       "4759    40.245741                              \n",
       "4761     7.159314                              \n",
       "4762   760.150195                              \n",
       "4764    48.044534                              \n",
       "4766  5369.912865                              \n",
       "4768   430.048672                              \n",
       "4769    59.400252                              \n",
       "4772 76382.499944                              \n",
       "4773  1815.573359                              \n",
       "4777    23.270882                              \n",
       "4779   125.112004                              \n",
       "4782    56.722174                              \n",
       "4786  1355.147483                              \n",
       "4788    69.558404                              \n",
       "4791    48.879016                              \n",
       "4792    23.232100                              \n",
       "4795    34.114154                              \n",
       "4799    73.433352                              \n",
       "4800   185.368073                              \n",
       "4802   122.909060                              \n",
       "4803   144.040028                              \n",
       "4804    32.474943                              \n",
       "4805    38.892645                              \n",
       "4820   295.284804                              \n",
       "4821   452.858557                              \n",
       "4822   542.756945                              \n",
       "4825    73.187073                              \n",
       "4827    45.816914                              \n",
       "4828   115.173852                              \n",
       "     intensity_20190606_140_2017_027_CHC_RERUN\n",
       "1      917.45960                              \n",
       "2      786.30930                              \n",
       "4      179.79677                              \n",
       "5      134.53807                              \n",
       "6     4758.63636                              \n",
       "7     1777.48636                              \n",
       "9     3332.46509                              \n",
       "10    8276.78113                              \n",
       "11    1685.91565                              \n",
       "12     413.31748                              \n",
       "13     126.45722                              \n",
       "15    1129.75966                              \n",
       "16     169.70571                              \n",
       "17    1316.57279                              \n",
       "18     125.93495                              \n",
       "19    2633.27726                              \n",
       "20     250.24701                              \n",
       "21    1841.78407                              \n",
       "22    1234.96865                              \n",
       "23     450.11418                              \n",
       "24     663.40806                              \n",
       "25     517.62409                              \n",
       "26   10214.42718                              \n",
       "27    2132.47581                              \n",
       "28    1010.96195                              \n",
       "29   14099.65346                              \n",
       "31      92.92531                              \n",
       "33      90.36131                              \n",
       "34    9805.11403                              \n",
       "35      71.11574                              \n",
       "⋮    ⋮                                        \n",
       "4758    25.90618                              \n",
       "4759    30.52803                              \n",
       "4761    11.65796                              \n",
       "4762   889.54193                              \n",
       "4764    37.34120                              \n",
       "4766  4851.42238                              \n",
       "4768   420.59726                              \n",
       "4769    53.88289                              \n",
       "4772 93714.07777                              \n",
       "4773  1044.47103                              \n",
       "4777    12.42309                              \n",
       "4779   172.55529                              \n",
       "4782    55.21940                              \n",
       "4786  1112.23684                              \n",
       "4788    85.19130                              \n",
       "4791    45.93482                              \n",
       "4792    76.35774                              \n",
       "4795    34.81661                              \n",
       "4799    65.40213                              \n",
       "4800   151.95125                              \n",
       "4802   116.49712                              \n",
       "4803   102.65721                              \n",
       "4804    28.84260                              \n",
       "4805    54.96380                              \n",
       "4820   235.91354                              \n",
       "4821   396.08204                              \n",
       "4822   472.66687                              \n",
       "4825    78.87554                              \n",
       "4827    39.42721                              \n",
       "4828   101.91294                              \n",
       "     intensity_20190606_20_S00_166_AD_RERUN\n",
       "1      813.67832                           \n",
       "2     1033.71160                           \n",
       "4      190.60729                           \n",
       "5      104.82207                           \n",
       "6     4190.09930                           \n",
       "7      945.07368                           \n",
       "9     2784.91200                           \n",
       "10    8458.72235                           \n",
       "11    1494.30325                           \n",
       "12     437.44125                           \n",
       "13     171.14841                           \n",
       "15    2068.73821                           \n",
       "16     330.59934                           \n",
       "17    1569.69648                           \n",
       "18      62.36007                           \n",
       "19    3562.53047                           \n",
       "20     279.15964                           \n",
       "21    1981.93759                           \n",
       "22     975.34282                           \n",
       "23     416.92213                           \n",
       "24     989.08030                           \n",
       "25     241.66586                           \n",
       "26   17863.71787                           \n",
       "27    2255.45426                           \n",
       "28     679.69132                           \n",
       "29   17873.88529                           \n",
       "31     147.25619                           \n",
       "33      79.74562                           \n",
       "34   10723.82450                           \n",
       "35      79.86997                           \n",
       "⋮    ⋮                                     \n",
       "4758   101.18740                           \n",
       "4759    31.29675                           \n",
       "4761    19.65614                           \n",
       "4762   810.27840                           \n",
       "4764    24.67981                           \n",
       "4766  4353.61948                           \n",
       "4768   414.19800                           \n",
       "4769    60.46053                           \n",
       "4772 86748.45372                           \n",
       "4773  5413.36161                           \n",
       "4777    54.76745                           \n",
       "4779   131.21527                           \n",
       "4782    78.32464                           \n",
       "4786  1701.61568                           \n",
       "4788    78.29586                           \n",
       "4791    69.35005                           \n",
       "4792    43.72344                           \n",
       "4795    38.61068                           \n",
       "4799   100.54053                           \n",
       "4800   171.03806                           \n",
       "4802   125.06371                           \n",
       "4803   123.33541                           \n",
       "4804    29.70283                           \n",
       "4805    47.80332                           \n",
       "4820   172.82885                           \n",
       "4821   120.66592                           \n",
       "4822  1126.40833                           \n",
       "4825    78.61882                           \n",
       "4827    44.77698                           \n",
       "4828   103.74489                           \n",
       "     intensity_20190606_9_S93_025_AD_RERUN\n",
       "1      865.75086                          \n",
       "2      805.19428                          \n",
       "4      213.85196                          \n",
       "5      119.33094                          \n",
       "6     5038.00332                          \n",
       "7     1577.98572                          \n",
       "9     3311.11634                          \n",
       "10   10499.10328                          \n",
       "11    2335.50754                          \n",
       "12     406.05513                          \n",
       "13     141.38982                          \n",
       "15    1346.13901                          \n",
       "16     224.33991                          \n",
       "17    1218.38867                          \n",
       "18      96.67608                          \n",
       "19    2716.31824                          \n",
       "20     255.12209                          \n",
       "21    2221.17412                          \n",
       "22     973.13334                          \n",
       "23     552.46070                          \n",
       "24     582.24181                          \n",
       "25     651.76991                          \n",
       "26   13544.08644                          \n",
       "27    2098.58135                          \n",
       "28     911.14807                          \n",
       "29   13269.31067                          \n",
       "31     122.15082                          \n",
       "33      74.00142                          \n",
       "34   10177.06788                          \n",
       "35      98.82962                          \n",
       "⋮    ⋮                                    \n",
       "4758    43.17907                          \n",
       "4759    34.78107                          \n",
       "4761    19.65989                          \n",
       "4762  1035.57138                          \n",
       "4764    20.16108                          \n",
       "4766  4942.35228                          \n",
       "4768   388.78268                          \n",
       "4769    51.60360                          \n",
       "4772 78130.67059                          \n",
       "4773  1599.87212                          \n",
       "4777    18.77311                          \n",
       "4779   254.63077                          \n",
       "4782    56.82053                          \n",
       "4786  1328.91314                          \n",
       "4788    85.87782                          \n",
       "4791    34.30306                          \n",
       "4792    90.23540                          \n",
       "4795    31.93292                          \n",
       "4799   107.44218                          \n",
       "4800   226.20652                          \n",
       "4802   151.20023                          \n",
       "4803   175.52978                          \n",
       "4804    24.46553                          \n",
       "4805    42.62395                          \n",
       "4820   360.35583                          \n",
       "4821    98.08703                          \n",
       "4822   958.26245                          \n",
       "4825    83.59697                          \n",
       "4827    57.29603                          \n",
       "4828   126.55149                          "
      ]
     },
     "metadata": {},
     "output_type": "display_data"
    }
   ],
   "source": [
    "protein_intensity[protein_g90_index[-which(protein_inten_quality$WQ > 0.5)], ]"
   ]
  },
  {
   "cell_type": "code",
   "execution_count": 119,
   "metadata": {},
   "outputs": [],
   "source": [
    "protein_intensity_new <- aggregate_peptide_protein_intensity(peptide_intens_new)"
   ]
  },
  {
   "cell_type": "code",
   "execution_count": 120,
   "metadata": {},
   "outputs": [],
   "source": [
    "protein_intensity_new <- protein_intensity_new[protein_g90_index, ]"
   ]
  },
  {
   "cell_type": "code",
   "execution_count": 129,
   "metadata": {
    "scrolled": true
   },
   "outputs": [
    {
     "data": {
      "text/html": [
       "3448"
      ],
      "text/latex": [
       "3448"
      ],
      "text/markdown": [
       "3448"
      ],
      "text/plain": [
       "[1] 3448"
      ]
     },
     "metadata": {},
     "output_type": "display_data"
    }
   ],
   "source": [
    "sum(as.character(protein_intensity_new$protein) == as.character(protein_intensity[protein_g90_index[-which(protein_inten_quality$WQ > 0.5)], ]$protein))"
   ]
  },
  {
   "cell_type": "code",
   "execution_count": null,
   "metadata": {},
   "outputs": [],
   "source": []
  },
  {
   "cell_type": "code",
   "execution_count": null,
   "metadata": {},
   "outputs": [],
   "source": []
  },
  {
   "cell_type": "code",
   "execution_count": 132,
   "metadata": {},
   "outputs": [
    {
     "data": {
      "text/html": [
       "<style>\n",
       ".list-inline {list-style: none; margin:0; padding: 0}\n",
       ".list-inline>li {display: inline-block}\n",
       ".list-inline>li:not(:last-child)::after {content: \"\\00b7\"; padding: 0 .5ex}\n",
       "</style>\n",
       "<ol class=list-inline><li>4829</li><li>191</li></ol>\n"
      ],
      "text/latex": [
       "\\begin{enumerate*}\n",
       "\\item 4829\n",
       "\\item 191\n",
       "\\end{enumerate*}\n"
      ],
      "text/markdown": [
       "1. 4829\n",
       "2. 191\n",
       "\n",
       "\n"
      ],
      "text/plain": [
       "[1] 4829  191"
      ]
     },
     "metadata": {},
     "output_type": "display_data"
    },
    {
     "data": {
      "text/html": [
       "<style>\n",
       ".list-inline {list-style: none; margin:0; padding: 0}\n",
       ".list-inline>li {display: inline-block}\n",
       ".list-inline>li:not(:last-child)::after {content: \"\\00b7\"; padding: 0 .5ex}\n",
       "</style>\n",
       "<ol class=list-inline><li>1381</li><li>191</li></ol>\n"
      ],
      "text/latex": [
       "\\begin{enumerate*}\n",
       "\\item 1381\n",
       "\\item 191\n",
       "\\end{enumerate*}\n"
      ],
      "text/markdown": [
       "1. 1381\n",
       "2. 191\n",
       "\n",
       "\n"
      ],
      "text/plain": [
       "[1] 1381  191"
      ]
     },
     "metadata": {},
     "output_type": "display_data"
    },
    {
     "data": {
      "text/html": [
       "<style>\n",
       ".list-inline {list-style: none; margin:0; padding: 0}\n",
       ".list-inline>li {display: inline-block}\n",
       ".list-inline>li:not(:last-child)::after {content: \"\\00b7\"; padding: 0 .5ex}\n",
       "</style>\n",
       "<ol class=list-inline><li>3448</li><li>191</li></ol>\n"
      ],
      "text/latex": [
       "\\begin{enumerate*}\n",
       "\\item 3448\n",
       "\\item 191\n",
       "\\end{enumerate*}\n"
      ],
      "text/markdown": [
       "1. 3448\n",
       "2. 191\n",
       "\n",
       "\n"
      ],
      "text/plain": [
       "[1] 3448  191"
      ]
     },
     "metadata": {},
     "output_type": "display_data"
    }
   ],
   "source": [
    "dim(protein_intensity)\n",
    "dim(prot_star[-protein_g90_index[-which(protein_inten_quality$WQ > 0.5)],])\n",
    "dim(protein_intensity[protein_g90_index[-which(protein_inten_quality$WQ > 0.5)], ])"
   ]
  },
  {
   "cell_type": "code",
   "execution_count": 133,
   "metadata": {},
   "outputs": [],
   "source": [
    "write.table(protein_intensity[protein_g90_index[-which(protein_inten_quality$WQ > 0.5)], ], file = \"R_workstation/100_plus_proteomic_DATA/High_quality_protein_intensity_matrix.tsv\", append = FALSE, quote = FALSE, \n",
    "            sep = \"\\t\", eol = \"\\n\", na = \"NA\", dec = \".\", row.names = FALSE, col.names = TRUE)"
   ]
  },
  {
   "cell_type": "code",
   "execution_count": 134,
   "metadata": {},
   "outputs": [],
   "source": [
    "write.table(prot_star[-protein_g90_index[-which(protein_inten_quality$WQ > 0.5)],], file = \"R_workstation/100_plus_proteomic_DATA/Low_quality_protein_good_measurement_count_matrix.tsv\", append = FALSE, quote = FALSE, \n",
    "            sep = \"\\t\", eol = \"\\n\", na = \"NA\", dec = \".\", row.names = FALSE, col.names = TRUE)"
   ]
  },
  {
   "cell_type": "code",
   "execution_count": null,
   "metadata": {},
   "outputs": [],
   "source": []
  },
  {
   "cell_type": "code",
   "execution_count": 2,
   "metadata": {},
   "outputs": [],
   "source": [
    "prot_star <- read.table(\"/Users/zhangmeng/ownCloud/Meng/R_workstation/100_plus_proteomic_DATA/Low_quality_protein_good_measurement_count_matrix.tsv\",  \n",
    "            sep = \"\\t\", head = TRUE)"
   ]
  },
  {
   "cell_type": "code",
   "execution_count": null,
   "metadata": {},
   "outputs": [],
   "source": []
  },
  {
   "cell_type": "code",
   "execution_count": null,
   "metadata": {},
   "outputs": [],
   "source": []
  }
 ],
 "metadata": {
  "kernelspec": {
   "display_name": "R",
   "language": "R",
   "name": "ir"
  },
  "language_info": {
   "codemirror_mode": "r",
   "file_extension": ".r",
   "mimetype": "text/x-r-source",
   "name": "R",
   "pygments_lexer": "r",
   "version": "3.6.3"
  }
 },
 "nbformat": 4,
 "nbformat_minor": 2
}
